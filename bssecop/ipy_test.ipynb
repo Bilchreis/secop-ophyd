{
 "cells": [
  {
   "cell_type": "code",
   "execution_count": 2,
   "metadata": {},
   "outputs": [
    {
     "ename": "SyntaxError",
     "evalue": "invalid syntax (SECoPSignal.py, line 13)",
     "output_type": "error",
     "traceback": [
      "Traceback \u001b[0;36m(most recent call last)\u001b[0m:\n",
      "\u001b[0m  File \u001b[1;32m~/gitrepos/bssecop/.venv/lib/python3.11/site-packages/IPython/core/interactiveshell.py:3508\u001b[0m in \u001b[1;35mrun_code\u001b[0m\n    exec(code_obj, self.user_global_ns, self.user_ns)\u001b[0m\n",
      "\u001b[0m  Cell \u001b[1;32mIn[2], line 13\u001b[0m\n    from bssecop.SECoPDevices import SECoP_Node_Device\u001b[0m\n",
      "\u001b[0;36m  File \u001b[0;32m~/gitrepos/bssecop/bssecop/SECoPDevices.py:32\u001b[0;36m\n\u001b[0;31m    from bssecop.SECoPSignal import *\u001b[0;36m\n",
      "\u001b[0;36m  File \u001b[0;32m~/gitrepos/bssecop/bssecop/SECoPSignal.py:13\u001b[0;36m\u001b[0m\n\u001b[0;31m    import collections.abc^\u001b[0m\n\u001b[0m                          ^\u001b[0m\n\u001b[0;31mSyntaxError\u001b[0m\u001b[0;31m:\u001b[0m invalid syntax\n"
     ]
    }
   ],
   "source": [
    "\n",
    "\n",
    "# Import bluesky and ophyd\n",
    "import matplotlib.pyplot as plt\n",
    "from bluesky import RunEngine\n",
    "from bluesky.run_engine import get_bluesky_event_loop\n",
    "from bluesky.callbacks.best_effort import BestEffortCallback\n",
    "from bluesky.plan_stubs import *\n",
    "from bluesky.plans import *\n",
    "\n",
    "import asyncio\n",
    "\n",
    "\n",
    "from bluesky.utils import ProgressBarManager\n",
    "from bssecop.SECoPDevices import SECoP_Node_Device\n",
    "from AsyncSecopClient import *\n",
    "from SECoPSignal import deep_get\n",
    "\n",
    "\n",
    "\n",
    "\n"
   ]
  },
  {
   "cell_type": "code",
   "execution_count": null,
   "metadata": {},
   "outputs": [],
   "source": [
    "## bluesky runengine setup\n",
    " \n",
    "# Create a run engine, with plotting, progressbar and transform\n",
    "RE = RunEngine({}, call_returns_result=True)\n",
    "bec = BestEffortCallback()\n",
    "RE.subscribe(bec)\n",
    "RE.waiting_hook = ProgressBarManager()\n",
    "RE.ignore_callback_exceptions = False\n",
    "plt.ion()\n",
    "\n",
    "cryoNode = SECoP_Node_Device.create_external_loop(host='localhost',port ='10769',loop= RE.loop)"
   ]
  },
  {
   "cell_type": "code",
   "execution_count": 2,
   "metadata": {},
   "outputs": [],
   "source": [
    "client = cryoNode._secclient\n",
    "\n",
    "\n",
    "\n",
    "fut = asyncio.run_coroutine_threadsafe(client.disconnect(),get_bluesky_event_loop())\n",
    "print(fut.result(2))\n",
    "\n",
    "print(client.online)\n",
    "\n",
    "fut = asyncio.run_coroutine_threadsafe(client.connect(),get_bluesky_event_loop())\n",
    "print(fut.result(2))\n",
    "print(client.online)"
   ]
  },
  {
   "cell_type": "code",
   "execution_count": null,
   "metadata": {},
   "outputs": [],
   "source": [
    "fut = asyncio.run_coroutine_threadsafe(cryoNode._secclient.getParameter('cryo','value'),get_bluesky_event_loop())\n",
    "print(fut.result(2).get_reading())\n",
    "\n"
   ]
  },
  {
   "cell_type": "code",
   "execution_count": null,
   "metadata": {},
   "outputs": [],
   "source": [
    "fut = asyncio.run_coroutine_threadsafe(cryoNode._secclient.connect(2),get_bluesky_event_loop())\n",
    "\n",
    "fut.result(2)\n",
    "\n",
    "cryoNode._secclient.online"
   ]
  },
  {
   "cell_type": "code",
   "execution_count": 28,
   "metadata": {},
   "outputs": [
    {
     "name": "stdout",
     "output_type": "stream",
     "text": [
      "{'number': {'max': 100.0, 'min': 0.0, 'type': 'double', 'unit': 's'}, 'pos_struct': {'members': {'col': {'type': 'string'}, 'enum': {'members': {'mode_max': 2, 'mode_one': 1, 'mode_zero': 0}, 'type': 'enum'}, 'x': {'max': 100.0, 'min': 0.0, 'type': 'double', 'unit': 'm'}, 'y': {'max': 100.0, 'min': 0.0, 'type': 'double', 'unit': 'm'}, 'z': {'max': 100.0, 'min': 0.0, 'type': 'double', 'unit': 'm'}}, 'type': 'struct'}, 'string': {'type': 'string'}, 'tupl': {'members': [{'max': 100.0, 'min': 0.0, 'type': 'double'}, {'max': 100.0, 'min': 0.0, 'type': 'double'}, {'max': 100.0, 'min': 0.0, 'type': 'double'}], 'type': 'tuple'}}\n",
      "number\n",
      "pos_struct\n",
      "string\n",
      "tupl\n"
     ]
    }
   ],
   "source": [
    "test = {\"_nested_struct\":{\n",
    "          \"datainfo\":{\n",
    "            \"members\":{\n",
    "              \"number\":{\n",
    "                \"max\":100.0,\n",
    "                \"min\":0.0,\n",
    "                \"type\":\"double\",\n",
    "                \"unit\":\"s\"\n",
    "              },\n",
    "              \"pos_struct\":{\n",
    "                \"members\":{\n",
    "                  \"col\":{\n",
    "                    \"type\":\"string\"\n",
    "                  },\n",
    "                  \"enum\":{\n",
    "                    \"members\":{\n",
    "                      \"mode_max\":2,\n",
    "                      \"mode_one\":1,\n",
    "                      \"mode_zero\":0\n",
    "                    },\n",
    "                    \"type\":\"enum\"\n",
    "                  },\n",
    "                  \"x\":{\n",
    "                    \"max\":100.0,\n",
    "                    \"min\":0.0,\n",
    "                    \"type\":\"double\",\n",
    "                    \"unit\":\"m\"\n",
    "                  },\n",
    "                  \"y\":{\n",
    "                    \"max\":100.0,\n",
    "                    \"min\":0.0,\n",
    "                    \"type\":\"double\",\n",
    "                    \"unit\":\"m\"\n",
    "                  },\n",
    "                  \"z\":{\n",
    "                    \"max\":100.0,\n",
    "                    \"min\":0.0,\n",
    "                    \"type\":\"double\",\n",
    "                    \"unit\":\"m\"\n",
    "                  }\n",
    "                },\n",
    "                \"type\":\"struct\"\n",
    "              },\n",
    "              \"string\":{\n",
    "                \"type\":\"string\"\n",
    "              },\n",
    "              \"tupl\":{\n",
    "                \"members\":[\n",
    "                  {\n",
    "                    \"max\":100.0,\n",
    "                    \"min\":0.0,\n",
    "                    \"type\":\"double\"\n",
    "                  },\n",
    "                  {\n",
    "                    \"max\":100.0,\n",
    "                    \"min\":0.0,\n",
    "                    \"type\":\"double\"\n",
    "                  },\n",
    "                  {\n",
    "                    \"max\":100.0,\n",
    "                    \"min\":0.0,\n",
    "                    \"type\":\"double\"\n",
    "                  }\n",
    "                ],\n",
    "                \"type\":\"tuple\"\n",
    "              }\n",
    "            },\n",
    "            \"type\":\"struct\"\n",
    "          },\n",
    "          \"description\":\"nestedstruct dict containing other structs and tuples \",\n",
    "          \"readonly\":True\n",
    "        }\n",
    "        }\n",
    "\n",
    "parameter_name = \"_nested_struct\" \n",
    "\n",
    "struct_datainfo =  test['_nested_struct']['datainfo']\n",
    "\n",
    "path = []\n",
    "\n",
    "member_path = path + ['members']\n",
    "\n",
    "print(deep_get(struct_datainfo,member_path))\n",
    "\n",
    "for keys,value in deep_get(struct_datainfo,member_path).items():\n",
    "\n",
    "    print(keys)"
   ]
  },
  {
   "cell_type": "code",
   "execution_count": 4,
   "metadata": {},
   "outputs": [
    {
     "name": "stdout",
     "output_type": "stream",
     "text": [
      "ophyd_secop.frappy.demo ready\n"
     ]
    },
    {
     "data": {
      "text/plain": [
       "True"
      ]
     },
     "execution_count": 4,
     "metadata": {},
     "output_type": "execute_result"
    }
   ],
   "source": [
    "    \n",
    "loop =asyncio.get_running_loop()\n",
    "\n",
    "\n",
    "ophy_dev = await AsyncSecopClient.create(host='localhost',port='10771',loop=loop)\n",
    "\n",
    "\n",
    "ophy_dev.online"
   ]
  },
  {
   "cell_type": "code",
   "execution_count": 10,
   "metadata": {},
   "outputs": [
    {
     "name": "stdout",
     "output_type": "stream",
     "text": [
      "The original list is : ['struct']\n",
      "The lists after insertion : ['members', 'struct', 'members']\n"
     ]
    }
   ],
   "source": [
    "# Python3 code to demonstrate\n",
    "# inserting K after every Nth number\n",
    "# using itertool.chain()\n",
    "from itertools import chain\n",
    " \n",
    "# initializing list\n",
    "test_list = ['struct']\n",
    " \n",
    "# printing original list\n",
    "print (\"The original list is : \" + str(test_list))\n",
    " \n",
    "# initializing k\n",
    "k = 'members'\n",
    " \n",
    "# initializing N\n",
    "N = 1\n",
    " \n",
    "# using itertool.chain()\n",
    "# inserting K after every Nth number\n",
    "res = ['members'] + list(chain(*[test_list[i : i+N] + [k]\n",
    "            if len(test_list[i : i+N]) == N\n",
    "            else test_list[i : i+N]\n",
    "            for i in range(0, len(test_list), N)]))\n",
    " \n",
    "# printing result\n",
    "print (\"The lists after insertion : \" + str(res))"
   ]
  },
  {
   "cell_type": "code",
   "execution_count": 5,
   "metadata": {},
   "outputs": [
    {
     "name": "stdout",
     "output_type": "stream",
     "text": [
      "{'_nested_struct': {'datainfo': {'members': {'number': {'max': 100.0, 'min': 0.0, 'type': 'double', 'unit': 's'}, 'pos_struct': {'members': {'col': {'type': 'string'}, 'enum': {'members': {'mode_max': 2, 'mode_one': 1, 'mode_zero': 0}, 'type': 'enum'}, 'x': {'max': 100.0, 'min': 0.0, 'type': 'double', 'unit': 'm'}, 'y': {'max': 100.0, 'min': 0.0, 'type': 'double', 'unit': 'm'}, 'z': {'max': 100.0, 'min': 0.0, 'type': 'double', 'unit': 'm'}}, 'type': 'struct'}, 'string': {'type': 'string'}, 'tupl': {'members': [{'max': 100.0, 'min': 0.0, 'type': 'double'}, {'max': 100.0, 'min': 0.0, 'type': 'double'}, {'max': 100.0, 'min': 0.0, 'type': 'double'}], 'type': 'tuple'}}, 'type': 'struct'}, 'description': 'nestedstruct dict containing other structs and tuples ', 'readonly': True}, ('_nested_struct', 'datainfo'): 0}\n"
     ]
    }
   ],
   "source": [
    "\n",
    "nest_test = {\"_nested_struct\":{\n",
    "          \"datainfo\":{\n",
    "            \"members\":{\n",
    "              \"number\":{\n",
    "                \"max\":100.0,\n",
    "                \"min\":0.0,\n",
    "                \"type\":\"double\",\n",
    "                \"unit\":\"s\"\n",
    "              },\n",
    "              \"pos_struct\":{\n",
    "                \"members\":{\n",
    "                  \"col\":{\n",
    "                    \"type\":\"string\"\n",
    "                  },\n",
    "                  \"enum\":{\n",
    "                    \"members\":{\n",
    "                      \"mode_max\":2,\n",
    "                      \"mode_one\":1,\n",
    "                      \"mode_zero\":0\n",
    "                    },\n",
    "                    \"type\":\"enum\"\n",
    "                  },\n",
    "                  \"x\":{\n",
    "                    \"max\":100.0,\n",
    "                    \"min\":0.0,\n",
    "                    \"type\":\"double\",\n",
    "                    \"unit\":\"m\"\n",
    "                  },\n",
    "                  \"y\":{\n",
    "                    \"max\":100.0,\n",
    "                    \"min\":0.0,\n",
    "                    \"type\":\"double\",\n",
    "                    \"unit\":\"m\"\n",
    "                  },\n",
    "                  \"z\":{\n",
    "                    \"max\":100.0,\n",
    "                    \"min\":0.0,\n",
    "                    \"type\":\"double\",\n",
    "                    \"unit\":\"m\"\n",
    "                  }\n",
    "                },\n",
    "                \"type\":\"struct\"\n",
    "              },\n",
    "              \"string\":{\n",
    "                \"type\":\"string\"\n",
    "              },\n",
    "              \"tupl\":{\n",
    "                \"members\":[\n",
    "                  {\n",
    "                    \"max\":100.0,\n",
    "                    \"min\":0.0,\n",
    "                    \"type\":\"double\"\n",
    "                  },\n",
    "                  {\n",
    "                    \"max\":100.0,\n",
    "                    \"min\":0.0,\n",
    "                    \"type\":\"double\"\n",
    "                  },\n",
    "                  {\n",
    "                    \"max\":100.0,\n",
    "                    \"min\":0.0,\n",
    "                    \"type\":\"double\"\n",
    "                  }\n",
    "                ],\n",
    "                \"type\":\"tuple\"\n",
    "              }\n",
    "            },\n",
    "            \"type\":\"struct\"\n",
    "          },\n",
    "          \"description\":\"nestedstruct dict containing other structs and tuples \",\n",
    "          \"readonly\":True\n",
    "        }\n",
    "        }\n",
    "\n",
    "\n",
    "\n",
    "\n",
    "nest_test['_nested_struct','datainfo'] = 0\n",
    "\n",
    "\n",
    "print(nest_test)"
   ]
  },
  {
   "cell_type": "code",
   "execution_count": 1,
   "metadata": {},
   "outputs": [
    {
     "name": "stdout",
     "output_type": "stream",
     "text": [
      "ophyd_secop.frappy.demo ready\n",
      "{'number': 5.0, 'string': 'blablalbla', 'tupl': (1.0, 1.0, 1.0), 'pos_struct': {'x': 5.0, 'y': 10.0, 'z': 15.0, 'col': 'green', 'enum': <nested_struct.mode_one (1)>}}\n",
      "1.0\n",
      "5.0\n",
      "1.0\n"
     ]
    },
    {
     "data": {
      "text/plain": [
       "<coroutine object AsyncSecopClient.disconnect at 0x7f4391276c40>"
      ]
     },
     "execution_count": 1,
     "metadata": {},
     "output_type": "execute_result"
    }
   ],
   "source": [
    "from AsyncSecopClient import AsyncSecopClient\n",
    "import asyncio\n",
    "from SECoPSignal import deep_get\n",
    "\n",
    "client = await  AsyncSecopClient.create('localhost','10771',asyncio.get_running_loop())\n",
    "\n",
    "reading = await client.getParameter('ophy_struct','nested_struct')\n",
    "\n",
    "val = reading.get_value()\n",
    "print(val)\n",
    "\n",
    "print(val['tupl'][1])\n",
    "\n",
    "print(val['pos_struct']['x'])\n",
    "print(deep_get(dictionary=val,keys=['tupl',1],default=None))\n",
    "client.disconnect(True)"
   ]
  }
 ],
 "metadata": {
  "kernelspec": {
   "display_name": ".venv",
   "language": "python",
   "name": "python3"
  },
  "language_info": {
   "codemirror_mode": {
    "name": "ipython",
    "version": 3
   },
   "file_extension": ".py",
   "mimetype": "text/x-python",
   "name": "python",
   "nbconvert_exporter": "python",
   "pygments_lexer": "ipython3",
   "version": "3.11.2"
  },
  "orig_nbformat": 4
 },
 "nbformat": 4,
 "nbformat_minor": 2
}
