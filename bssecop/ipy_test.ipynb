{
 "cells": [
  {
   "cell_type": "code",
   "execution_count": 1,
   "metadata": {},
   "outputs": [],
   "source": [
    "\n",
    "\n",
    "# Import bluesky and ophyd\n",
    "import matplotlib.pyplot as plt\n",
    "from bluesky import RunEngine\n",
    "from bluesky.run_engine import get_bluesky_event_loop\n",
    "from bluesky.callbacks.best_effort import BestEffortCallback\n",
    "from bluesky.plan_stubs import *\n",
    "from bluesky.plans import *\n",
    "\n",
    "import asyncio\n",
    "\n",
    "\n",
    "from bluesky.utils import ProgressBarManager\n",
    "from bssecop.SECoPDevices import SECoP_Node_Device\n",
    "from AsyncSecopClient import *\n",
    "from SECoPSignal import deep_get\n",
    "\n",
    "\n",
    "\n"
   ]
  },
  {
   "cell_type": "code",
   "execution_count": null,
   "metadata": {},
   "outputs": [],
   "source": [
    "## bluesky runengine setup\n",
    " \n",
    "# Create a run engine, with plotting, progressbar and transform\n",
    "RE = RunEngine({}, call_returns_result=True)\n",
    "bec = BestEffortCallback()\n",
    "RE.subscribe(bec)\n",
    "RE.waiting_hook = ProgressBarManager()\n",
    "RE.ignore_callback_exceptions = False\n",
    "plt.ion()\n",
    "\n",
    "cryoNode = SECoP_Node_Device.create_external_loop(host='localhost',port ='10769',loop= RE.loop)"
   ]
  },
  {
   "cell_type": "code",
   "execution_count": 2,
   "metadata": {},
   "outputs": [],
   "source": [
    "client = cryoNode._secclient\n",
    "\n",
    "\n",
    "\n",
    "fut = asyncio.run_coroutine_threadsafe(client.disconnect(),get_bluesky_event_loop())\n",
    "print(fut.result(2))\n",
    "\n",
    "print(client.online)\n",
    "\n",
    "fut = asyncio.run_coroutine_threadsafe(client.connect(),get_bluesky_event_loop())\n",
    "print(fut.result(2))\n",
    "print(client.online)"
   ]
  },
  {
   "cell_type": "code",
   "execution_count": null,
   "metadata": {},
   "outputs": [],
   "source": [
    "fut = asyncio.run_coroutine_threadsafe(cryoNode._secclient.getParameter('cryo','value'),get_bluesky_event_loop())\n",
    "print(fut.result(2).get_reading())\n",
    "\n"
   ]
  },
  {
   "cell_type": "code",
   "execution_count": null,
   "metadata": {},
   "outputs": [],
   "source": [
    "fut = asyncio.run_coroutine_threadsafe(cryoNode._secclient.connect(2),get_bluesky_event_loop())\n",
    "\n",
    "fut.result(2)\n",
    "\n",
    "cryoNode._secclient.online"
   ]
  },
  {
   "cell_type": "code",
   "execution_count": 3,
   "metadata": {},
   "outputs": [
    {
     "name": "stdout",
     "output_type": "stream",
     "text": [
      "paramName\n",
      "\n"
     ]
    }
   ],
   "source": [
    "empty = ()\n",
    "\n",
    "name = \"paramName\"\n",
    "\n",
    "\n",
    "delim = \"_\"\n",
    "res = delim.join(map(str, empty))\n",
    "\n",
    "print(name + res)\n",
    "print(res)"
   ]
  },
  {
   "cell_type": "code",
   "execution_count": 4,
   "metadata": {},
   "outputs": [
    {
     "name": "stdout",
     "output_type": "stream",
     "text": [
      "ophyd_secop.frappy.demo ready\n"
     ]
    },
    {
     "data": {
      "text/plain": [
       "True"
      ]
     },
     "execution_count": 4,
     "metadata": {},
     "output_type": "execute_result"
    }
   ],
   "source": [
    "    \n",
    "loop =asyncio.get_running_loop()\n",
    "\n",
    "\n",
    "ophy_dev = await AsyncSecopClient.create(host='localhost',port='10771',loop=loop)\n",
    "\n",
    "\n",
    "ophy_dev.online"
   ]
  }
 ],
 "metadata": {
  "kernelspec": {
   "display_name": ".venv",
   "language": "python",
   "name": "python3"
  },
  "language_info": {
   "codemirror_mode": {
    "name": "ipython",
    "version": 3
   },
   "file_extension": ".py",
   "mimetype": "text/x-python",
   "name": "python",
   "nbconvert_exporter": "python",
   "pygments_lexer": "ipython3",
   "version": "3.11.2"
  },
  "orig_nbformat": 4
 },
 "nbformat": 4,
 "nbformat_minor": 2
}
