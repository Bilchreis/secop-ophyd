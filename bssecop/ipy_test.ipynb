{
 "cells": [
  {
   "cell_type": "code",
   "execution_count": 1,
   "metadata": {},
   "outputs": [
    {
     "name": "stdout",
     "output_type": "stream",
     "text": [
      "rx task started\n",
      "tx task started\n",
      "cryo_7.frappy.demo ready\n"
     ]
    },
    {
     "name": "stdout",
     "output_type": "stream",
     "text": [
      "conn closed\n"
     ]
    }
   ],
   "source": [
    "\n",
    "\n",
    "# Import bluesky and ophyd\n",
    "import matplotlib.pyplot as plt\n",
    "from bluesky import RunEngine\n",
    "from bluesky.run_engine import get_bluesky_event_loop\n",
    "from bluesky.callbacks.best_effort import BestEffortCallback\n",
    "from bluesky.plan_stubs import *\n",
    "from bluesky.plans import *\n",
    "\n",
    "import asyncio\n",
    "\n",
    "\n",
    "from bluesky.utils import ProgressBarManager\n",
    "from bssecop.SECoPDevices import SECoP_Node_Device\n",
    "\n",
    "\n",
    "## bluesky runengine setup\n",
    " \n",
    "# Create a run engine, with plotting, progressbar and transform\n",
    "RE = RunEngine({}, call_returns_result=True)\n",
    "bec = BestEffortCallback()\n",
    "RE.subscribe(bec)\n",
    "RE.waiting_hook = ProgressBarManager()\n",
    "RE.ignore_callback_exceptions = False\n",
    "plt.ion()\n",
    "\n",
    "cryoNode = SECoP_Node_Device.create_external_loop(host='localhost',port ='10769',loop= RE.loop)\n"
   ]
  },
  {
   "cell_type": "code",
   "execution_count": null,
   "metadata": {},
   "outputs": [],
   "source": [
    "p = RE(count([cryoNode.cryo],num=5,delay=1))\n",
    "\n"
   ]
  },
  {
   "cell_type": "code",
   "execution_count": null,
   "metadata": {},
   "outputs": [],
   "source": [
    "fut = asyncio.run_coroutine_threadsafe(cryoNode._secclient.getParameter('cryo','value'),get_bluesky_event_loop())\n",
    "print(fut.result(2).get_reading())\n",
    "\n"
   ]
  },
  {
   "cell_type": "code",
   "execution_count": null,
   "metadata": {},
   "outputs": [],
   "source": [
    "fut = asyncio.run_coroutine_threadsafe(cryoNode._secclient.connect(2),get_bluesky_event_loop())\n",
    "\n",
    "fut.result(2)\n",
    "\n",
    "cryoNode._secclient.online"
   ]
  }
 ],
 "metadata": {
  "kernelspec": {
   "display_name": ".venv",
   "language": "python",
   "name": "python3"
  },
  "language_info": {
   "codemirror_mode": {
    "name": "ipython",
    "version": 3
   },
   "file_extension": ".py",
   "mimetype": "text/x-python",
   "name": "python",
   "nbconvert_exporter": "python",
   "pygments_lexer": "ipython3",
   "version": "3.10.6"
  },
  "orig_nbformat": 4
 },
 "nbformat": 4,
 "nbformat_minor": 2
}
