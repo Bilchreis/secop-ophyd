{
 "cells": [
  {
   "cell_type": "code",
   "execution_count": 1,
   "metadata": {},
   "outputs": [
    {
     "data": {
      "text/plain": [
       "<contextlib.ExitStack at 0x7f02b226e250>"
      ]
     },
     "execution_count": 1,
     "metadata": {},
     "output_type": "execute_result"
    }
   ],
   "source": [
    "\n",
    "\n",
    "# Import bluesky and ophyd\n",
    "import matplotlib.pyplot as plt\n",
    "from bluesky import RunEngine\n",
    "from bluesky.run_engine import get_bluesky_event_loop\n",
    "from bluesky.callbacks.best_effort import BestEffortCallback\n",
    "from bluesky.plan_stubs import read\n",
    "from bluesky.plans import count\n",
    "\n",
    "import asyncio\n",
    "\n",
    "import logging\n",
    "from bluesky.utils import ProgressBarManager\n",
    "from secop_ophyd.SECoPDevices import SECoP_Node_Device\n",
    "from AsyncSecopClient import *\n",
    "from SECoPSignal import deep_get\n",
    "\n",
    "\n",
    "## bluesky runengine setup\n",
    " \n",
    "# Create a run engine, with plotting, progressbar and transform\n",
    "RE = RunEngine({}, call_returns_result=True)\n",
    "bec = BestEffortCallback()\n",
    "RE.subscribe(bec)\n",
    "RE.waiting_hook = ProgressBarManager()\n",
    "RE.ignore_callback_exceptions = False\n",
    "plt.ion()\n",
    "\n",
    "\n"
   ]
  },
  {
   "cell_type": "code",
   "execution_count": 2,
   "metadata": {},
   "outputs": [
    {
     "ename": "CommunicationFailedError",
     "evalue": "can not connect to localhost:10770, [Errno 111] Connection refused",
     "output_type": "error",
     "traceback": [
      "\u001b[0;31m---------------------------------------------------------------------------\u001b[0m",
      "\u001b[0;31mCommunicationFailedError\u001b[0m                  Traceback (most recent call last)",
      "Cell \u001b[0;32mIn[2], line 21\u001b[0m\n\u001b[1;32m      9\u001b[0m logger\u001b[39m.\u001b[39maddFilter(NoUpdateFilter())\n\u001b[1;32m     11\u001b[0m logging\u001b[39m.\u001b[39mbasicConfig(\n\u001b[1;32m     12\u001b[0m     datefmt\u001b[39m=\u001b[39m\u001b[39m\"\u001b[39m\u001b[39m%d\u001b[39;00m\u001b[39m/\u001b[39m\u001b[39m%\u001b[39m\u001b[39mm/\u001b[39m\u001b[39m%\u001b[39m\u001b[39mY \u001b[39m\u001b[39m%\u001b[39m\u001b[39mI:\u001b[39m\u001b[39m%\u001b[39m\u001b[39mM:\u001b[39m\u001b[39m%\u001b[39m\u001b[39mS\u001b[39m\u001b[39m\"\u001b[39m,\n\u001b[1;32m     13\u001b[0m     \u001b[39mformat\u001b[39m\u001b[39m=\u001b[39m\u001b[39m\"\u001b[39m\u001b[39m%(asctime)s\u001b[39;00m\u001b[39m.\u001b[39m\u001b[39m%(msecs)03d\u001b[39;00m\u001b[39m  \u001b[39m\u001b[39m%(name)-12s\u001b[39;00m\u001b[39m \u001b[39m\u001b[39m%(levelname)-8s\u001b[39;00m\u001b[39m \u001b[39m\u001b[39m%(message)s\u001b[39;00m\u001b[39m\"\u001b[39m,\n\u001b[0;32m   (...)\u001b[0m\n\u001b[1;32m     17\u001b[0m     filemode\u001b[39m=\u001b[39m\u001b[39m\"\u001b[39m\u001b[39mw\u001b[39m\u001b[39m\"\u001b[39m,\n\u001b[1;32m     18\u001b[0m )\n\u001b[0;32m---> 21\u001b[0m robot_node \u001b[39m=\u001b[39m SECoP_Node_Device\u001b[39m.\u001b[39;49mcreate_external_loop(\n\u001b[1;32m     22\u001b[0m     host\u001b[39m=\u001b[39;49m\u001b[39m'\u001b[39;49m\u001b[39mlocalhost\u001b[39;49m\u001b[39m'\u001b[39;49m,\n\u001b[1;32m     23\u001b[0m     port \u001b[39m=\u001b[39;49m\u001b[39m'\u001b[39;49m\u001b[39m10770\u001b[39;49m\u001b[39m'\u001b[39;49m,\n\u001b[1;32m     24\u001b[0m     loop\u001b[39m=\u001b[39;49m RE\u001b[39m.\u001b[39;49mloop,log\u001b[39m=\u001b[39;49mlogger)\n\u001b[1;32m     26\u001b[0m \u001b[39m#nested_node = SECoP_Node_Device.create_external_loop(host='localhost',port= '10771',loop= RE.loop)\u001b[39;00m\n",
      "File \u001b[0;32m~/git-repos/secop-ophyd/secop_ophyd/SECoPDevices.py:527\u001b[0m, in \u001b[0;36mSECoP_Node_Device.create_external_loop\u001b[0;34m(cls, host, port, loop, log)\u001b[0m\n\u001b[1;32m    524\u001b[0m \u001b[39mwhile\u001b[39;00m \u001b[39mnot\u001b[39;00m future\u001b[39m.\u001b[39mdone():\n\u001b[1;32m    525\u001b[0m     time\u001b[39m.\u001b[39msleep(\u001b[39m0.01\u001b[39m)\n\u001b[0;32m--> 527\u001b[0m \u001b[39mreturn\u001b[39;00m SECoP_Node_Device(future\u001b[39m.\u001b[39;49mresult())\n",
      "File \u001b[0;32m/usr/lib64/python3.11/concurrent/futures/_base.py:449\u001b[0m, in \u001b[0;36mFuture.result\u001b[0;34m(self, timeout)\u001b[0m\n\u001b[1;32m    447\u001b[0m     \u001b[39mraise\u001b[39;00m CancelledError()\n\u001b[1;32m    448\u001b[0m \u001b[39melif\u001b[39;00m \u001b[39mself\u001b[39m\u001b[39m.\u001b[39m_state \u001b[39m==\u001b[39m FINISHED:\n\u001b[0;32m--> 449\u001b[0m     \u001b[39mreturn\u001b[39;00m \u001b[39mself\u001b[39;49m\u001b[39m.\u001b[39;49m__get_result()\n\u001b[1;32m    451\u001b[0m \u001b[39mself\u001b[39m\u001b[39m.\u001b[39m_condition\u001b[39m.\u001b[39mwait(timeout)\n\u001b[1;32m    453\u001b[0m \u001b[39mif\u001b[39;00m \u001b[39mself\u001b[39m\u001b[39m.\u001b[39m_state \u001b[39min\u001b[39;00m [CANCELLED, CANCELLED_AND_NOTIFIED]:\n",
      "File \u001b[0;32m/usr/lib64/python3.11/concurrent/futures/_base.py:401\u001b[0m, in \u001b[0;36mFuture.__get_result\u001b[0;34m(self)\u001b[0m\n\u001b[1;32m    399\u001b[0m \u001b[39mif\u001b[39;00m \u001b[39mself\u001b[39m\u001b[39m.\u001b[39m_exception:\n\u001b[1;32m    400\u001b[0m     \u001b[39mtry\u001b[39;00m:\n\u001b[0;32m--> 401\u001b[0m         \u001b[39mraise\u001b[39;00m \u001b[39mself\u001b[39m\u001b[39m.\u001b[39m_exception\n\u001b[1;32m    402\u001b[0m     \u001b[39mfinally\u001b[39;00m:\n\u001b[1;32m    403\u001b[0m         \u001b[39m# Break a reference cycle with the exception in self._exception\u001b[39;00m\n\u001b[1;32m    404\u001b[0m         \u001b[39mself\u001b[39m \u001b[39m=\u001b[39m \u001b[39mNone\u001b[39;00m\n",
      "File \u001b[0;32m~/git-repos/secop-ophyd/secop_ophyd/AsyncFrappyClient.py:80\u001b[0m, in \u001b[0;36mAsyncFrappyClient.create\u001b[0;34m(cls, host, port, loop, log)\u001b[0m\n\u001b[1;32m     77\u001b[0m \u001b[39mself\u001b[39m \u001b[39m=\u001b[39m AsyncFrappyClient(host\u001b[39m=\u001b[39mhost, port\u001b[39m=\u001b[39mport, loop\u001b[39m=\u001b[39mloop)\n\u001b[1;32m     78\u001b[0m \u001b[39mself\u001b[39m\u001b[39m.\u001b[39mclient \u001b[39m=\u001b[39m SecopClient(uri\u001b[39m=\u001b[39mhost \u001b[39m+\u001b[39m \u001b[39m\"\u001b[39m\u001b[39m:\u001b[39m\u001b[39m\"\u001b[39m \u001b[39m+\u001b[39m port, log\u001b[39m=\u001b[39mlog)\n\u001b[0;32m---> 80\u001b[0m \u001b[39mawait\u001b[39;00m \u001b[39mself\u001b[39m\u001b[39m.\u001b[39mconnect(\u001b[39m3\u001b[39m)\n\u001b[1;32m     82\u001b[0m \u001b[39mreturn\u001b[39;00m \u001b[39mself\u001b[39m\n",
      "File \u001b[0;32m~/git-repos/secop-ophyd/secop_ophyd/AsyncFrappyClient.py:85\u001b[0m, in \u001b[0;36mAsyncFrappyClient.connect\u001b[0;34m(self, try_period)\u001b[0m\n\u001b[1;32m     84\u001b[0m \u001b[39masync\u001b[39;00m \u001b[39mdef\u001b[39;00m \u001b[39mconnect\u001b[39m(\u001b[39mself\u001b[39m, try_period\u001b[39m=\u001b[39m\u001b[39m0\u001b[39m):\n\u001b[0;32m---> 85\u001b[0m     \u001b[39mawait\u001b[39;00m asyncio\u001b[39m.\u001b[39mto_thread(\u001b[39mself\u001b[39m\u001b[39m.\u001b[39mclient\u001b[39m.\u001b[39mconnect, try_period)\n",
      "File \u001b[0;32m/usr/lib64/python3.11/asyncio/threads.py:25\u001b[0m, in \u001b[0;36mto_thread\u001b[0;34m(func, *args, **kwargs)\u001b[0m\n\u001b[1;32m     23\u001b[0m ctx \u001b[39m=\u001b[39m contextvars\u001b[39m.\u001b[39mcopy_context()\n\u001b[1;32m     24\u001b[0m func_call \u001b[39m=\u001b[39m functools\u001b[39m.\u001b[39mpartial(ctx\u001b[39m.\u001b[39mrun, func, \u001b[39m*\u001b[39margs, \u001b[39m*\u001b[39m\u001b[39m*\u001b[39mkwargs)\n\u001b[0;32m---> 25\u001b[0m \u001b[39mreturn\u001b[39;00m \u001b[39mawait\u001b[39;00m loop\u001b[39m.\u001b[39mrun_in_executor(\u001b[39mNone\u001b[39;00m, func_call)\n",
      "File \u001b[0;32m/usr/lib64/python3.11/concurrent/futures/thread.py:58\u001b[0m, in \u001b[0;36m_WorkItem.run\u001b[0;34m(self)\u001b[0m\n\u001b[1;32m     55\u001b[0m     \u001b[39mreturn\u001b[39;00m\n\u001b[1;32m     57\u001b[0m \u001b[39mtry\u001b[39;00m:\n\u001b[0;32m---> 58\u001b[0m     result \u001b[39m=\u001b[39m \u001b[39mself\u001b[39;49m\u001b[39m.\u001b[39;49mfn(\u001b[39m*\u001b[39;49m\u001b[39mself\u001b[39;49m\u001b[39m.\u001b[39;49margs, \u001b[39m*\u001b[39;49m\u001b[39m*\u001b[39;49m\u001b[39mself\u001b[39;49m\u001b[39m.\u001b[39;49mkwargs)\n\u001b[1;32m     59\u001b[0m \u001b[39mexcept\u001b[39;00m \u001b[39mBaseException\u001b[39;00m \u001b[39mas\u001b[39;00m exc:\n\u001b[1;32m     60\u001b[0m     \u001b[39mself\u001b[39m\u001b[39m.\u001b[39mfuture\u001b[39m.\u001b[39mset_exception(exc)\n",
      "File \u001b[0;32m~/git-repos/secop-ophyd/.venv/lib64/python3.11/site-packages/frappy/client/__init__.py:308\u001b[0m, in \u001b[0;36mSecopClient.connect\u001b[0;34m(self, try_period)\u001b[0m\n\u001b[1;32m    306\u001b[0m \u001b[39mwhile\u001b[39;00m \u001b[39mnot\u001b[39;00m \u001b[39mself\u001b[39m\u001b[39m.\u001b[39m_shutdown:\n\u001b[1;32m    307\u001b[0m     \u001b[39mtry\u001b[39;00m:\n\u001b[0;32m--> 308\u001b[0m         \u001b[39mself\u001b[39m\u001b[39m.\u001b[39mio \u001b[39m=\u001b[39m AsynConn(\u001b[39mself\u001b[39;49m\u001b[39m.\u001b[39;49muri)  \u001b[39m# timeout 1 sec\u001b[39;00m\n\u001b[1;32m    309\u001b[0m         \u001b[39mself\u001b[39m\u001b[39m.\u001b[39mio\u001b[39m.\u001b[39mwriteline(IDENTREQUEST\u001b[39m.\u001b[39mencode(\u001b[39m'\u001b[39m\u001b[39mutf-8\u001b[39m\u001b[39m'\u001b[39m))\n\u001b[1;32m    310\u001b[0m         reply \u001b[39m=\u001b[39m \u001b[39mself\u001b[39m\u001b[39m.\u001b[39mio\u001b[39m.\u001b[39mreadline(\u001b[39m10\u001b[39m)\n",
      "File \u001b[0;32m~/git-repos/secop-ophyd/.venv/lib64/python3.11/site-packages/frappy/lib/asynconn.py:183\u001b[0m, in \u001b[0;36mAsynTcp.__init__\u001b[0;34m(self, uri, *args, **kwargs)\u001b[0m\n\u001b[1;32m    180\u001b[0m     \u001b[39mself\u001b[39m\u001b[39m.\u001b[39mconnection \u001b[39m=\u001b[39m socket\u001b[39m.\u001b[39mcreate_connection((host, port), timeout\u001b[39m=\u001b[39m\u001b[39mself\u001b[39m\u001b[39m.\u001b[39mtimeout)\n\u001b[1;32m    181\u001b[0m \u001b[39mexcept\u001b[39;00m (\u001b[39mConnectionRefusedError\u001b[39;00m, socket\u001b[39m.\u001b[39mgaierror, socket\u001b[39m.\u001b[39mtimeout) \u001b[39mas\u001b[39;00m e:\n\u001b[1;32m    182\u001b[0m     \u001b[39m# indicate that retrying might make sense\u001b[39;00m\n\u001b[0;32m--> 183\u001b[0m     \u001b[39mraise\u001b[39;00m CommunicationFailedError(\u001b[39mf\u001b[39m\u001b[39m'\u001b[39m\u001b[39mcan not connect to \u001b[39m\u001b[39m{\u001b[39;00mhost\u001b[39m}\u001b[39;00m\u001b[39m:\u001b[39m\u001b[39m{\u001b[39;00mport\u001b[39m}\u001b[39;00m\u001b[39m, \u001b[39m\u001b[39m{\u001b[39;00me\u001b[39m}\u001b[39;00m\u001b[39m'\u001b[39m) \u001b[39mfrom\u001b[39;00m \u001b[39mNone\u001b[39;00m\n",
      "\u001b[0;31mCommunicationFailedError\u001b[0m: can not connect to localhost:10770, [Errno 111] Connection refused"
     ]
    }
   ],
   "source": [
    "\n",
    "logger = logging.getLogger(\"async_client\")\n",
    "logger.setLevel(logging.DEBUG)\n",
    "\n",
    "class NoUpdateFilter(logging.Filter):\n",
    "    def filter(self, record):\n",
    "        return 'update' not in record.getMessage()\n",
    "\n",
    "\n",
    "logger.addFilter(NoUpdateFilter())\n",
    "\n",
    "logging.basicConfig(\n",
    "    datefmt=\"%d/%m/%Y %I:%M:%S\",\n",
    "    format=\"%(asctime)s.%(msecs)03d  %(name)-12s %(levelname)-8s %(message)s\",\n",
    "    filename=\"asyncclient.log\",\n",
    "    encoding=\"utf-8\",\n",
    "    level=logging.DEBUG,\n",
    "    filemode=\"w\",\n",
    ")\n",
    "\n",
    "\n",
    "robot_node = SECoP_Node_Device.create_external_loop(\n",
    "    host='localhost',\n",
    "    port ='10770',\n",
    "    loop= RE.loop,log=logger)\n",
    "\n",
    "#nested_node = SECoP_Node_Device.create_external_loop(host='localhost',port= '10771',loop= RE.loop)"
   ]
  },
  {
   "cell_type": "code",
   "execution_count": 4,
   "metadata": {},
   "outputs": [
    {
     "ename": "NameError",
     "evalue": "name 'nested_node' is not defined",
     "output_type": "error",
     "traceback": [
      "\u001b[0;31m---------------------------------------------------------------------------\u001b[0m",
      "\u001b[0;31mNameError\u001b[0m                                 Traceback (most recent call last)",
      "Cell \u001b[0;32mIn[4], line 1\u001b[0m\n\u001b[0;32m----> 1\u001b[0m p \u001b[39m=\u001b[39m RE(count([nested_node\u001b[39m.\u001b[39mstr_test], num\u001b[39m=\u001b[39m\u001b[39m5\u001b[39m, delay\u001b[39m=\u001b[39m\u001b[39m5\u001b[39m))\n",
      "\u001b[0;31mNameError\u001b[0m: name 'nested_node' is not defined"
     ]
    }
   ],
   "source": [
    "#p = RE(count([nested_node.str_test], num=5, delay=5))\n"
   ]
  },
  {
   "cell_type": "code",
   "execution_count": 4,
   "metadata": {},
   "outputs": [
    {
     "name": "stdout",
     "output_type": "stream",
     "text": [
      "{'sample_changer-HZB-storage-value': {'value': [], 'timestamp': 1692281300.989428}}\n",
      "\n",
      "\n",
      "Transient Scan ID: 2     Time: 2023-08-17 15:08:21\n",
      "Persistent Unique Scan ID: '67135f87-8f1a-4771-b41e-5b5bf25f17a4'\n",
      "New stream: 'primary'\n",
      "+-----------+------------+----------------------------------+\n",
      "|   seq_num |       time | sample_changer-HZB-storage-value |\n",
      "+-----------+------------+----------------------------------+\n",
      " failed to format row \n",
      " failed to format row \n",
      " failed to format row \n",
      " failed to format row \n",
      " failed to format row \n",
      "+-----------+------------+----------------------------------+\n",
      "generator count ['67135f87'] (scan num: 2)\n",
      "\n",
      "\n",
      "\n"
     ]
    },
    {
     "data": {
      "image/png": "[encoded data removed]",
      "text/plain": [
       "<Figure size 500x500 with 1 Axes>"
      ]
     },
     "metadata": {},
     "output_type": "display_data"
    }
   ],
   "source": [
    "print(await robot_node.storage.read())\n",
    "#print(await robot_node.storage.describe())\n",
    "\n",
    "p = RE(count([robot_node.storage], num=5, delay=1))\n",
    "\n",
    "#print(p.plan_result)"
   ]
  },
  {
   "cell_type": "code",
   "execution_count": null,
   "metadata": {},
   "outputs": [],
   "source": [
    "cryoNode = SECoP_Node_Device.create_external_loop(host='localhost',port ='10769',loop= RE.loop)"
   ]
  },
  {
   "cell_type": "code",
   "execution_count": null,
   "metadata": {},
   "outputs": [],
   "source": [
    "client = cryoNode._secclient\n",
    "\n",
    "\n",
    "\n",
    "fut = asyncio.run_coroutine_threadsafe(client.disconnect(),get_bluesky_event_loop())\n",
    "print(fut.result(2))\n",
    "\n",
    "print(client.online)\n",
    "\n",
    "fut = asyncio.run_coroutine_threadsafe(client.connect(),get_bluesky_event_loop())\n",
    "print(fut.result(2))\n",
    "print(client.online)"
   ]
  },
  {
   "cell_type": "code",
   "execution_count": null,
   "metadata": {},
   "outputs": [],
   "source": [
    "fut = asyncio.run_coroutine_threadsafe(cryoNode._secclient.getParameter('cryo','value'),get_bluesky_event_loop())\n",
    "print(fut.result(2).get_reading())\n",
    "\n"
   ]
  },
  {
   "cell_type": "code",
   "execution_count": null,
   "metadata": {},
   "outputs": [],
   "source": [
    "fut = asyncio.run_coroutine_threadsafe(cryoNode._secclient.connect(2),get_bluesky_event_loop())\n",
    "\n",
    "fut.result(2)\n",
    "\n",
    "cryoNode._secclient.online"
   ]
  },
  {
   "cell_type": "code",
   "execution_count": null,
   "metadata": {},
   "outputs": [],
   "source": [
    "test = {\"_nested_struct\":{\n",
    "          \"datainfo\":{\n",
    "            \"members\":{\n",
    "              \"number\":{\n",
    "                \"max\":100.0,\n",
    "                \"min\":0.0,\n",
    "                \"type\":\"double\",\n",
    "                \"unit\":\"s\"\n",
    "              },\n",
    "              \"pos_struct\":{\n",
    "                \"members\":{\n",
    "                  \"col\":{\n",
    "                    \"type\":\"string\"\n",
    "                  },\n",
    "                  \"enum\":{\n",
    "                    \"members\":{\n",
    "                      \"mode_max\":2,\n",
    "                      \"mode_one\":1,\n",
    "                      \"mode_zero\":0\n",
    "                    },\n",
    "                    \"type\":\"enum\"\n",
    "                  },\n",
    "                  \"x\":{\n",
    "                    \"max\":100.0,\n",
    "                    \"min\":0.0,\n",
    "                    \"type\":\"double\",\n",
    "                    \"unit\":\"m\"\n",
    "                  },\n",
    "                  \"y\":{\n",
    "                    \"max\":100.0,\n",
    "                    \"min\":0.0,\n",
    "                    \"type\":\"double\",\n",
    "                    \"unit\":\"m\"\n",
    "                  },\n",
    "                  \"z\":{\n",
    "                    \"max\":100.0,\n",
    "                    \"min\":0.0,\n",
    "                    \"type\":\"double\",\n",
    "                    \"unit\":\"m\"\n",
    "                  }\n",
    "                },\n",
    "                \"type\":\"struct\"\n",
    "              },\n",
    "              \"string\":{\n",
    "                \"type\":\"string\"\n",
    "              },\n",
    "              \"tupl\":{\n",
    "                \"members\":[\n",
    "                  {\n",
    "                    \"max\":100.0,\n",
    "                    \"min\":0.0,\n",
    "                    \"type\":\"double\"\n",
    "                  },\n",
    "                  {\n",
    "                    \"max\":100.0,\n",
    "                    \"min\":0.0,\n",
    "                    \"type\":\"double\"\n",
    "                  },\n",
    "                  {\n",
    "                    \"max\":100.0,\n",
    "                    \"min\":0.0,\n",
    "                    \"type\":\"double\"\n",
    "                  }\n",
    "                ],\n",
    "                \"type\":\"tuple\"\n",
    "              }\n",
    "            },\n",
    "            \"type\":\"struct\"\n",
    "          },\n",
    "          \"description\":\"nestedstruct dict containing other structs and tuples \",\n",
    "          \"readonly\":True\n",
    "        }\n",
    "        }\n",
    "\n",
    "parameter_name = \"_nested_struct\" \n",
    "\n",
    "struct_datainfo =  test['_nested_struct']['datainfo']\n",
    "\n",
    "path = []\n",
    "\n",
    "member_path = path + ['members']\n",
    "\n",
    "print(deep_get(struct_datainfo,member_path))\n",
    "\n",
    "for keys,value in deep_get(struct_datainfo,member_path).items():\n",
    "\n",
    "    print(keys)"
   ]
  },
  {
   "cell_type": "code",
   "execution_count": null,
   "metadata": {},
   "outputs": [],
   "source": [
    "    \n",
    "loop =asyncio.get_running_loop()\n",
    "\n",
    "\n",
    "ophy_dev = await AsyncFrappyClient.create(host='localhost',port='10771',loop=loop)\n",
    "\n",
    "\n",
    "ophy_dev.online"
   ]
  },
  {
   "cell_type": "code",
   "execution_count": null,
   "metadata": {},
   "outputs": [],
   "source": [
    "# Python3 code to demonstrate\n",
    "# inserting K after every Nth number\n",
    "# using itertool.chain()\n",
    "from itertools import chain\n",
    " \n",
    "# initializing list\n",
    "test_list = ['struct']\n",
    " \n",
    "# printing original list\n",
    "print (\"The original list is : \" + str(test_list))\n",
    " \n",
    "# initializing k\n",
    "k = 'members'\n",
    " \n",
    "# initializing N\n",
    "N = 1\n",
    " \n",
    "# using itertool.chain()\n",
    "# inserting K after every Nth number\n",
    "res = ['members'] + list(chain(*[test_list[i : i+N] + [k]\n",
    "            if len(test_list[i : i+N]) == N\n",
    "            else test_list[i : i+N]\n",
    "            for i in range(0, len(test_list), N)]))\n",
    " \n",
    "# printing result\n",
    "print (\"The lists after insertion : \" + str(res))"
   ]
  },
  {
   "cell_type": "code",
   "execution_count": null,
   "metadata": {},
   "outputs": [],
   "source": [
    "\n",
    "nest_test = {\"_nested_struct\":{\n",
    "          \"datainfo\":{\n",
    "            \"members\":{\n",
    "              \"number\":{\n",
    "                \"max\":100.0,\n",
    "                \"min\":0.0,\n",
    "                \"type\":\"double\",\n",
    "                \"unit\":\"s\"\n",
    "              },\n",
    "              \"pos_struct\":{\n",
    "                \"members\":{\n",
    "                  \"col\":{\n",
    "                    \"type\":\"string\"\n",
    "                  },\n",
    "                  \"enum\":{\n",
    "                    \"members\":{\n",
    "                      \"mode_max\":2,\n",
    "                      \"mode_one\":1,\n",
    "                      \"mode_zero\":0\n",
    "                    },\n",
    "                    \"type\":\"enum\"\n",
    "                  },\n",
    "                  \"x\":{\n",
    "                    \"max\":100.0,\n",
    "                    \"min\":0.0,\n",
    "                    \"type\":\"double\",\n",
    "                    \"unit\":\"m\"\n",
    "                  },\n",
    "                  \"y\":{\n",
    "                    \"max\":100.0,\n",
    "                    \"min\":0.0,\n",
    "                    \"type\":\"double\",\n",
    "                    \"unit\":\"m\"\n",
    "                  },\n",
    "                  \"z\":{\n",
    "                    \"max\":100.0,\n",
    "                    \"min\":0.0,\n",
    "                    \"type\":\"double\",\n",
    "                    \"unit\":\"m\"\n",
    "                  }\n",
    "                },\n",
    "                \"type\":\"struct\"\n",
    "              },\n",
    "              \"string\":{\n",
    "                \"type\":\"string\"\n",
    "              },\n",
    "              \"tupl\":{\n",
    "                \"members\":[\n",
    "                  {\n",
    "                    \"max\":100.0,\n",
    "                    \"min\":0.0,\n",
    "                    \"type\":\"double\"\n",
    "                  },\n",
    "                  {\n",
    "                    \"max\":100.0,\n",
    "                    \"min\":0.0,\n",
    "                    \"type\":\"double\"\n",
    "                  },\n",
    "                  {\n",
    "                    \"max\":100.0,\n",
    "                    \"min\":0.0,\n",
    "                    \"type\":\"double\"\n",
    "                  }\n",
    "                ],\n",
    "                \"type\":\"tuple\"\n",
    "              }\n",
    "            },\n",
    "            \"type\":\"struct\"\n",
    "          },\n",
    "          \"description\":\"nestedstruct dict containing other structs and tuples \",\n",
    "          \"readonly\":True\n",
    "        }\n",
    "        }\n",
    "\n",
    "\n",
    "\n",
    "\n",
    "nest_test['_nested_struct','datainfo'] = 0\n",
    "\n",
    "\n",
    "print(nest_test)"
   ]
  },
  {
   "cell_type": "code",
   "execution_count": 1,
   "metadata": {},
   "outputs": [
    {
     "name": "stdout",
     "output_type": "stream",
     "text": [
      "ophyd_secop.frappy.demo ready\n",
      "{'number': 5.0, 'string': 'blablalbla', 'tupl': (1.0, 1.0, 1.0), 'pos_struct': {'x': 5.0, 'y': 10.0, 'z': 15.0, 'col': 'green', 'enum': <nested_struct.mode_one (1)>}}\n",
      "1.0\n",
      "5.0\n",
      "1.0\n"
     ]
    },
    {
     "data": {
      "text/plain": [
       "<coroutine object AsyncFrappyClient.disconnect at 0x7fa45dca5b40>"
      ]
     },
     "execution_count": 1,
     "metadata": {},
     "output_type": "execute_result"
    }
   ],
   "source": [
    "from AsyncSecopClient import AsyncFrappyClient\n",
    "import asyncio\n",
    "from SECoPSignal import deep_get\n",
    "\n",
    "client = await  AsyncFrappyClient.create('localhost','10771',asyncio.get_running_loop())\n",
    "\n",
    "reading = await client.getParameter('ophy_struct','nested_struct')\n",
    "\n",
    "val = reading.get_value()\n",
    "print(val)\n",
    "\n",
    "print(val['tupl'][1])\n",
    "\n",
    "print(val['pos_struct']['x'])\n",
    "print(deep_get(dictionary=val,keys=['tupl',1],default=None))\n",
    "client.disconnect(True)"
   ]
  },
  {
   "cell_type": "code",
   "execution_count": null,
   "metadata": {},
   "outputs": [],
   "source": [
    "from SECoPSignal import deep_get\n",
    "\n",
    "\n",
    "datainfo = {\n",
    "            \"members\":[\n",
    "              {\n",
    "                \"members\":{\n",
    "                  \"BUSY\":300,\n",
    "                  \"ERROR\":400,\n",
    "                  \"IDLE\":100,\n",
    "                  \"WARN\":200\n",
    "                },\n",
    "                \"type\":\"enum\"\n",
    "              },\n",
    "              {\n",
    "                \"type\":\"string\"\n",
    "              }\n",
    "            ],\n",
    "            \"type\":\"tuple\"\n",
    "          }\n",
    "\n",
    "member_path = ['members',0]\n",
    "\n",
    "print(deep_get(datainfo,member_path))"
   ]
  },
  {
   "cell_type": "code",
   "execution_count": null,
   "metadata": {},
   "outputs": [],
   "source": [
    "from SECoPSignal import get_memberpath, deep_get\n",
    "\n",
    "nest_test = {\"_nested_struct\":{\n",
    "          \"datainfo\":{\n",
    "            \"members\":{\n",
    "              \"number\":{\n",
    "                \"max\":100.0,\n",
    "                \"min\":0.0,\n",
    "                \"type\":\"double\",\n",
    "                \"unit\":\"s\"\n",
    "              },\n",
    "              \"pos_struct\":{\n",
    "                \"members\":{\n",
    "                  \"col\":{\n",
    "                    \"type\":\"string\"\n",
    "                  },\n",
    "                  \"enum\":{\n",
    "                    \"members\":{\n",
    "                      \"mode_max\":2,\n",
    "                      \"mode_one\":1,\n",
    "                      \"mode_zero\":0\n",
    "                    },\n",
    "                    \"type\":\"enum\"\n",
    "                  },\n",
    "                  \"x\":{\n",
    "                    \"max\":100.0,\n",
    "                    \"min\":0.0,\n",
    "                    \"type\":\"double\",\n",
    "                    \"unit\":\"m\"\n",
    "                  },\n",
    "                  \"y\":{\n",
    "                    \"max\":100.0,\n",
    "                    \"min\":0.0,\n",
    "                    \"type\":\"double\",\n",
    "                    \"unit\":\"m\"\n",
    "                  },\n",
    "                  \"z\":{\n",
    "                    \"max\":100.0,\n",
    "                    \"min\":0.0,\n",
    "                    \"type\":\"double\",\n",
    "                    \"unit\":\"m\"\n",
    "                  }\n",
    "                },\n",
    "                \"type\":\"struct\"\n",
    "              },\n",
    "              \"string\":{\n",
    "                \"type\":\"string\"\n",
    "              },\n",
    "              \"tupl\":{\n",
    "                \"members\":[\n",
    "                  {\n",
    "                    \"max\":100.0,\n",
    "                    \"min\":0.0,\n",
    "                    \"type\":\"double\"\n",
    "                  },\n",
    "                  {\n",
    "                    \"max\":100.0,\n",
    "                    \"min\":0.0,\n",
    "                    \"type\":\"double\"\n",
    "                  },\n",
    "                  {\n",
    "                    \"max\":100.0,\n",
    "                    \"min\":0.0,\n",
    "                    \"type\":\"double\"\n",
    "                  }\n",
    "                ],\n",
    "                \"type\":\"tuple\"\n",
    "              }\n",
    "            },\n",
    "            \"type\":\"struct\"\n",
    "          },\n",
    "          \"description\":\"nestedstruct dict containing other structs and tuples \",\n",
    "          \"readonly\":True\n",
    "        }\n",
    "        }\n",
    "datainfo = nest_test['_nested_struct']['datainfo']\n",
    "\n",
    "path = ['pos_struct']\n",
    "\n",
    "memberpath = get_memberpath(path) + ['members']\n",
    "print(memberpath)\n",
    "\n",
    "for member_name, value in deep_get(datainfo,memberpath).items():\n",
    "    print(member_name)\n",
    "\n"
   ]
  },
  {
   "cell_type": "code",
   "execution_count": 1,
   "metadata": {},
   "outputs": [
    {
     "name": "stdout",
     "output_type": "stream",
     "text": [
      "ophyd_secop.frappy.demo ready\n"
     ]
    },
    {
     "ename": "TypeError",
     "evalue": "int() argument must be a string, a bytes-like object or a real number, not 'tuple'",
     "output_type": "error",
     "traceback": [
      "\u001b[0;31m---------------------------------------------------------------------------\u001b[0m",
      "\u001b[0;31mTypeError\u001b[0m                                 Traceback (most recent call last)",
      "Cell \u001b[0;32mIn[1], line 11\u001b[0m\n\u001b[1;32m      8\u001b[0m \u001b[39mawait\u001b[39;00m testcmd\u001b[39m.\u001b[39mid_arg\u001b[39m.\u001b[39mset(\u001b[39m2\u001b[39m)\n\u001b[1;32m      9\u001b[0m \u001b[39mawait\u001b[39;00m testcmd\u001b[39m.\u001b[39msort_arg\u001b[39m.\u001b[39mset(\u001b[39mTrue\u001b[39;00m)\n\u001b[0;32m---> 11\u001b[0m \u001b[39mawait\u001b[39;00m testcmd\u001b[39m.\u001b[39mtest_cmd_x\u001b[39m.\u001b[39mexecute()\n\u001b[1;32m     13\u001b[0m \u001b[39mprint\u001b[39m(\u001b[39mawait\u001b[39;00m testcmd\u001b[39m.\u001b[39mtest_cmd_res\u001b[39m.\u001b[39mread())\n",
      "File \u001b[0;32m~/gitrepos/bssecop/.venv/lib/python3.11/site-packages/ophyd/v2/core.py:782\u001b[0m, in \u001b[0;36mSignalX.execute\u001b[0;34m(self, wait, timeout)\u001b[0m\n\u001b[1;32m    780\u001b[0m \u001b[39masync\u001b[39;00m \u001b[39mdef\u001b[39;00m \u001b[39mexecute\u001b[39m(\u001b[39mself\u001b[39m, wait\u001b[39m=\u001b[39m\u001b[39mTrue\u001b[39;00m, timeout\u001b[39m=\u001b[39m\u001b[39mNone\u001b[39;00m):\n\u001b[1;32m    781\u001b[0m \u001b[39m    \u001b[39m\u001b[39m\"\"\"Execute the action and return a status saying when it's done\"\"\"\u001b[39;00m\n\u001b[0;32m--> 782\u001b[0m     \u001b[39mawait\u001b[39;00m \u001b[39mself\u001b[39m\u001b[39m.\u001b[39m_backend\u001b[39m.\u001b[39mput(\u001b[39mNone\u001b[39;00m, wait\u001b[39m=\u001b[39mwait, timeout\u001b[39m=\u001b[39mtimeout \u001b[39mor\u001b[39;00m \u001b[39mself\u001b[39m\u001b[39m.\u001b[39m_timeout)\n",
      "File \u001b[0;32m~/gitrepos/bssecop/bssecop/SECoPSignal.py:225\u001b[0m, in \u001b[0;36mSECoP_CMD_X_Backend.put\u001b[0;34m(self, value, wait, timeout)\u001b[0m\n\u001b[1;32m    223\u001b[0m \u001b[39melif\u001b[39;00m \u001b[39misinstance\u001b[39m(res_datatype,atomic_dtypes):\n\u001b[1;32m    224\u001b[0m     sig \u001b[39m=\u001b[39m \u001b[39mnext\u001b[39m(\u001b[39miter\u001b[39m(\u001b[39mself\u001b[39m\u001b[39m.\u001b[39mresult\u001b[39m.\u001b[39mvalues()))\n\u001b[0;32m--> 225\u001b[0m     \u001b[39mawait\u001b[39;00m sig\u001b[39m.\u001b[39mput(res)\n",
      "File \u001b[0;32m~/gitrepos/bssecop/bssecop/SECoPSignal.py:97\u001b[0m, in \u001b[0;36mSECoP_CMD_IO_Backend.put\u001b[0;34m(self, value, wait, timeout)\u001b[0m\n\u001b[1;32m     95\u001b[0m     \u001b[39mself\u001b[39m\u001b[39m.\u001b[39mvalue \u001b[39m=\u001b[39m \u001b[39mself\u001b[39m\u001b[39m.\u001b[39mfrappy_datatype\u001b[39m.\u001b[39mfrom_string(value)    \n\u001b[1;32m     96\u001b[0m \u001b[39melse\u001b[39;00m:\n\u001b[0;32m---> 97\u001b[0m     \u001b[39mself\u001b[39m\u001b[39m.\u001b[39mvalue \u001b[39m=\u001b[39m \u001b[39mself\u001b[39;49m\u001b[39m.\u001b[39;49mfrappy_datatype\u001b[39m.\u001b[39;49mimport_value(value)\n\u001b[1;32m     99\u001b[0m \u001b[39mself\u001b[39m\u001b[39m.\u001b[39mreading\u001b[39m.\u001b[39mset_reading(value)\n\u001b[1;32m    101\u001b[0m \u001b[39mif\u001b[39;00m \u001b[39mself\u001b[39m\u001b[39m.\u001b[39mcallback \u001b[39m!=\u001b[39m \u001b[39mNone\u001b[39;00m:\n",
      "File \u001b[0;32m~/gitrepos/bssecop/.venv/lib/python3.11/site-packages/frappy/datatypes.py:343\u001b[0m, in \u001b[0;36mIntRange.import_value\u001b[0;34m(self, value)\u001b[0m\n\u001b[1;32m    341\u001b[0m \u001b[39mdef\u001b[39;00m \u001b[39mimport_value\u001b[39m(\u001b[39mself\u001b[39m, value):\n\u001b[1;32m    342\u001b[0m \u001b[39m    \u001b[39m\u001b[39m\"\"\"returns a python object from serialisation\"\"\"\u001b[39;00m\n\u001b[0;32m--> 343\u001b[0m     \u001b[39mreturn\u001b[39;00m \u001b[39mint\u001b[39;49m(value)\n",
      "\u001b[0;31mTypeError\u001b[0m: int() argument must be a string, a bytes-like object or a real number, not 'tuple'"
     ]
    }
   ],
   "source": [
    "import asyncio\n",
    "from secop_ophyd.SECoPDevices import SECoP_Node_Device\n",
    "nested_node_dev = await SECoP_Node_Device.create('localhost','10771',asyncio.get_running_loop())\n",
    "\n",
    "testcmd = nested_node_dev.ophy_struct.test_cmd_dev\n",
    "\n",
    "await testcmd.name_arg.set('blah')\n",
    "await testcmd.id_arg.set(2)\n",
    "await testcmd.sort_arg.set(True)\n",
    "\n",
    "await testcmd.test_cmd_x.execute()\n",
    "\n",
    "print(await testcmd.test_cmd_res.read())\n",
    "\n"
   ]
  },
  {
   "cell_type": "code",
   "execution_count": 1,
   "metadata": {},
   "outputs": [],
   "source": [
    "from secop_ophyd.AsyncFrappyClient import AsyncFrappyClient\n",
    "import asyncio\n",
    "import logging\n",
    "import time\n",
    "\n",
    "class NoRXFilter(logging.Filter):\n",
    "    def filter(self, record):\n",
    "        return not record.getMessage().startswith('RX')\n",
    "class NoTXFilter(logging.Filter):\n",
    "    def filter(self, record):\n",
    "        return not record.getMessage().startswith('TX')\n",
    "\n",
    "\n",
    "\n",
    "\n",
    "logger = logging.getLogger('async_client')\n",
    "logger.setLevel(logging.DEBUG)\n",
    "\n",
    "logger.addFilter(NoRXFilter())\n",
    "logger.addFilter(NoTXFilter())\n",
    "\n",
    "logging.basicConfig(\n",
    "    datefmt='%d/%m/%Y %I:%M:%S',\n",
    "    format='%(asctime)s.%(msecs)03d  %(name)-12s %(levelname)-8s %(message)s',\n",
    "    filename='asyncclient.log',\n",
    "    encoding='utf-8',\n",
    "    level=logging.DEBUG,\n",
    "    filemode='w')\n",
    "\n",
    "    \n",
    "\n",
    "client:AsyncFrappyClient = await AsyncFrappyClient.create('localhost','10771',asyncio.get_running_loop(),log=logger)\n",
    "\n",
    "\n",
    "await client.disconnect(shutdown=True)\n",
    "\n",
    "await asyncio.sleep(2)\n",
    "\n",
    "print(client.state)\n",
    "time.sleep(2)\n",
    "\n",
    "client.client._shutdown = False\n",
    "await client.connect(3)\n",
    "\n",
    "print(client.state)\n",
    "\n",
    "\n",
    "logger.info('are we connected?')"
   ]
  },
  {
   "cell_type": "code",
   "execution_count": 1,
   "metadata": {},
   "outputs": [
    {
     "name": "stdout",
     "output_type": "stream",
     "text": [
      "sample_changer.HZB ready\n"
     ]
    }
   ],
   "source": [
    "import asyncio\n",
    "from secop_ophyd.SECoPDevices import SECoP_Node_Device,SECoPReadableDevice,SECoP_CMD_Device\n",
    "from ophyd.v2.core import observe_value\n",
    "robo_node = await SECoP_Node_Device.create('localhost','10770',asyncio.get_running_loop())\n",
    "\n",
    "\n",
    "\n",
    "\n"
   ]
  },
  {
   "cell_type": "code",
   "execution_count": 2,
   "metadata": {},
   "outputs": [
    {
     "name": "stdout",
     "output_type": "stream",
     "text": [
      "{'sample_changer-HZB-storage-value': {'value': [], 'timestamp': 1692867594.800667}}\n",
      "1\n",
      "2\n",
      "3\n",
      "4\n",
      "5\n",
      "6\n",
      "7\n",
      "8\n",
      "9\n",
      "10\n",
      "11\n",
      "12\n"
     ]
    }
   ],
   "source": [
    "storage:SECoPReadableDevice= robo_node.storage\n",
    "\n",
    "reading = await storage.value.read()\n",
    "\n",
    "loadshort:SECoP_CMD_Device = storage.load_short_dev\n",
    "\n",
    "\n",
    "reading = await storage.value.read()\n",
    "print(reading)\n",
    "\n",
    "for samplepos in range(1,13):\n",
    "    await loadshort.samplepos_arg.set(samplepos)\n",
    "    await loadshort.substance_arg.set(2)\n",
    "\n",
    "    await loadshort.load_short_x.execute()\n",
    "\n",
    "    await storage.wait_for_IDLE()\n",
    "    print(samplepos)\n",
    "\n",
    "\n",
    "\n",
    "\n",
    "\n"
   ]
  },
  {
   "cell_type": "code",
   "execution_count": 3,
   "metadata": {},
   "outputs": [
    {
     "name": "stdout",
     "output_type": "stream",
     "text": [
      "{'sample_changer-HZB-storage-value': {'source': 'localhost:10770:sample_changer.HZB:storage:value', 'dtype': 'array', 'shape': [1, 12], 'description': 'Sample objects in storage', 'readonly': True, 'SECoPtype': 'array', 'minlen': 0, 'maxlen': 12, 'members': {'type': 'struct', 'members': {'sample_name': {'type': 'string'}, 'substance': {'type': 'string'}, 'substance_code': {'type': 'string'}, 'sample_pos': {'min': 0, 'max': 12, 'type': 'int'}, 'manufacturer': {'type': 'string'}, 'sample_id': {'type': 'string'}, 'color': {'type': 'string'}, 'mass': {'unit': 'kg', 'min': 0.0, 'max': 1.0, 'type': 'double'}}}}}\n"
     ]
    }
   ],
   "source": [
    "print(await storage.value.describe())"
   ]
  },
  {
   "cell_type": "code",
   "execution_count": null,
   "metadata": {},
   "outputs": [
    {
     "name": "stdout",
     "output_type": "stream",
     "text": [
      "{'x': [1, 2, 3], 'y': [4, 5, 6]}\n"
     ]
    }
   ],
   "source": [
    "test_list = [{'x': 1, 'y': 4}, {'x': 2, 'y': 5}, {'x': 3, 'y': 6}] \n",
    "\n",
    "\n",
    "\n",
    "res = {key: [i[key] for i in test_list] for key in test_list[0]}\n",
    "print(res)\n",
    "\n"
   ]
  },
  {
   "cell_type": "code",
   "execution_count": 7,
   "metadata": {},
   "outputs": [
    {
     "name": "stdout",
     "output_type": "stream",
     "text": [
      "ophyd_secop.frappy.demo ready\n"
     ]
    }
   ],
   "source": [
    "import asyncio\n",
    "from secop_ophyd.SECoPDevices import SECoP_Node_Device,SECoPReadableDevice,SECoP_CMD_Device\n",
    "from ophyd.v2.core import observe_value\n",
    "nested = await SECoP_Node_Device.create('localhost','10771',asyncio.get_running_loop())"
   ]
  },
  {
   "cell_type": "code",
   "execution_count": 23,
   "metadata": {},
   "outputs": [
    {
     "name": "stdout",
     "output_type": "stream",
     "text": [
      "{'ophyd_secop-frappy-demo-str_test-value': {'value': 'lnyhzhxxmg', 'timestamp': 1691575998.1524138}}\n",
      "{'ophyd_secop-frappy-demo-str_test-value': {'source': 'localhost:10771:ophyd_secop.frappy.demo:str_test:value', 'dtype': 'string', 'shape': [], 'description': 'string read value', 'readonly': True, 'SECoPtype': 'string'}}\n"
     ]
    }
   ],
   "source": [
    "str_test:SECoPReadableDevice = nested.str_test\n",
    "\n",
    "print(await str_test.read())\n",
    "print(await str_test.describe())"
   ]
  },
  {
   "cell_type": "markdown",
   "metadata": {},
   "source": []
  }
 ],
 "metadata": {
  "kernelspec": {
   "display_name": ".venv",
   "language": "python",
   "name": "python3"
  },
  "language_info": {
   "codemirror_mode": {
    "name": "ipython",
    "version": 3
   },
   "file_extension": ".py",
   "mimetype": "text/x-python",
   "name": "python",
   "nbconvert_exporter": "python",
   "pygments_lexer": "ipython3",
   "version": "3.11.4"
  },
  "orig_nbformat": 4
 },
 "nbformat": 4,
 "nbformat_minor": 2
}
