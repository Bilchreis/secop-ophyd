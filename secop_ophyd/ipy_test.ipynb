{
 "cells": [
  {
   "cell_type": "code",
   "execution_count": 1,
   "metadata": {},
   "outputs": [],
   "source": [
    "\n",
    "\n",
    "# Import bluesky and ophyd\n",
    "import matplotlib.pyplot as plt\n",
    "from bluesky import RunEngine\n",
    "from bluesky.run_engine import get_bluesky_event_loop\n",
    "from bluesky.callbacks.best_effort import BestEffortCallback\n",
    "from bluesky.plan_stubs import *\n",
    "from bluesky.plans import *\n",
    "\n",
    "import asyncio\n",
    "\n",
    "\n",
    "from bluesky.utils import ProgressBarManager\n",
    "from secop_ophyd.SECoPDevices import SECoP_Node_Device\n",
    "from AsyncSecopClient import *\n",
    "from SECoPSignal import deep_get\n",
    "\n",
    "\n",
    "\n",
    "\n"
   ]
  },
  {
   "cell_type": "code",
   "execution_count": 2,
   "metadata": {},
   "outputs": [
    {
     "data": {
      "text/plain": [
       "<contextlib.ExitStack at 0x7f95592cdd50>"
      ]
     },
     "execution_count": 2,
     "metadata": {},
     "output_type": "execute_result"
    }
   ],
   "source": [
    "## bluesky runengine setup\n",
    " \n",
    "# Create a run engine, with plotting, progressbar and transform\n",
    "RE = RunEngine({}, call_returns_result=True)\n",
    "bec = BestEffortCallback()\n",
    "RE.subscribe(bec)\n",
    "RE.waiting_hook = ProgressBarManager()\n",
    "RE.ignore_callback_exceptions = False\n",
    "plt.ion()\n",
    "\n",
    "\n",
    "\n"
   ]
  },
  {
   "cell_type": "code",
   "execution_count": 3,
   "metadata": {},
   "outputs": [
    {
     "name": "stdout",
     "output_type": "stream",
     "text": [
      "sample_changer.HZB ready\n"
     ]
    }
   ],
   "source": [
    "robot_node = SECoP_Node_Device.create_external_loop(host='localhost',port ='10770',loop= RE.loop)\n"
   ]
  },
  {
   "cell_type": "code",
   "execution_count": 4,
   "metadata": {},
   "outputs": [
    {
     "name": "stdout",
     "output_type": "stream",
     "text": [
      "\n",
      "\n",
      "Transient Scan ID: 1     Time: 2023-08-07 13:45:03\n",
      "Persistent Unique Scan ID: '81c3cd34-074c-40f0-b3fc-889858ca6648'\n",
      "New stream: 'primary'\n",
      "+-----------+------------+\n",
      "|   seq_num |       time |\n",
      "+-----------+------------+\n",
      "|         1 | 13:45:03.3 |\n"
     ]
    },
    {
     "name": "stderr",
     "output_type": "stream",
     "text": [
      "/home/peter/git-repos/secop-ophyd/.venv/lib64/python3.11/site-packages/bluesky/callbacks/best_effort.py:248: UserWarning: Omitting sample_changer-HZB-storage-value from plot because dtype is array\n",
      "  warn(\"Omitting {} from plot because dtype is {}\"\n",
      "/home/peter/git-repos/secop-ophyd/.venv/lib64/python3.11/site-packages/bluesky/callbacks/core.py:332: UserWarning: The key sample_changer-HZB-storage-value will be skipped because LiveTable does not know how to display the dtype array\n",
      "  warnings.warn(\"The key {} will be skipped because LiveTable \"\n"
     ]
    },
    {
     "name": "stdout",
     "output_type": "stream",
     "text": [
      "|         2 | 13:45:04.3 |\n",
      "|         3 | 13:45:05.2 |\n",
      "|         4 | 13:45:06.3 |\n",
      "|         5 | 13:45:07.3 |\n",
      "+-----------+------------+\n",
      "generator count ['81c3cd34'] (scan num: 1)\n",
      "\n",
      "\n",
      "\n"
     ]
    },
    {
     "data": {
      "image/png": "[encoded data removed]",
      "text/plain": [
       "<Figure size 500x500 with 1 Axes>"
      ]
     },
     "metadata": {},
     "output_type": "display_data"
    }
   ],
   "source": [
    "p = RE(count([robot_node.storage], num=5, delay=1))"
   ]
  },
  {
   "cell_type": "code",
   "execution_count": null,
   "metadata": {},
   "outputs": [],
   "source": [
    "cryoNode = SECoP_Node_Device.create_external_loop(host='localhost',port ='10769',loop= RE.loop)"
   ]
  },
  {
   "cell_type": "code",
   "execution_count": null,
   "metadata": {},
   "outputs": [],
   "source": [
    "client = cryoNode._secclient\n",
    "\n",
    "\n",
    "\n",
    "fut = asyncio.run_coroutine_threadsafe(client.disconnect(),get_bluesky_event_loop())\n",
    "print(fut.result(2))\n",
    "\n",
    "print(client.online)\n",
    "\n",
    "fut = asyncio.run_coroutine_threadsafe(client.connect(),get_bluesky_event_loop())\n",
    "print(fut.result(2))\n",
    "print(client.online)"
   ]
  },
  {
   "cell_type": "code",
   "execution_count": null,
   "metadata": {},
   "outputs": [],
   "source": [
    "fut = asyncio.run_coroutine_threadsafe(cryoNode._secclient.getParameter('cryo','value'),get_bluesky_event_loop())\n",
    "print(fut.result(2).get_reading())\n",
    "\n"
   ]
  },
  {
   "cell_type": "code",
   "execution_count": null,
   "metadata": {},
   "outputs": [],
   "source": [
    "fut = asyncio.run_coroutine_threadsafe(cryoNode._secclient.connect(2),get_bluesky_event_loop())\n",
    "\n",
    "fut.result(2)\n",
    "\n",
    "cryoNode._secclient.online"
   ]
  },
  {
   "cell_type": "code",
   "execution_count": null,
   "metadata": {},
   "outputs": [],
   "source": [
    "test = {\"_nested_struct\":{\n",
    "          \"datainfo\":{\n",
    "            \"members\":{\n",
    "              \"number\":{\n",
    "                \"max\":100.0,\n",
    "                \"min\":0.0,\n",
    "                \"type\":\"double\",\n",
    "                \"unit\":\"s\"\n",
    "              },\n",
    "              \"pos_struct\":{\n",
    "                \"members\":{\n",
    "                  \"col\":{\n",
    "                    \"type\":\"string\"\n",
    "                  },\n",
    "                  \"enum\":{\n",
    "                    \"members\":{\n",
    "                      \"mode_max\":2,\n",
    "                      \"mode_one\":1,\n",
    "                      \"mode_zero\":0\n",
    "                    },\n",
    "                    \"type\":\"enum\"\n",
    "                  },\n",
    "                  \"x\":{\n",
    "                    \"max\":100.0,\n",
    "                    \"min\":0.0,\n",
    "                    \"type\":\"double\",\n",
    "                    \"unit\":\"m\"\n",
    "                  },\n",
    "                  \"y\":{\n",
    "                    \"max\":100.0,\n",
    "                    \"min\":0.0,\n",
    "                    \"type\":\"double\",\n",
    "                    \"unit\":\"m\"\n",
    "                  },\n",
    "                  \"z\":{\n",
    "                    \"max\":100.0,\n",
    "                    \"min\":0.0,\n",
    "                    \"type\":\"double\",\n",
    "                    \"unit\":\"m\"\n",
    "                  }\n",
    "                },\n",
    "                \"type\":\"struct\"\n",
    "              },\n",
    "              \"string\":{\n",
    "                \"type\":\"string\"\n",
    "              },\n",
    "              \"tupl\":{\n",
    "                \"members\":[\n",
    "                  {\n",
    "                    \"max\":100.0,\n",
    "                    \"min\":0.0,\n",
    "                    \"type\":\"double\"\n",
    "                  },\n",
    "                  {\n",
    "                    \"max\":100.0,\n",
    "                    \"min\":0.0,\n",
    "                    \"type\":\"double\"\n",
    "                  },\n",
    "                  {\n",
    "                    \"max\":100.0,\n",
    "                    \"min\":0.0,\n",
    "                    \"type\":\"double\"\n",
    "                  }\n",
    "                ],\n",
    "                \"type\":\"tuple\"\n",
    "              }\n",
    "            },\n",
    "            \"type\":\"struct\"\n",
    "          },\n",
    "          \"description\":\"nestedstruct dict containing other structs and tuples \",\n",
    "          \"readonly\":True\n",
    "        }\n",
    "        }\n",
    "\n",
    "parameter_name = \"_nested_struct\" \n",
    "\n",
    "struct_datainfo =  test['_nested_struct']['datainfo']\n",
    "\n",
    "path = []\n",
    "\n",
    "member_path = path + ['members']\n",
    "\n",
    "print(deep_get(struct_datainfo,member_path))\n",
    "\n",
    "for keys,value in deep_get(struct_datainfo,member_path).items():\n",
    "\n",
    "    print(keys)"
   ]
  },
  {
   "cell_type": "code",
   "execution_count": null,
   "metadata": {},
   "outputs": [],
   "source": [
    "    \n",
    "loop =asyncio.get_running_loop()\n",
    "\n",
    "\n",
    "ophy_dev = await AsyncFrappyClient.create(host='localhost',port='10771',loop=loop)\n",
    "\n",
    "\n",
    "ophy_dev.online"
   ]
  },
  {
   "cell_type": "code",
   "execution_count": null,
   "metadata": {},
   "outputs": [],
   "source": [
    "# Python3 code to demonstrate\n",
    "# inserting K after every Nth number\n",
    "# using itertool.chain()\n",
    "from itertools import chain\n",
    " \n",
    "# initializing list\n",
    "test_list = ['struct']\n",
    " \n",
    "# printing original list\n",
    "print (\"The original list is : \" + str(test_list))\n",
    " \n",
    "# initializing k\n",
    "k = 'members'\n",
    " \n",
    "# initializing N\n",
    "N = 1\n",
    " \n",
    "# using itertool.chain()\n",
    "# inserting K after every Nth number\n",
    "res = ['members'] + list(chain(*[test_list[i : i+N] + [k]\n",
    "            if len(test_list[i : i+N]) == N\n",
    "            else test_list[i : i+N]\n",
    "            for i in range(0, len(test_list), N)]))\n",
    " \n",
    "# printing result\n",
    "print (\"The lists after insertion : \" + str(res))"
   ]
  },
  {
   "cell_type": "code",
   "execution_count": null,
   "metadata": {},
   "outputs": [],
   "source": [
    "\n",
    "nest_test = {\"_nested_struct\":{\n",
    "          \"datainfo\":{\n",
    "            \"members\":{\n",
    "              \"number\":{\n",
    "                \"max\":100.0,\n",
    "                \"min\":0.0,\n",
    "                \"type\":\"double\",\n",
    "                \"unit\":\"s\"\n",
    "              },\n",
    "              \"pos_struct\":{\n",
    "                \"members\":{\n",
    "                  \"col\":{\n",
    "                    \"type\":\"string\"\n",
    "                  },\n",
    "                  \"enum\":{\n",
    "                    \"members\":{\n",
    "                      \"mode_max\":2,\n",
    "                      \"mode_one\":1,\n",
    "                      \"mode_zero\":0\n",
    "                    },\n",
    "                    \"type\":\"enum\"\n",
    "                  },\n",
    "                  \"x\":{\n",
    "                    \"max\":100.0,\n",
    "                    \"min\":0.0,\n",
    "                    \"type\":\"double\",\n",
    "                    \"unit\":\"m\"\n",
    "                  },\n",
    "                  \"y\":{\n",
    "                    \"max\":100.0,\n",
    "                    \"min\":0.0,\n",
    "                    \"type\":\"double\",\n",
    "                    \"unit\":\"m\"\n",
    "                  },\n",
    "                  \"z\":{\n",
    "                    \"max\":100.0,\n",
    "                    \"min\":0.0,\n",
    "                    \"type\":\"double\",\n",
    "                    \"unit\":\"m\"\n",
    "                  }\n",
    "                },\n",
    "                \"type\":\"struct\"\n",
    "              },\n",
    "              \"string\":{\n",
    "                \"type\":\"string\"\n",
    "              },\n",
    "              \"tupl\":{\n",
    "                \"members\":[\n",
    "                  {\n",
    "                    \"max\":100.0,\n",
    "                    \"min\":0.0,\n",
    "                    \"type\":\"double\"\n",
    "                  },\n",
    "                  {\n",
    "                    \"max\":100.0,\n",
    "                    \"min\":0.0,\n",
    "                    \"type\":\"double\"\n",
    "                  },\n",
    "                  {\n",
    "                    \"max\":100.0,\n",
    "                    \"min\":0.0,\n",
    "                    \"type\":\"double\"\n",
    "                  }\n",
    "                ],\n",
    "                \"type\":\"tuple\"\n",
    "              }\n",
    "            },\n",
    "            \"type\":\"struct\"\n",
    "          },\n",
    "          \"description\":\"nestedstruct dict containing other structs and tuples \",\n",
    "          \"readonly\":True\n",
    "        }\n",
    "        }\n",
    "\n",
    "\n",
    "\n",
    "\n",
    "nest_test['_nested_struct','datainfo'] = 0\n",
    "\n",
    "\n",
    "print(nest_test)"
   ]
  },
  {
   "cell_type": "code",
   "execution_count": 1,
   "metadata": {},
   "outputs": [
    {
     "name": "stdout",
     "output_type": "stream",
     "text": [
      "ophyd_secop.frappy.demo ready\n",
      "{'number': 5.0, 'string': 'blablalbla', 'tupl': (1.0, 1.0, 1.0), 'pos_struct': {'x': 5.0, 'y': 10.0, 'z': 15.0, 'col': 'green', 'enum': <nested_struct.mode_one (1)>}}\n",
      "1.0\n",
      "5.0\n",
      "1.0\n"
     ]
    },
    {
     "data": {
      "text/plain": [
       "<coroutine object AsyncFrappyClient.disconnect at 0x7fa45dca5b40>"
      ]
     },
     "execution_count": 1,
     "metadata": {},
     "output_type": "execute_result"
    }
   ],
   "source": [
    "from AsyncSecopClient import AsyncFrappyClient\n",
    "import asyncio\n",
    "from SECoPSignal import deep_get\n",
    "\n",
    "client = await  AsyncFrappyClient.create('localhost','10771',asyncio.get_running_loop())\n",
    "\n",
    "reading = await client.getParameter('ophy_struct','nested_struct')\n",
    "\n",
    "val = reading.get_value()\n",
    "print(val)\n",
    "\n",
    "print(val['tupl'][1])\n",
    "\n",
    "print(val['pos_struct']['x'])\n",
    "print(deep_get(dictionary=val,keys=['tupl',1],default=None))\n",
    "client.disconnect(True)"
   ]
  },
  {
   "cell_type": "code",
   "execution_count": null,
   "metadata": {},
   "outputs": [],
   "source": [
    "from SECoPSignal import deep_get\n",
    "\n",
    "\n",
    "datainfo = {\n",
    "            \"members\":[\n",
    "              {\n",
    "                \"members\":{\n",
    "                  \"BUSY\":300,\n",
    "                  \"ERROR\":400,\n",
    "                  \"IDLE\":100,\n",
    "                  \"WARN\":200\n",
    "                },\n",
    "                \"type\":\"enum\"\n",
    "              },\n",
    "              {\n",
    "                \"type\":\"string\"\n",
    "              }\n",
    "            ],\n",
    "            \"type\":\"tuple\"\n",
    "          }\n",
    "\n",
    "member_path = ['members',0]\n",
    "\n",
    "print(deep_get(datainfo,member_path))"
   ]
  },
  {
   "cell_type": "code",
   "execution_count": null,
   "metadata": {},
   "outputs": [],
   "source": [
    "from SECoPSignal import get_memberpath, deep_get\n",
    "\n",
    "nest_test = {\"_nested_struct\":{\n",
    "          \"datainfo\":{\n",
    "            \"members\":{\n",
    "              \"number\":{\n",
    "                \"max\":100.0,\n",
    "                \"min\":0.0,\n",
    "                \"type\":\"double\",\n",
    "                \"unit\":\"s\"\n",
    "              },\n",
    "              \"pos_struct\":{\n",
    "                \"members\":{\n",
    "                  \"col\":{\n",
    "                    \"type\":\"string\"\n",
    "                  },\n",
    "                  \"enum\":{\n",
    "                    \"members\":{\n",
    "                      \"mode_max\":2,\n",
    "                      \"mode_one\":1,\n",
    "                      \"mode_zero\":0\n",
    "                    },\n",
    "                    \"type\":\"enum\"\n",
    "                  },\n",
    "                  \"x\":{\n",
    "                    \"max\":100.0,\n",
    "                    \"min\":0.0,\n",
    "                    \"type\":\"double\",\n",
    "                    \"unit\":\"m\"\n",
    "                  },\n",
    "                  \"y\":{\n",
    "                    \"max\":100.0,\n",
    "                    \"min\":0.0,\n",
    "                    \"type\":\"double\",\n",
    "                    \"unit\":\"m\"\n",
    "                  },\n",
    "                  \"z\":{\n",
    "                    \"max\":100.0,\n",
    "                    \"min\":0.0,\n",
    "                    \"type\":\"double\",\n",
    "                    \"unit\":\"m\"\n",
    "                  }\n",
    "                },\n",
    "                \"type\":\"struct\"\n",
    "              },\n",
    "              \"string\":{\n",
    "                \"type\":\"string\"\n",
    "              },\n",
    "              \"tupl\":{\n",
    "                \"members\":[\n",
    "                  {\n",
    "                    \"max\":100.0,\n",
    "                    \"min\":0.0,\n",
    "                    \"type\":\"double\"\n",
    "                  },\n",
    "                  {\n",
    "                    \"max\":100.0,\n",
    "                    \"min\":0.0,\n",
    "                    \"type\":\"double\"\n",
    "                  },\n",
    "                  {\n",
    "                    \"max\":100.0,\n",
    "                    \"min\":0.0,\n",
    "                    \"type\":\"double\"\n",
    "                  }\n",
    "                ],\n",
    "                \"type\":\"tuple\"\n",
    "              }\n",
    "            },\n",
    "            \"type\":\"struct\"\n",
    "          },\n",
    "          \"description\":\"nestedstruct dict containing other structs and tuples \",\n",
    "          \"readonly\":True\n",
    "        }\n",
    "        }\n",
    "datainfo = nest_test['_nested_struct']['datainfo']\n",
    "\n",
    "path = ['pos_struct']\n",
    "\n",
    "memberpath = get_memberpath(path) + ['members']\n",
    "print(memberpath)\n",
    "\n",
    "for member_name, value in deep_get(datainfo,memberpath).items():\n",
    "    print(member_name)\n",
    "\n"
   ]
  },
  {
   "cell_type": "code",
   "execution_count": 1,
   "metadata": {},
   "outputs": [
    {
     "name": "stdout",
     "output_type": "stream",
     "text": [
      "ophyd_secop.frappy.demo ready\n"
     ]
    },
    {
     "ename": "TypeError",
     "evalue": "int() argument must be a string, a bytes-like object or a real number, not 'tuple'",
     "output_type": "error",
     "traceback": [
      "\u001b[0;31m---------------------------------------------------------------------------\u001b[0m",
      "\u001b[0;31mTypeError\u001b[0m                                 Traceback (most recent call last)",
      "Cell \u001b[0;32mIn[1], line 11\u001b[0m\n\u001b[1;32m      8\u001b[0m \u001b[39mawait\u001b[39;00m testcmd\u001b[39m.\u001b[39mid_arg\u001b[39m.\u001b[39mset(\u001b[39m2\u001b[39m)\n\u001b[1;32m      9\u001b[0m \u001b[39mawait\u001b[39;00m testcmd\u001b[39m.\u001b[39msort_arg\u001b[39m.\u001b[39mset(\u001b[39mTrue\u001b[39;00m)\n\u001b[0;32m---> 11\u001b[0m \u001b[39mawait\u001b[39;00m testcmd\u001b[39m.\u001b[39mtest_cmd_x\u001b[39m.\u001b[39mexecute()\n\u001b[1;32m     13\u001b[0m \u001b[39mprint\u001b[39m(\u001b[39mawait\u001b[39;00m testcmd\u001b[39m.\u001b[39mtest_cmd_res\u001b[39m.\u001b[39mread())\n",
      "File \u001b[0;32m~/gitrepos/bssecop/.venv/lib/python3.11/site-packages/ophyd/v2/core.py:782\u001b[0m, in \u001b[0;36mSignalX.execute\u001b[0;34m(self, wait, timeout)\u001b[0m\n\u001b[1;32m    780\u001b[0m \u001b[39masync\u001b[39;00m \u001b[39mdef\u001b[39;00m \u001b[39mexecute\u001b[39m(\u001b[39mself\u001b[39m, wait\u001b[39m=\u001b[39m\u001b[39mTrue\u001b[39;00m, timeout\u001b[39m=\u001b[39m\u001b[39mNone\u001b[39;00m):\n\u001b[1;32m    781\u001b[0m \u001b[39m    \u001b[39m\u001b[39m\"\"\"Execute the action and return a status saying when it's done\"\"\"\u001b[39;00m\n\u001b[0;32m--> 782\u001b[0m     \u001b[39mawait\u001b[39;00m \u001b[39mself\u001b[39m\u001b[39m.\u001b[39m_backend\u001b[39m.\u001b[39mput(\u001b[39mNone\u001b[39;00m, wait\u001b[39m=\u001b[39mwait, timeout\u001b[39m=\u001b[39mtimeout \u001b[39mor\u001b[39;00m \u001b[39mself\u001b[39m\u001b[39m.\u001b[39m_timeout)\n",
      "File \u001b[0;32m~/gitrepos/bssecop/bssecop/SECoPSignal.py:225\u001b[0m, in \u001b[0;36mSECoP_CMD_X_Backend.put\u001b[0;34m(self, value, wait, timeout)\u001b[0m\n\u001b[1;32m    223\u001b[0m \u001b[39melif\u001b[39;00m \u001b[39misinstance\u001b[39m(res_datatype,atomic_dtypes):\n\u001b[1;32m    224\u001b[0m     sig \u001b[39m=\u001b[39m \u001b[39mnext\u001b[39m(\u001b[39miter\u001b[39m(\u001b[39mself\u001b[39m\u001b[39m.\u001b[39mresult\u001b[39m.\u001b[39mvalues()))\n\u001b[0;32m--> 225\u001b[0m     \u001b[39mawait\u001b[39;00m sig\u001b[39m.\u001b[39mput(res)\n",
      "File \u001b[0;32m~/gitrepos/bssecop/bssecop/SECoPSignal.py:97\u001b[0m, in \u001b[0;36mSECoP_CMD_IO_Backend.put\u001b[0;34m(self, value, wait, timeout)\u001b[0m\n\u001b[1;32m     95\u001b[0m     \u001b[39mself\u001b[39m\u001b[39m.\u001b[39mvalue \u001b[39m=\u001b[39m \u001b[39mself\u001b[39m\u001b[39m.\u001b[39mfrappy_datatype\u001b[39m.\u001b[39mfrom_string(value)    \n\u001b[1;32m     96\u001b[0m \u001b[39melse\u001b[39;00m:\n\u001b[0;32m---> 97\u001b[0m     \u001b[39mself\u001b[39m\u001b[39m.\u001b[39mvalue \u001b[39m=\u001b[39m \u001b[39mself\u001b[39;49m\u001b[39m.\u001b[39;49mfrappy_datatype\u001b[39m.\u001b[39;49mimport_value(value)\n\u001b[1;32m     99\u001b[0m \u001b[39mself\u001b[39m\u001b[39m.\u001b[39mreading\u001b[39m.\u001b[39mset_reading(value)\n\u001b[1;32m    101\u001b[0m \u001b[39mif\u001b[39;00m \u001b[39mself\u001b[39m\u001b[39m.\u001b[39mcallback \u001b[39m!=\u001b[39m \u001b[39mNone\u001b[39;00m:\n",
      "File \u001b[0;32m~/gitrepos/bssecop/.venv/lib/python3.11/site-packages/frappy/datatypes.py:343\u001b[0m, in \u001b[0;36mIntRange.import_value\u001b[0;34m(self, value)\u001b[0m\n\u001b[1;32m    341\u001b[0m \u001b[39mdef\u001b[39;00m \u001b[39mimport_value\u001b[39m(\u001b[39mself\u001b[39m, value):\n\u001b[1;32m    342\u001b[0m \u001b[39m    \u001b[39m\u001b[39m\"\"\"returns a python object from serialisation\"\"\"\u001b[39;00m\n\u001b[0;32m--> 343\u001b[0m     \u001b[39mreturn\u001b[39;00m \u001b[39mint\u001b[39;49m(value)\n",
      "\u001b[0;31mTypeError\u001b[0m: int() argument must be a string, a bytes-like object or a real number, not 'tuple'"
     ]
    }
   ],
   "source": [
    "import asyncio\n",
    "from secop_ophyd.SECoPDevices import SECoP_Node_Device\n",
    "nested_node_dev = await SECoP_Node_Device.create('localhost','10771',asyncio.get_running_loop())\n",
    "\n",
    "testcmd = nested_node_dev.ophy_struct.test_cmd_dev\n",
    "\n",
    "await testcmd.name_arg.set('blah')\n",
    "await testcmd.id_arg.set(2)\n",
    "await testcmd.sort_arg.set(True)\n",
    "\n",
    "await testcmd.test_cmd_x.execute()\n",
    "\n",
    "print(await testcmd.test_cmd_res.read())\n",
    "\n"
   ]
  },
  {
   "cell_type": "code",
   "execution_count": 1,
   "metadata": {},
   "outputs": [],
   "source": [
    "from secop_ophyd.AsyncFrappyClient import AsyncFrappyClient\n",
    "import asyncio\n",
    "import logging\n",
    "import time\n",
    "\n",
    "class NoRXFilter(logging.Filter):\n",
    "    def filter(self, record):\n",
    "        return not record.getMessage().startswith('RX')\n",
    "class NoTXFilter(logging.Filter):\n",
    "    def filter(self, record):\n",
    "        return not record.getMessage().startswith('TX')\n",
    "\n",
    "\n",
    "\n",
    "\n",
    "logger = logging.getLogger('async_client')\n",
    "logger.setLevel(logging.DEBUG)\n",
    "\n",
    "logger.addFilter(NoRXFilter())\n",
    "logger.addFilter(NoTXFilter())\n",
    "\n",
    "logging.basicConfig(\n",
    "    datefmt='%d/%m/%Y %I:%M:%S',\n",
    "    format='%(asctime)s.%(msecs)03d  %(name)-12s %(levelname)-8s %(message)s',\n",
    "    filename='asyncclient.log',\n",
    "    encoding='utf-8',\n",
    "    level=logging.DEBUG,\n",
    "    filemode='w')\n",
    "\n",
    "    \n",
    "\n",
    "client:AsyncFrappyClient = await AsyncFrappyClient.create('localhost','10771',asyncio.get_running_loop(),log=logger)\n",
    "\n",
    "\n",
    "await client.disconnect(shutdown=True)\n",
    "\n",
    "await asyncio.sleep(2)\n",
    "\n",
    "print(client.state)\n",
    "time.sleep(2)\n",
    "\n",
    "client.client._shutdown = False\n",
    "await client.connect(3)\n",
    "\n",
    "print(client.state)\n",
    "\n",
    "\n",
    "logger.info('are we connected?')"
   ]
  },
  {
   "cell_type": "code",
   "execution_count": 5,
   "metadata": {},
   "outputs": [
    {
     "name": "stdout",
     "output_type": "stream",
     "text": [
      "sample_changer.HZB ready\n"
     ]
    }
   ],
   "source": [
    "import asyncio\n",
    "from secop_ophyd.SECoPDevices import SECoP_Node_Device,SECoPReadableDevice,SECoP_CMD_Device\n",
    "from ophyd.v2.core import observe_value\n",
    "robo_node = await SECoP_Node_Device.create('localhost','10770',asyncio.get_running_loop())\n",
    "\n",
    "\n"
   ]
  },
  {
   "cell_type": "code",
   "execution_count": 6,
   "metadata": {},
   "outputs": [
    {
     "name": "stdout",
     "output_type": "stream",
     "text": [
      "{'sample_changer-HZB-storage-value': {'value': [\"{'sample_name': 'KnusperflakesRittersport', 'substance': 'Knusperflakes', 'substance_code': '2', 'sample_pos': 1, 'manufacturer': 'Rittersport', 'sample_id': 'cbae24fd-e39b-43ae-a64d-d03b4fd85984', 'color': 'yellow', 'mass': 0.0167}\", \"{'sample_name': 'KnusperflakesRittersport', 'substance': 'Knusperflakes', 'substance_code': '2', 'sample_pos': 2, 'manufacturer': 'Rittersport', 'sample_id': '759ecf53-1b84-4e74-ad77-77f15a68c758', 'color': 'yellow', 'mass': 0.0167}\", \"{'sample_name': 'KnusperflakesRittersport', 'substance': 'Knusperflakes', 'substance_code': '2', 'sample_pos': 3, 'manufacturer': 'Rittersport', 'sample_id': '0376e5fb-872f-416d-bbd6-c5c6d0462c08', 'color': 'yellow', 'mass': 0.0167}\", \"{'sample_name': 'KnusperflakesRittersport', 'substance': 'Knusperflakes', 'substance_code': '2', 'sample_pos': 4, 'manufacturer': 'Rittersport', 'sample_id': 'b9f26bc8-1fb9-4171-a0c2-772fb19bacfa', 'color': 'yellow', 'mass': 0.0167}\", \"{'sample_name': 'KnusperflakesRittersport', 'substance': 'Knusperflakes', 'substance_code': '2', 'sample_pos': 5, 'manufacturer': 'Rittersport', 'sample_id': 'd4cede3a-18d1-4041-9ee4-8bc33f3c8f7b', 'color': 'yellow', 'mass': 0.0167}\", \"{'sample_name': 'KnusperflakesRittersport', 'substance': 'Knusperflakes', 'substance_code': '2', 'sample_pos': 6, 'manufacturer': 'Rittersport', 'sample_id': 'a490d313-40d4-4391-97a8-9e9b30929349', 'color': 'yellow', 'mass': 0.0167}\", \"{'sample_name': 'KnusperflakesRittersport', 'substance': 'Knusperflakes', 'substance_code': '2', 'sample_pos': 7, 'manufacturer': 'Rittersport', 'sample_id': '7c6cecb9-0c01-4d97-bc72-8bea5c47e1e5', 'color': 'yellow', 'mass': 0.0167}\", \"{'sample_name': 'KnusperflakesRittersport', 'substance': 'Knusperflakes', 'substance_code': '2', 'sample_pos': 8, 'manufacturer': 'Rittersport', 'sample_id': 'fdde8623-dad6-4f69-8b56-22e8be2dec91', 'color': 'yellow', 'mass': 0.0167}\", \"{'sample_name': 'KnusperflakesRittersport', 'substance': 'Knusperflakes', 'substance_code': '2', 'sample_pos': 9, 'manufacturer': 'Rittersport', 'sample_id': '5a68e1e8-015c-4ba2-8627-e6c0484d63d0', 'color': 'yellow', 'mass': 0.0167}\", \"{'sample_name': 'KnusperflakesRittersport', 'substance': 'Knusperflakes', 'substance_code': '2', 'sample_pos': 10, 'manufacturer': 'Rittersport', 'sample_id': '7998e8b4-ef6f-4cf9-8745-20bec7b97848', 'color': 'yellow', 'mass': 0.0167}\", \"{'sample_name': 'KnusperflakesRittersport', 'substance': 'Knusperflakes', 'substance_code': '2', 'sample_pos': 11, 'manufacturer': 'Rittersport', 'sample_id': '937ddfd5-b757-464e-8211-d51f52e16a71', 'color': 'yellow', 'mass': 0.0167}\", \"{'sample_name': 'KnusperflakesRittersport', 'substance': 'Knusperflakes', 'substance_code': '2', 'sample_pos': 12, 'manufacturer': 'Rittersport', 'sample_id': '1dc55c94-0d74-4aeb-b4d1-01cfc433c255', 'color': 'yellow', 'mass': 0.0167}\"], 'timestamp': 1691408662.9484775}}\n"
     ]
    },
    {
     "ename": "ImpossibleError",
     "evalue": "Sample pos 1 is already occupied",
     "output_type": "error",
     "traceback": [
      "\u001b[0;31m---------------------------------------------------------------------------\u001b[0m",
      "\u001b[0;31mImpossibleError\u001b[0m                           Traceback (most recent call last)",
      "Cell \u001b[0;32mIn[6], line 15\u001b[0m\n\u001b[1;32m     12\u001b[0m \u001b[39mawait\u001b[39;00m loadshort\u001b[39m.\u001b[39msamplepos_arg\u001b[39m.\u001b[39mset(samplepos)\n\u001b[1;32m     13\u001b[0m \u001b[39mawait\u001b[39;00m loadshort\u001b[39m.\u001b[39msubstance_arg\u001b[39m.\u001b[39mset(\u001b[39m2\u001b[39m)\n\u001b[0;32m---> 15\u001b[0m \u001b[39mawait\u001b[39;00m loadshort\u001b[39m.\u001b[39mload_short_x\u001b[39m.\u001b[39mexecute()\n\u001b[1;32m     17\u001b[0m \u001b[39mawait\u001b[39;00m storage\u001b[39m.\u001b[39mwait_for_IDLE()\n\u001b[1;32m     18\u001b[0m \u001b[39mprint\u001b[39m(samplepos)\n",
      "File \u001b[0;32m~/git-repos/secop-ophyd/.venv/lib64/python3.11/site-packages/ophyd/v2/core.py:782\u001b[0m, in \u001b[0;36mSignalX.execute\u001b[0;34m(self, wait, timeout)\u001b[0m\n\u001b[1;32m    780\u001b[0m \u001b[39masync\u001b[39;00m \u001b[39mdef\u001b[39;00m \u001b[39mexecute\u001b[39m(\u001b[39mself\u001b[39m, wait\u001b[39m=\u001b[39m\u001b[39mTrue\u001b[39;00m, timeout\u001b[39m=\u001b[39m\u001b[39mNone\u001b[39;00m):\n\u001b[1;32m    781\u001b[0m \u001b[39m    \u001b[39m\u001b[39m\"\"\"Execute the action and return a status saying when it's done\"\"\"\u001b[39;00m\n\u001b[0;32m--> 782\u001b[0m     \u001b[39mawait\u001b[39;00m \u001b[39mself\u001b[39m\u001b[39m.\u001b[39m_backend\u001b[39m.\u001b[39mput(\u001b[39mNone\u001b[39;00m, wait\u001b[39m=\u001b[39mwait, timeout\u001b[39m=\u001b[39mtimeout \u001b[39mor\u001b[39;00m \u001b[39mself\u001b[39m\u001b[39m.\u001b[39m_timeout)\n",
      "File \u001b[0;32m~/git-repos/secop-ophyd/secop_ophyd/SECoPSignal.py:192\u001b[0m, in \u001b[0;36mSECoP_CMD_X_Backend.put\u001b[0;34m(self, value, wait, timeout)\u001b[0m\n\u001b[1;32m    189\u001b[0m     argument \u001b[39m=\u001b[39m arg_datatype\u001b[39m.\u001b[39mexport_datatype(\u001b[39mawait\u001b[39;00m sig\u001b[39m.\u001b[39mget_value())\n\u001b[1;32m    191\u001b[0m \u001b[39m# Run SECoP Command\u001b[39;00m\n\u001b[0;32m--> 192\u001b[0m res, qualifiers \u001b[39m=\u001b[39m \u001b[39mawait\u001b[39;00m \u001b[39mself\u001b[39m\u001b[39m.\u001b[39m_secclient\u001b[39m.\u001b[39mexecCommand(\n\u001b[1;32m    193\u001b[0m     module\u001b[39m=\u001b[39m\u001b[39mself\u001b[39m\u001b[39m.\u001b[39mpath\u001b[39m.\u001b[39m_module_name,\n\u001b[1;32m    194\u001b[0m     command\u001b[39m=\u001b[39m\u001b[39mself\u001b[39m\u001b[39m.\u001b[39mpath\u001b[39m.\u001b[39m_accessible_name,\n\u001b[1;32m    195\u001b[0m     argument\u001b[39m=\u001b[39margument,\n\u001b[1;32m    196\u001b[0m )\n\u001b[1;32m    198\u001b[0m \u001b[39m# write return Value to corresponding Backends\u001b[39;00m\n\u001b[1;32m    199\u001b[0m \n\u001b[1;32m    200\u001b[0m \u001b[39m# Three different cases:\u001b[39;00m\n\u001b[1;32m    201\u001b[0m res_datatype \u001b[39m=\u001b[39m \u001b[39mself\u001b[39m\u001b[39m.\u001b[39mfrappy_datatype\u001b[39m.\u001b[39mresult\n",
      "File \u001b[0;32m~/git-repos/secop-ophyd/secop_ophyd/AsyncFrappyClient.py:103\u001b[0m, in \u001b[0;36mAsyncFrappyClient.execCommand\u001b[0;34m(self, module, command, argument)\u001b[0m\n\u001b[1;32m    102\u001b[0m \u001b[39masync\u001b[39;00m \u001b[39mdef\u001b[39;00m \u001b[39mexecCommand\u001b[39m(\u001b[39mself\u001b[39m, module, command, argument\u001b[39m=\u001b[39m\u001b[39mNone\u001b[39;00m) \u001b[39m-\u001b[39m\u001b[39m>\u001b[39m \u001b[39mtuple\u001b[39m[T, \u001b[39mdict\u001b[39m]:\n\u001b[0;32m--> 103\u001b[0m     \u001b[39mreturn\u001b[39;00m \u001b[39mawait\u001b[39;00m asyncio\u001b[39m.\u001b[39mto_thread(\n\u001b[1;32m    104\u001b[0m         \u001b[39mself\u001b[39m\u001b[39m.\u001b[39mclient\u001b[39m.\u001b[39mexecCommand, module, command, argument\n\u001b[1;32m    105\u001b[0m     )\n",
      "File \u001b[0;32m/usr/lib64/python3.11/asyncio/threads.py:25\u001b[0m, in \u001b[0;36mto_thread\u001b[0;34m(func, *args, **kwargs)\u001b[0m\n\u001b[1;32m     23\u001b[0m ctx \u001b[39m=\u001b[39m contextvars\u001b[39m.\u001b[39mcopy_context()\n\u001b[1;32m     24\u001b[0m func_call \u001b[39m=\u001b[39m functools\u001b[39m.\u001b[39mpartial(ctx\u001b[39m.\u001b[39mrun, func, \u001b[39m*\u001b[39margs, \u001b[39m*\u001b[39m\u001b[39m*\u001b[39mkwargs)\n\u001b[0;32m---> 25\u001b[0m \u001b[39mreturn\u001b[39;00m \u001b[39mawait\u001b[39;00m loop\u001b[39m.\u001b[39mrun_in_executor(\u001b[39mNone\u001b[39;00m, func_call)\n",
      "File \u001b[0;32m/usr/lib64/python3.11/concurrent/futures/thread.py:58\u001b[0m, in \u001b[0;36m_WorkItem.run\u001b[0;34m(self)\u001b[0m\n\u001b[1;32m     55\u001b[0m     \u001b[39mreturn\u001b[39;00m\n\u001b[1;32m     57\u001b[0m \u001b[39mtry\u001b[39;00m:\n\u001b[0;32m---> 58\u001b[0m     result \u001b[39m=\u001b[39m \u001b[39mself\u001b[39;49m\u001b[39m.\u001b[39;49mfn(\u001b[39m*\u001b[39;49m\u001b[39mself\u001b[39;49m\u001b[39m.\u001b[39;49margs, \u001b[39m*\u001b[39;49m\u001b[39m*\u001b[39;49m\u001b[39mself\u001b[39;49m\u001b[39m.\u001b[39;49mkwargs)\n\u001b[1;32m     59\u001b[0m \u001b[39mexcept\u001b[39;00m \u001b[39mBaseException\u001b[39;00m \u001b[39mas\u001b[39;00m exc:\n\u001b[1;32m     60\u001b[0m     \u001b[39mself\u001b[39m\u001b[39m.\u001b[39mfuture\u001b[39m.\u001b[39mset_exception(exc)\n",
      "File \u001b[0;32m~/git-repos/secop-ophyd/.venv/lib64/python3.11/site-packages/frappy/client/__init__.py:644\u001b[0m, in \u001b[0;36mSecopClient.execCommand\u001b[0;34m(self, module, command, argument)\u001b[0m\n\u001b[1;32m    642\u001b[0m         \u001b[39mraise\u001b[39;00m frappy\u001b[39m.\u001b[39merrors\u001b[39m.\u001b[39mWrongTypeError(\u001b[39m'\u001b[39m\u001b[39mcommand has no argument\u001b[39m\u001b[39m'\u001b[39m)\n\u001b[1;32m    643\u001b[0m \u001b[39m# pylint: disable=unsubscriptable-object\u001b[39;00m\n\u001b[0;32m--> 644\u001b[0m data, qualifiers \u001b[39m=\u001b[39m \u001b[39mself\u001b[39;49m\u001b[39m.\u001b[39;49mrequest(COMMANDREQUEST, \u001b[39mself\u001b[39;49m\u001b[39m.\u001b[39;49midentifier[module, command], argument)[\u001b[39m2\u001b[39m]\n\u001b[1;32m    645\u001b[0m datatype \u001b[39m=\u001b[39m \u001b[39mself\u001b[39m\u001b[39m.\u001b[39mmodules[module][\u001b[39m'\u001b[39m\u001b[39mcommands\u001b[39m\u001b[39m'\u001b[39m][command][\u001b[39m'\u001b[39m\u001b[39mdatatype\u001b[39m\u001b[39m'\u001b[39m]\u001b[39m.\u001b[39mresult\n\u001b[1;32m    646\u001b[0m \u001b[39mif\u001b[39;00m datatype:\n",
      "File \u001b[0;32m~/git-repos/secop-ophyd/.venv/lib64/python3.11/site-packages/frappy/client/__init__.py:608\u001b[0m, in \u001b[0;36mSecopClient.request\u001b[0;34m(self, action, ident, data)\u001b[0m\n\u001b[1;32m    603\u001b[0m \u001b[39m\u001b[39m\u001b[39m\"\"\"make a request\u001b[39;00m\n\u001b[1;32m    604\u001b[0m \n\u001b[1;32m    605\u001b[0m \u001b[39mand wait for reply\u001b[39;00m\n\u001b[1;32m    606\u001b[0m \u001b[39m\"\"\"\u001b[39;00m\n\u001b[1;32m    607\u001b[0m entry \u001b[39m=\u001b[39m \u001b[39mself\u001b[39m\u001b[39m.\u001b[39mqueue_request(action, ident, data)\n\u001b[0;32m--> 608\u001b[0m \u001b[39mreturn\u001b[39;00m \u001b[39mself\u001b[39;49m\u001b[39m.\u001b[39;49mget_reply(entry)\n",
      "File \u001b[0;32m~/git-repos/secop-ophyd/.venv/lib64/python3.11/site-packages/frappy/client/__init__.py:599\u001b[0m, in \u001b[0;36mSecopClient.get_reply\u001b[0;34m(self, entry)\u001b[0m\n\u001b[1;32m    597\u001b[0m action, _, data \u001b[39m=\u001b[39m entry[\u001b[39m2\u001b[39m]  \u001b[39m# pylint: disable=unpacking-non-sequence\u001b[39;00m\n\u001b[1;32m    598\u001b[0m \u001b[39mif\u001b[39;00m action\u001b[39m.\u001b[39mstartswith(ERRORPREFIX):\n\u001b[0;32m--> 599\u001b[0m     \u001b[39mraise\u001b[39;00m frappy\u001b[39m.\u001b[39merrors\u001b[39m.\u001b[39mmake_secop_error(\u001b[39m*\u001b[39mdata[\u001b[39m0\u001b[39m:\u001b[39m2\u001b[39m])\n\u001b[1;32m    600\u001b[0m \u001b[39mreturn\u001b[39;00m entry[\u001b[39m2\u001b[39m]\n",
      "\u001b[0;31mImpossibleError\u001b[0m: Sample pos 1 is already occupied"
     ]
    }
   ],
   "source": [
    "storage:SECoPReadableDevice= robo_node.storage\n",
    "\n",
    "reading = await storage.value.read()\n",
    "\n",
    "loadshort:SECoP_CMD_Device = storage.load_short_dev\n",
    "\n",
    "\n",
    "reading = await storage.value.read()\n",
    "print(reading)\n",
    "\n",
    "for samplepos in range(1,13):\n",
    "    await loadshort.samplepos_arg.set(samplepos)\n",
    "    await loadshort.substance_arg.set(2)\n",
    "\n",
    "    await loadshort.load_short_x.execute()\n",
    "\n",
    "    await storage.wait_for_IDLE()\n",
    "    print(samplepos)\n",
    "\n",
    "\n",
    "\n",
    "\n",
    "\n"
   ]
  },
  {
   "cell_type": "code",
   "execution_count": 3,
   "metadata": {},
   "outputs": [
    {
     "name": "stdout",
     "output_type": "stream",
     "text": [
      "{'sample_changer-HZB-storage-value': {'source': 'localhost:10770:sample_changer.HZB:storage:value', 'dtype': 'array', 'shape': [1, 12], 'description': 'Sample objects in storage', 'readonly': True, 'SECoPtype': 'array', 'minlen': 0, 'maxlen': 12, 'members': {'type': 'struct', 'members': {'sample_name': {'type': 'string'}, 'substance': {'type': 'string'}, 'substance_code': {'type': 'string'}, 'sample_pos': {'min': 0, 'max': 12, 'type': 'int'}, 'manufacturer': {'type': 'string'}, 'sample_id': {'type': 'string'}, 'color': {'type': 'string'}, 'mass': {'unit': 'kg', 'min': 0.0, 'max': 1.0, 'type': 'double'}}}}}\n"
     ]
    }
   ],
   "source": [
    "print(await storage.value.describe())"
   ]
  },
  {
   "cell_type": "code",
   "execution_count": null,
   "metadata": {},
   "outputs": [
    {
     "name": "stdout",
     "output_type": "stream",
     "text": [
      "{'x': [1, 2, 3], 'y': [4, 5, 6]}\n"
     ]
    }
   ],
   "source": [
    "test_list = [{'x': 1, 'y': 4}, {'x': 2, 'y': 5}, {'x': 3, 'y': 6}] \n",
    "\n",
    "\n",
    "\n",
    "res = {key: [i[key] for i in test_list] for key in test_list[0]}\n",
    "print(res)\n",
    "\n"
   ]
  },
  {
   "cell_type": "markdown",
   "metadata": {},
   "source": []
  }
 ],
 "metadata": {
  "kernelspec": {
   "display_name": ".venv",
   "language": "python",
   "name": "python3"
  },
  "language_info": {
   "codemirror_mode": {
    "name": "ipython",
    "version": 3
   },
   "file_extension": ".py",
   "mimetype": "text/x-python",
   "name": "python",
   "nbconvert_exporter": "python",
   "pygments_lexer": "ipython3",
   "version": "3.11.4"
  },
  "orig_nbformat": 4
 },
 "nbformat": 4,
 "nbformat_minor": 2
}
