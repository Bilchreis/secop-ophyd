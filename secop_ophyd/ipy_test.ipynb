{
 "cells": [
  {
   "cell_type": "code",
   "execution_count": 1,
   "metadata": {},
   "outputs": [],
   "source": [
    "\n",
    "\n",
    "# Import bluesky and ophyd\n",
    "import matplotlib.pyplot as plt\n",
    "from bluesky import RunEngine\n",
    "from bluesky.run_engine import get_bluesky_event_loop\n",
    "from bluesky.callbacks.best_effort import BestEffortCallback\n",
    "from bluesky.plan_stubs import read\n",
    "from bluesky.plans import count\n",
    "\n",
    "import asyncio\n",
    "\n",
    "\n",
    "from bluesky.utils import ProgressBarManager\n",
    "from secop_ophyd.SECoPDevices import SECoP_Node_Device\n",
    "from AsyncSecopClient import *\n",
    "from SECoPSignal import deep_get\n",
    "\n",
    "\n",
    "\n",
    "\n"
   ]
  },
  {
   "cell_type": "code",
   "execution_count": 2,
   "metadata": {},
   "outputs": [
    {
     "data": {
      "text/plain": [
       "<contextlib.ExitStack at 0x7f80d2fe32d0>"
      ]
     },
     "execution_count": 2,
     "metadata": {},
     "output_type": "execute_result"
    }
   ],
   "source": [
    "## bluesky runengine setup\n",
    " \n",
    "# Create a run engine, with plotting, progressbar and transform\n",
    "RE = RunEngine({}, call_returns_result=True)\n",
    "bec = BestEffortCallback()\n",
    "RE.subscribe(bec)\n",
    "RE.waiting_hook = ProgressBarManager()\n",
    "RE.ignore_callback_exceptions = False\n",
    "plt.ion()\n",
    "\n",
    "\n",
    "\n"
   ]
  },
  {
   "cell_type": "code",
   "execution_count": 3,
   "metadata": {},
   "outputs": [
    {
     "name": "stdout",
     "output_type": "stream",
     "text": [
      "sample_changer.HZB ready\n",
      "ophyd_secop.frappy.demo ready\n"
     ]
    }
   ],
   "source": [
    "robot_node = SECoP_Node_Device.create_external_loop(host='localhost',port ='10770',loop= RE.loop)\n",
    "\n",
    "nested_node = SECoP_Node_Device.create_external_loop(host='localhost',port= '10771',loop= RE.loop)"
   ]
  },
  {
   "cell_type": "code",
   "execution_count": 5,
   "metadata": {},
   "outputs": [
    {
     "name": "stdout",
     "output_type": "stream",
     "text": [
      "\n",
      "\n",
      "Transient Scan ID: 2     Time: 2023-08-09 12:05:13\n",
      "Persistent Unique Scan ID: 'c0d6ed8e-56f4-41d3-95aa-68f7677b2090'\n"
     ]
    },
    {
     "name": "stderr",
     "output_type": "stream",
     "text": [
      "Run aborted\n",
      "Traceback (most recent call last):\n",
      "  File \"/home/peter/git-repos/secop-ophyd/.venv/lib64/python3.11/site-packages/bluesky/run_engine.py\", line 1528, in _run\n",
      "    msg = self._plan_stack[-1].send(resp)\n",
      "          ^^^^^^^^^^^^^^^^^^^^^^^^^^^^^^^\n",
      "  File \"/home/peter/git-repos/secop-ophyd/.venv/lib64/python3.11/site-packages/bluesky/plans.py\", line 81, in count\n",
      "    return (yield from inner_count())\n",
      "            ^^^^^^^^^^^^^^^^^^^^^^^^\n",
      "  File \"/home/peter/git-repos/secop-ophyd/.venv/lib64/python3.11/site-packages/bluesky/utils/__init__.py\", line 1202, in dec_inner\n",
      "    return (yield from plan)\n",
      "            ^^^^^^^^^^^^^^^\n",
      "  File \"/home/peter/git-repos/secop-ophyd/.venv/lib64/python3.11/site-packages/bluesky/preprocessors.py\", line 964, in stage_wrapper\n",
      "    return (yield from finalize_wrapper(inner(), unstage_devices()))\n",
      "            ^^^^^^^^^^^^^^^^^^^^^^^^^^^^^^^^^^^^^^^^^^^^^^^^^^^^^^^\n",
      "  File \"/home/peter/git-repos/secop-ophyd/.venv/lib64/python3.11/site-packages/bluesky/preprocessors.py\", line 511, in finalize_wrapper\n",
      "    ret = yield from plan\n",
      "          ^^^^^^^^^^^^^^^\n",
      "  File \"/home/peter/git-repos/secop-ophyd/.venv/lib64/python3.11/site-packages/bluesky/preprocessors.py\", line 962, in inner\n",
      "    return (yield from plan)\n",
      "            ^^^^^^^^^^^^^^^\n",
      "  File \"/home/peter/git-repos/secop-ophyd/.venv/lib64/python3.11/site-packages/bluesky/utils/__init__.py\", line 1202, in dec_inner\n",
      "    return (yield from plan)\n",
      "            ^^^^^^^^^^^^^^^\n",
      "  File \"/home/peter/git-repos/secop-ophyd/.venv/lib64/python3.11/site-packages/bluesky/preprocessors.py\", line 327, in run_wrapper\n",
      "    yield from contingency_wrapper(plan,\n",
      "  File \"/home/peter/git-repos/secop-ophyd/.venv/lib64/python3.11/site-packages/bluesky/preprocessors.py\", line 582, in contingency_wrapper\n",
      "    ret = yield from plan\n",
      "          ^^^^^^^^^^^^^^^\n",
      "  File \"/home/peter/git-repos/secop-ophyd/.venv/lib64/python3.11/site-packages/bluesky/plans.py\", line 77, in inner_count\n",
      "    yield from bps.declare_stream(*detectors, name='primary')\n",
      "  File \"/home/peter/git-repos/secop-ophyd/.venv/lib64/python3.11/site-packages/bluesky/plan_stubs.py\", line 47, in declare_stream\n",
      "    return (yield Msg('declare_stream', None, *separate_devices(objs), name=name))\n",
      "            ^^^^^^^^^^^^^^^^^^^^^^^^^^^^^^^^^^^^^^^^^^^^^^^^^^^^^^^^^^^^^^^^^^^^^\n",
      "  File \"/home/peter/git-repos/secop-ophyd/.venv/lib64/python3.11/site-packages/bluesky/run_engine.py\", line 1588, in _run\n",
      "    new_response = await coro(msg)\n",
      "                   ^^^^^^^^^^^^^^^\n",
      "  File \"/home/peter/git-repos/secop-ophyd/.venv/lib64/python3.11/site-packages/bluesky/run_engine.py\", line 1855, in _declare_stream\n",
      "    return (await current_run.declare_stream(msg))\n",
      "            ^^^^^^^^^^^^^^^^^^^^^^^^^^^^^^^^^^^^^\n",
      "  File \"/home/peter/git-repos/secop-ophyd/.venv/lib64/python3.11/site-packages/bluesky/bundlers.py\", line 186, in declare_stream\n",
      "    await self._ensure_cached(obj)\n",
      "  File \"/home/peter/git-repos/secop-ophyd/.venv/lib64/python3.11/site-packages/bluesky/bundlers.py\", line 177, in _ensure_cached\n",
      "    await self._cache_read_config(obj)\n",
      "  File \"/home/peter/git-repos/secop-ophyd/.venv/lib64/python3.11/site-packages/bluesky/bundlers.py\", line 296, in _cache_read_config\n",
      "    conf = await maybe_await(obj.read_configuration())\n",
      "           ^^^^^^^^^^^^^^^^^^^^^^^^^^^^^^^^^^^^^^^^^^^\n",
      "  File \"/home/peter/git-repos/secop-ophyd/.venv/lib64/python3.11/site-packages/bluesky/utils/__init__.py\", line 1834, in maybe_await\n",
      "    return await ret\n",
      "           ^^^^^^^^^\n",
      "  File \"/home/peter/git-repos/secop-ophyd/.venv/lib64/python3.11/site-packages/ophyd/v2/core.py\", line 964, in read_configuration\n",
      "    return await merge_gathered_dicts(\n",
      "           ^^^^^^^^^^^^^^^^^^^^^^^^^^^\n",
      "  File \"/home/peter/git-repos/secop-ophyd/.venv/lib64/python3.11/site-packages/ophyd/v2/core.py\", line 911, in merge_gathered_dicts\n",
      "    for result in await asyncio.gather(*coros):\n",
      "                  ^^^^^^^^^^^^^^^^^^^^^^^^^^^^\n",
      "  File \"/home/peter/git-repos/secop-ophyd/.venv/lib64/python3.11/site-packages/ophyd/v2/core.py\", line 694, in wrapper\n",
      "    return await asyncio.wait_for(func(self, *args, **kwargs), self._timeout)\n",
      "           ^^^^^^^^^^^^^^^^^^^^^^^^^^^^^^^^^^^^^^^^^^^^^^^^^^^^^^^^^^^^^^^^^^\n",
      "  File \"/usr/lib64/python3.11/asyncio/tasks.py\", line 479, in wait_for\n",
      "    return fut.result()\n",
      "           ^^^^^^^^^^^^\n",
      "  File \"/home/peter/git-repos/secop-ophyd/.venv/lib64/python3.11/site-packages/ophyd/v2/core.py\", line 729, in read\n",
      "    return {self.name: await self._backend_or_cache(cached).get_reading()}\n",
      "                       ^^^^^^^^^^^^^^^^^^^^^^^^^^^^^^^^^^^^^^^^^^^^^^^^^^\n",
      "  File \"/home/peter/git-repos/secop-ophyd/secop_ophyd/SECoPSignal.py\", line 364, in get_reading\n",
      "    dataset = await self._secclient.getParameter(\n",
      "              ^^^^^^^^^^^^^^^^^^^^^^^^^^^^^^^^^^^\n",
      "  File \"/home/peter/git-repos/secop-ophyd/secop_ophyd/AsyncFrappyClient.py\", line 91, in getParameter\n",
      "    paramerter_reading = await asyncio.to_thread(\n",
      "                         ^^^^^^^^^^^^^^^^^^^^^^^^\n",
      "  File \"/usr/lib64/python3.11/asyncio/threads.py\", line 25, in to_thread\n",
      "    return await loop.run_in_executor(None, func_call)\n",
      "           ^^^^^^^^^^^^^^^^^^^^^^^^^^^^^^^^^^^^^^^^^^^\n",
      "  File \"/usr/lib64/python3.11/concurrent/futures/thread.py\", line 58, in run\n",
      "    result = self.fn(*self.args, **self.kwargs)\n",
      "             ^^^^^^^^^^^^^^^^^^^^^^^^^^^^^^^^^^\n",
      "  File \"/home/peter/git-repos/secop-ophyd/.venv/lib64/python3.11/site-packages/frappy/client/__init__.py\", line 625, in getParameter\n",
      "    self.readParameter(module, parameter)\n",
      "  File \"/home/peter/git-repos/secop-ophyd/.venv/lib64/python3.11/site-packages/frappy/client/__init__.py\", line 613, in readParameter\n",
      "    self.request(READREQUEST, self.identifier[module, parameter])\n",
      "  File \"/home/peter/git-repos/secop-ophyd/.venv/lib64/python3.11/site-packages/frappy/client/__init__.py\", line 608, in request\n",
      "    return self.get_reply(entry)\n",
      "           ^^^^^^^^^^^^^^^^^^^^^\n",
      "  File \"/home/peter/git-repos/secop-ophyd/.venv/lib64/python3.11/site-packages/frappy/client/__init__.py\", line 596, in get_reply\n",
      "    raise ConnectionError('connection closed before reply')\n",
      "ConnectionError: connection closed before reply\n"
     ]
    },
    {
     "name": "stdout",
     "output_type": "stream",
     "text": [
      "rxthread ended with TypeError(\"'<' not supported between instances of 'NoneType' and 'float'\")\n",
      "try to reconnect to localhost:10771\n",
      "\n",
      "\n",
      "\n",
      "ophyd_secop.frappy.demo ready\n"
     ]
    },
    {
     "ename": "ConnectionError",
     "evalue": "connection closed before reply",
     "output_type": "error",
     "traceback": [
      "\u001b[0;31m---------------------------------------------------------------------------\u001b[0m",
      "\u001b[0;31mConnectionError\u001b[0m                           Traceback (most recent call last)",
      "Cell \u001b[0;32mIn[5], line 1\u001b[0m\n\u001b[0;32m----> 1\u001b[0m p \u001b[39m=\u001b[39m RE(count([nested_node\u001b[39m.\u001b[39;49mstr_test], num\u001b[39m=\u001b[39;49m\u001b[39m5\u001b[39;49m, delay\u001b[39m=\u001b[39;49m\u001b[39m5\u001b[39;49m))\n",
      "File \u001b[0;32m~/git-repos/secop-ophyd/.venv/lib64/python3.11/site-packages/bluesky/run_engine.py:899\u001b[0m, in \u001b[0;36mRunEngine.__call__\u001b[0;34m(self, *args, **metadata_kw)\u001b[0m\n\u001b[1;32m    895\u001b[0m         \u001b[39mself\u001b[39m\u001b[39m.\u001b[39m_blocking_event\u001b[39m.\u001b[39mset()\n\u001b[1;32m    897\u001b[0m     \u001b[39mself\u001b[39m\u001b[39m.\u001b[39m_task_fut\u001b[39m.\u001b[39madd_done_callback(set_blocking_event)\n\u001b[0;32m--> 899\u001b[0m plan_return \u001b[39m=\u001b[39m \u001b[39mself\u001b[39;49m\u001b[39m.\u001b[39;49m_resume_task(init_func\u001b[39m=\u001b[39;49m_build_task)\n\u001b[1;32m    901\u001b[0m \u001b[39mif\u001b[39;00m \u001b[39mself\u001b[39m\u001b[39m.\u001b[39m_interrupted:\n\u001b[1;32m    902\u001b[0m     \u001b[39mraise\u001b[39;00m RunEngineInterrupted(\u001b[39mself\u001b[39m\u001b[39m.\u001b[39mpause_msg) \u001b[39mfrom\u001b[39;00m \u001b[39mNone\u001b[39;00m\n",
      "File \u001b[0;32m~/git-repos/secop-ophyd/.venv/lib64/python3.11/site-packages/bluesky/run_engine.py:1038\u001b[0m, in \u001b[0;36mRunEngine._resume_task\u001b[0;34m(self, init_func)\u001b[0m\n\u001b[1;32m   1034\u001b[0m \u001b[39m# if the main task exception is not None, re-raise\u001b[39;00m\n\u001b[1;32m   1035\u001b[0m \u001b[39m# it (unless it is a canceled error)\u001b[39;00m\n\u001b[1;32m   1036\u001b[0m \u001b[39mif\u001b[39;00m (exc \u001b[39mis\u001b[39;00m \u001b[39mnot\u001b[39;00m \u001b[39mNone\u001b[39;00m\n\u001b[1;32m   1037\u001b[0m         \u001b[39mand\u001b[39;00m \u001b[39mnot\u001b[39;00m \u001b[39misinstance\u001b[39m(exc, _RunEnginePanic)):\n\u001b[0;32m-> 1038\u001b[0m     \u001b[39mraise\u001b[39;00m exc\n\u001b[1;32m   1039\u001b[0m \u001b[39m# Only try to get a result if there wasn't an error,\u001b[39;00m\n\u001b[1;32m   1040\u001b[0m \u001b[39m# (other than a cancelled error)\u001b[39;00m\n\u001b[1;32m   1041\u001b[0m \u001b[39mif\u001b[39;00m exc \u001b[39mis\u001b[39;00m \u001b[39mNone\u001b[39;00m:\n",
      "File \u001b[0;32m~/git-repos/secop-ophyd/.venv/lib64/python3.11/site-packages/bluesky/run_engine.py:1668\u001b[0m, in \u001b[0;36mRunEngine._run\u001b[0;34m(self)\u001b[0m\n\u001b[1;32m   1666\u001b[0m     exit_reason \u001b[39m=\u001b[39m \u001b[39mstr\u001b[39m(err)\n\u001b[1;32m   1667\u001b[0m     \u001b[39mself\u001b[39m\u001b[39m.\u001b[39mlog\u001b[39m.\u001b[39mexception(\u001b[39m\"\u001b[39m\u001b[39mRun aborted\u001b[39m\u001b[39m\"\u001b[39m)\n\u001b[0;32m-> 1668\u001b[0m     \u001b[39mraise\u001b[39;00m err\n\u001b[1;32m   1669\u001b[0m \u001b[39mfinally\u001b[39;00m:\n\u001b[1;32m   1670\u001b[0m     \u001b[39mif\u001b[39;00m \u001b[39mnot\u001b[39;00m exit_reason:\n",
      "File \u001b[0;32m~/git-repos/secop-ophyd/.venv/lib64/python3.11/site-packages/bluesky/run_engine.py:1528\u001b[0m, in \u001b[0;36mRunEngine._run\u001b[0;34m(self)\u001b[0m\n\u001b[1;32m   1525\u001b[0m \u001b[39m# The normal case of clean operation\u001b[39;00m\n\u001b[1;32m   1526\u001b[0m \u001b[39melse\u001b[39;00m:\n\u001b[1;32m   1527\u001b[0m     \u001b[39mtry\u001b[39;00m:\n\u001b[0;32m-> 1528\u001b[0m         msg \u001b[39m=\u001b[39m \u001b[39mself\u001b[39;49m\u001b[39m.\u001b[39;49m_plan_stack[\u001b[39m-\u001b[39;49m\u001b[39m1\u001b[39;49m]\u001b[39m.\u001b[39;49msend(resp)\n\u001b[1;32m   1529\u001b[0m     \u001b[39m# We have exhausted the top generator\u001b[39;00m\n\u001b[1;32m   1530\u001b[0m     \u001b[39mexcept\u001b[39;00m \u001b[39mStopIteration\u001b[39;00m:\n\u001b[1;32m   1531\u001b[0m         \u001b[39m# pop the dead generator go back to the top\u001b[39;00m\n",
      "File \u001b[0;32m~/git-repos/secop-ophyd/.venv/lib64/python3.11/site-packages/bluesky/plans.py:81\u001b[0m, in \u001b[0;36mcount\u001b[0;34m(detectors, num, delay, per_shot, md)\u001b[0m\n\u001b[1;32m     77\u001b[0m         \u001b[39myield from\u001b[39;00m bps\u001b[39m.\u001b[39mdeclare_stream(\u001b[39m*\u001b[39mdetectors, name\u001b[39m=\u001b[39m\u001b[39m'\u001b[39m\u001b[39mprimary\u001b[39m\u001b[39m'\u001b[39m)\n\u001b[1;32m     78\u001b[0m     \u001b[39mreturn\u001b[39;00m (\u001b[39myield from\u001b[39;00m bps\u001b[39m.\u001b[39mrepeat(partial(per_shot, detectors),\n\u001b[1;32m     79\u001b[0m                                   num\u001b[39m=\u001b[39mnum, delay\u001b[39m=\u001b[39mdelay))\n\u001b[0;32m---> 81\u001b[0m \u001b[39mreturn\u001b[39;00m (\u001b[39myield from\u001b[39;00m inner_count())\n",
      "File \u001b[0;32m~/git-repos/secop-ophyd/.venv/lib64/python3.11/site-packages/bluesky/utils/__init__.py:1202\u001b[0m, in \u001b[0;36mmake_decorator.<locals>.dec_outer.<locals>.dec.<locals>.dec_inner\u001b[0;34m(*inner_args, **inner_kwargs)\u001b[0m\n\u001b[1;32m   1200\u001b[0m plan \u001b[39m=\u001b[39m gen_func(\u001b[39m*\u001b[39minner_args, \u001b[39m*\u001b[39m\u001b[39m*\u001b[39minner_kwargs)\n\u001b[1;32m   1201\u001b[0m plan \u001b[39m=\u001b[39m wrapper(plan, \u001b[39m*\u001b[39margs, \u001b[39m*\u001b[39m\u001b[39m*\u001b[39mkwargs)\n\u001b[0;32m-> 1202\u001b[0m \u001b[39mreturn\u001b[39;00m (\u001b[39myield from\u001b[39;00m plan)\n",
      "File \u001b[0;32m~/git-repos/secop-ophyd/.venv/lib64/python3.11/site-packages/bluesky/preprocessors.py:964\u001b[0m, in \u001b[0;36mstage_wrapper\u001b[0;34m(plan, devices)\u001b[0m\n\u001b[1;32m    961\u001b[0m     \u001b[39myield from\u001b[39;00m stage_devices()\n\u001b[1;32m    962\u001b[0m     \u001b[39mreturn\u001b[39;00m (\u001b[39myield from\u001b[39;00m plan)\n\u001b[0;32m--> 964\u001b[0m \u001b[39mreturn\u001b[39;00m (\u001b[39myield from\u001b[39;00m finalize_wrapper(inner(), unstage_devices()))\n",
      "File \u001b[0;32m~/git-repos/secop-ophyd/.venv/lib64/python3.11/site-packages/bluesky/preprocessors.py:511\u001b[0m, in \u001b[0;36mfinalize_wrapper\u001b[0;34m(plan, final_plan, pause_for_debug)\u001b[0m\n\u001b[1;32m    509\u001b[0m cleanup \u001b[39m=\u001b[39m \u001b[39mTrue\u001b[39;00m\n\u001b[1;32m    510\u001b[0m \u001b[39mtry\u001b[39;00m:\n\u001b[0;32m--> 511\u001b[0m     ret \u001b[39m=\u001b[39m \u001b[39myield from\u001b[39;00m plan\n\u001b[1;32m    512\u001b[0m \u001b[39mexcept\u001b[39;00m \u001b[39mGeneratorExit\u001b[39;00m:\n\u001b[1;32m    513\u001b[0m     cleanup \u001b[39m=\u001b[39m \u001b[39mFalse\u001b[39;00m\n",
      "File \u001b[0;32m~/git-repos/secop-ophyd/.venv/lib64/python3.11/site-packages/bluesky/preprocessors.py:962\u001b[0m, in \u001b[0;36mstage_wrapper.<locals>.inner\u001b[0;34m()\u001b[0m\n\u001b[1;32m    960\u001b[0m \u001b[39mdef\u001b[39;00m \u001b[39minner\u001b[39m():\n\u001b[1;32m    961\u001b[0m     \u001b[39myield from\u001b[39;00m stage_devices()\n\u001b[0;32m--> 962\u001b[0m     \u001b[39mreturn\u001b[39;00m (\u001b[39myield from\u001b[39;00m plan)\n",
      "File \u001b[0;32m~/git-repos/secop-ophyd/.venv/lib64/python3.11/site-packages/bluesky/utils/__init__.py:1202\u001b[0m, in \u001b[0;36mmake_decorator.<locals>.dec_outer.<locals>.dec.<locals>.dec_inner\u001b[0;34m(*inner_args, **inner_kwargs)\u001b[0m\n\u001b[1;32m   1200\u001b[0m plan \u001b[39m=\u001b[39m gen_func(\u001b[39m*\u001b[39minner_args, \u001b[39m*\u001b[39m\u001b[39m*\u001b[39minner_kwargs)\n\u001b[1;32m   1201\u001b[0m plan \u001b[39m=\u001b[39m wrapper(plan, \u001b[39m*\u001b[39margs, \u001b[39m*\u001b[39m\u001b[39m*\u001b[39mkwargs)\n\u001b[0;32m-> 1202\u001b[0m \u001b[39mreturn\u001b[39;00m (\u001b[39myield from\u001b[39;00m plan)\n",
      "File \u001b[0;32m~/git-repos/secop-ophyd/.venv/lib64/python3.11/site-packages/bluesky/preprocessors.py:327\u001b[0m, in \u001b[0;36mrun_wrapper\u001b[0;34m(plan, md)\u001b[0m\n\u001b[1;32m    324\u001b[0m     \u001b[39melse\u001b[39;00m:\n\u001b[1;32m    325\u001b[0m         \u001b[39myield from\u001b[39;00m close_run(exit_status\u001b[39m=\u001b[39m\u001b[39m'\u001b[39m\u001b[39mfail\u001b[39m\u001b[39m'\u001b[39m, reason\u001b[39m=\u001b[39m\u001b[39mstr\u001b[39m(e))\n\u001b[0;32m--> 327\u001b[0m \u001b[39myield from\u001b[39;00m contingency_wrapper(plan,\n\u001b[1;32m    328\u001b[0m                                except_plan\u001b[39m=\u001b[39mexcept_plan,\n\u001b[1;32m    329\u001b[0m                                else_plan\u001b[39m=\u001b[39mclose_run)\n\u001b[1;32m    330\u001b[0m \u001b[39mreturn\u001b[39;00m rs_uid\n",
      "File \u001b[0;32m~/git-repos/secop-ophyd/.venv/lib64/python3.11/site-packages/bluesky/preprocessors.py:582\u001b[0m, in \u001b[0;36mcontingency_wrapper\u001b[0;34m(plan, except_plan, else_plan, final_plan, pause_for_debug, auto_raise)\u001b[0m\n\u001b[1;32m    580\u001b[0m cleanup \u001b[39m=\u001b[39m \u001b[39mTrue\u001b[39;00m\n\u001b[1;32m    581\u001b[0m \u001b[39mtry\u001b[39;00m:\n\u001b[0;32m--> 582\u001b[0m     ret \u001b[39m=\u001b[39m \u001b[39myield from\u001b[39;00m plan\n\u001b[1;32m    583\u001b[0m \u001b[39mexcept\u001b[39;00m \u001b[39mGeneratorExit\u001b[39;00m:\n\u001b[1;32m    584\u001b[0m     cleanup \u001b[39m=\u001b[39m \u001b[39mFalse\u001b[39;00m\n",
      "File \u001b[0;32m~/git-repos/secop-ophyd/.venv/lib64/python3.11/site-packages/bluesky/plans.py:77\u001b[0m, in \u001b[0;36mcount.<locals>.inner_count\u001b[0;34m()\u001b[0m\n\u001b[1;32m     73\u001b[0m \u001b[39m@bpp\u001b[39m\u001b[39m.\u001b[39mstage_decorator(detectors)\n\u001b[1;32m     74\u001b[0m \u001b[39m@bpp\u001b[39m\u001b[39m.\u001b[39mrun_decorator(md\u001b[39m=\u001b[39m_md)\n\u001b[1;32m     75\u001b[0m \u001b[39mdef\u001b[39;00m \u001b[39minner_count\u001b[39m():\n\u001b[1;32m     76\u001b[0m     \u001b[39mif\u001b[39;00m predeclare:\n\u001b[0;32m---> 77\u001b[0m         \u001b[39myield from\u001b[39;00m bps\u001b[39m.\u001b[39mdeclare_stream(\u001b[39m*\u001b[39mdetectors, name\u001b[39m=\u001b[39m\u001b[39m'\u001b[39m\u001b[39mprimary\u001b[39m\u001b[39m'\u001b[39m)\n\u001b[1;32m     78\u001b[0m     \u001b[39mreturn\u001b[39;00m (\u001b[39myield from\u001b[39;00m bps\u001b[39m.\u001b[39mrepeat(partial(per_shot, detectors),\n\u001b[1;32m     79\u001b[0m                                   num\u001b[39m=\u001b[39mnum, delay\u001b[39m=\u001b[39mdelay))\n",
      "File \u001b[0;32m~/git-repos/secop-ophyd/.venv/lib64/python3.11/site-packages/bluesky/plan_stubs.py:47\u001b[0m, in \u001b[0;36mdeclare_stream\u001b[0;34m(name, *objs)\u001b[0m\n\u001b[1;32m     28\u001b[0m \u001b[39mdef\u001b[39;00m \u001b[39mdeclare_stream\u001b[39m(\u001b[39m*\u001b[39mobjs, name):\n\u001b[1;32m     29\u001b[0m \u001b[39m    \u001b[39m\u001b[39m\"\"\"\u001b[39;00m\n\u001b[1;32m     30\u001b[0m \u001b[39m    Bundle future readings into a new Event document.\u001b[39;00m\n\u001b[1;32m     31\u001b[0m \n\u001b[0;32m   (...)\u001b[0m\n\u001b[1;32m     45\u001b[0m \u001b[39m    :func:`bluesky.plan_stubs.save`\u001b[39;00m\n\u001b[1;32m     46\u001b[0m \u001b[39m    \"\"\"\u001b[39;00m\n\u001b[0;32m---> 47\u001b[0m     \u001b[39mreturn\u001b[39;00m (\u001b[39myield\u001b[39;00m Msg(\u001b[39m'\u001b[39m\u001b[39mdeclare_stream\u001b[39m\u001b[39m'\u001b[39m, \u001b[39mNone\u001b[39;00m, \u001b[39m*\u001b[39mseparate_devices(objs), name\u001b[39m=\u001b[39mname))\n",
      "File \u001b[0;32m~/git-repos/secop-ophyd/.venv/lib64/python3.11/site-packages/bluesky/run_engine.py:1588\u001b[0m, in \u001b[0;36mRunEngine._run\u001b[0;34m(self)\u001b[0m\n\u001b[1;32m   1583\u001b[0m \u001b[39m# try to finally run the command the user asked for\u001b[39;00m\n\u001b[1;32m   1584\u001b[0m \u001b[39mtry\u001b[39;00m:\n\u001b[1;32m   1585\u001b[0m     \u001b[39m# this is one of two places that 'async'\u001b[39;00m\n\u001b[1;32m   1586\u001b[0m     \u001b[39m# exceptions (coming in via throw) can be\u001b[39;00m\n\u001b[1;32m   1587\u001b[0m     \u001b[39m# raised\u001b[39;00m\n\u001b[0;32m-> 1588\u001b[0m     new_response \u001b[39m=\u001b[39m \u001b[39mawait\u001b[39;00m coro(msg)\n\u001b[1;32m   1590\u001b[0m \u001b[39m# special case `CancelledError` and let the outer\u001b[39;00m\n\u001b[1;32m   1591\u001b[0m \u001b[39m# exception block deal with it.\u001b[39;00m\n\u001b[1;32m   1592\u001b[0m \u001b[39mexcept\u001b[39;00m asyncio\u001b[39m.\u001b[39mCancelledError:\n",
      "File \u001b[0;32m~/git-repos/secop-ophyd/.venv/lib64/python3.11/site-packages/bluesky/run_engine.py:1855\u001b[0m, in \u001b[0;36mRunEngine._declare_stream\u001b[0;34m(self, msg)\u001b[0m\n\u001b[1;32m   1851\u001b[0m \u001b[39mexcept\u001b[39;00m \u001b[39mKeyError\u001b[39;00m \u001b[39mas\u001b[39;00m ke:\n\u001b[1;32m   1852\u001b[0m     \u001b[39mraise\u001b[39;00m IllegalMessageSequence(\u001b[39m\"\u001b[39m\u001b[39mCannot bundle readings without \u001b[39m\u001b[39m\"\u001b[39m\n\u001b[1;32m   1853\u001b[0m                                  \u001b[39m\"\u001b[39m\u001b[39man open run. That is, \u001b[39m\u001b[39m'\u001b[39m\u001b[39mcreate\u001b[39m\u001b[39m'\u001b[39m\u001b[39m must \u001b[39m\u001b[39m\"\u001b[39m\n\u001b[1;32m   1854\u001b[0m                                  \u001b[39m\"\u001b[39m\u001b[39mbe preceded by \u001b[39m\u001b[39m'\u001b[39m\u001b[39mopen_run\u001b[39m\u001b[39m'\u001b[39m\u001b[39m.\u001b[39m\u001b[39m\"\u001b[39m) \u001b[39mfrom\u001b[39;00m \u001b[39mke\u001b[39;00m\n\u001b[0;32m-> 1855\u001b[0m \u001b[39mreturn\u001b[39;00m (\u001b[39mawait\u001b[39;00m current_run\u001b[39m.\u001b[39mdeclare_stream(msg))\n",
      "File \u001b[0;32m~/git-repos/secop-ophyd/.venv/lib64/python3.11/site-packages/bluesky/bundlers.py:186\u001b[0m, in \u001b[0;36mRunBundler.declare_stream\u001b[0;34m(self, msg)\u001b[0m\n\u001b[1;32m    184\u001b[0m objs \u001b[39m=\u001b[39m \u001b[39mfrozenset\u001b[39m(objs)\n\u001b[1;32m    185\u001b[0m \u001b[39mfor\u001b[39;00m obj \u001b[39min\u001b[39;00m objs:\n\u001b[0;32m--> 186\u001b[0m     \u001b[39mawait\u001b[39;00m \u001b[39mself\u001b[39m\u001b[39m.\u001b[39m_ensure_cached(obj)\n\u001b[1;32m    188\u001b[0m \u001b[39mreturn\u001b[39;00m (\u001b[39mawait\u001b[39;00m \u001b[39mself\u001b[39m\u001b[39m.\u001b[39m_prepare_stream(stream_name, objs))\n",
      "File \u001b[0;32m~/git-repos/secop-ophyd/.venv/lib64/python3.11/site-packages/bluesky/bundlers.py:177\u001b[0m, in \u001b[0;36mRunBundler._ensure_cached\u001b[0;34m(self, obj)\u001b[0m\n\u001b[1;32m    175\u001b[0m \u001b[39mif\u001b[39;00m obj \u001b[39mnot\u001b[39;00m \u001b[39min\u001b[39;00m \u001b[39mself\u001b[39m\u001b[39m.\u001b[39m_config_desc_cache:\n\u001b[1;32m    176\u001b[0m     \u001b[39mawait\u001b[39;00m \u001b[39mself\u001b[39m\u001b[39m.\u001b[39m_cache_describe_config(obj)\n\u001b[0;32m--> 177\u001b[0m     \u001b[39mawait\u001b[39;00m \u001b[39mself\u001b[39m\u001b[39m.\u001b[39m_cache_read_config(obj)\n",
      "File \u001b[0;32m~/git-repos/secop-ophyd/.venv/lib64/python3.11/site-packages/bluesky/bundlers.py:296\u001b[0m, in \u001b[0;36mRunBundler._cache_read_config\u001b[0;34m(self, obj)\u001b[0m\n\u001b[1;32m    294\u001b[0m \u001b[39m\"\u001b[39m\u001b[39mRead the object\u001b[39m\u001b[39m'\u001b[39m\u001b[39ms configuration and cache it.\u001b[39m\u001b[39m\"\u001b[39m\n\u001b[1;32m    295\u001b[0m \u001b[39mif\u001b[39;00m \u001b[39misinstance\u001b[39m(obj, Configurable):\n\u001b[0;32m--> 296\u001b[0m     conf \u001b[39m=\u001b[39m \u001b[39mawait\u001b[39;00m maybe_await(obj\u001b[39m.\u001b[39mread_configuration())\n\u001b[1;32m    297\u001b[0m \u001b[39melse\u001b[39;00m:\n\u001b[1;32m    298\u001b[0m     conf \u001b[39m=\u001b[39m {}\n",
      "File \u001b[0;32m~/git-repos/secop-ophyd/.venv/lib64/python3.11/site-packages/bluesky/utils/__init__.py:1834\u001b[0m, in \u001b[0;36mmaybe_await\u001b[0;34m(ret)\u001b[0m\n\u001b[1;32m   1832\u001b[0m \u001b[39masync\u001b[39;00m \u001b[39mdef\u001b[39;00m \u001b[39mmaybe_await\u001b[39m(ret: SyncOrAsync[T]) \u001b[39m-\u001b[39m\u001b[39m>\u001b[39m T:\n\u001b[1;32m   1833\u001b[0m     \u001b[39mif\u001b[39;00m inspect\u001b[39m.\u001b[39misawaitable(ret):\n\u001b[0;32m-> 1834\u001b[0m         \u001b[39mreturn\u001b[39;00m \u001b[39mawait\u001b[39;00m ret\n\u001b[1;32m   1835\u001b[0m     \u001b[39melse\u001b[39;00m:\n\u001b[1;32m   1836\u001b[0m         \u001b[39mreturn\u001b[39;00m ret\n",
      "File \u001b[0;32m~/git-repos/secop-ophyd/.venv/lib64/python3.11/site-packages/ophyd/v2/core.py:964\u001b[0m, in \u001b[0;36mStandardReadable.read_configuration\u001b[0;34m(self)\u001b[0m\n\u001b[1;32m    963\u001b[0m \u001b[39masync\u001b[39;00m \u001b[39mdef\u001b[39;00m \u001b[39mread_configuration\u001b[39m(\u001b[39mself\u001b[39m) \u001b[39m-\u001b[39m\u001b[39m>\u001b[39m Dict[\u001b[39mstr\u001b[39m, Reading]:\n\u001b[0;32m--> 964\u001b[0m     \u001b[39mreturn\u001b[39;00m \u001b[39mawait\u001b[39;00m merge_gathered_dicts(\n\u001b[1;32m    965\u001b[0m         [sig\u001b[39m.\u001b[39mread() \u001b[39mfor\u001b[39;00m sig \u001b[39min\u001b[39;00m \u001b[39mself\u001b[39m\u001b[39m.\u001b[39m_configuration_signals]\n\u001b[1;32m    966\u001b[0m     )\n",
      "File \u001b[0;32m~/git-repos/secop-ophyd/.venv/lib64/python3.11/site-packages/ophyd/v2/core.py:911\u001b[0m, in \u001b[0;36mmerge_gathered_dicts\u001b[0;34m(coros)\u001b[0m\n\u001b[1;32m    904\u001b[0m \u001b[39m\u001b[39m\u001b[39m\"\"\"Merge dictionaries produced by a sequence of coroutines.\u001b[39;00m\n\u001b[1;32m    905\u001b[0m \n\u001b[1;32m    906\u001b[0m \u001b[39mCan be used for merging ``read()`` or ``describe``. For instance::\u001b[39;00m\n\u001b[1;32m    907\u001b[0m \n\u001b[1;32m    908\u001b[0m \u001b[39m    combined_read = await merge_gathered_dicts(s.read() for s in signals)\u001b[39;00m\n\u001b[1;32m    909\u001b[0m \u001b[39m\"\"\"\u001b[39;00m\n\u001b[1;32m    910\u001b[0m ret: Dict[\u001b[39mstr\u001b[39m, T] \u001b[39m=\u001b[39m {}\n\u001b[0;32m--> 911\u001b[0m \u001b[39mfor\u001b[39;00m result \u001b[39min\u001b[39;00m \u001b[39mawait\u001b[39;00m asyncio\u001b[39m.\u001b[39mgather(\u001b[39m*\u001b[39mcoros):\n\u001b[1;32m    912\u001b[0m     ret\u001b[39m.\u001b[39mupdate(result)\n\u001b[1;32m    913\u001b[0m \u001b[39mreturn\u001b[39;00m ret\n",
      "File \u001b[0;32m~/git-repos/secop-ophyd/.venv/lib64/python3.11/site-packages/ophyd/v2/core.py:694\u001b[0m, in \u001b[0;36m_add_timeout.<locals>.wrapper\u001b[0;34m(self, *args, **kwargs)\u001b[0m\n\u001b[1;32m    692\u001b[0m \u001b[39m@functools\u001b[39m\u001b[39m.\u001b[39mwraps(func)\n\u001b[1;32m    693\u001b[0m \u001b[39masync\u001b[39;00m \u001b[39mdef\u001b[39;00m \u001b[39mwrapper\u001b[39m(\u001b[39mself\u001b[39m: Signal, \u001b[39m*\u001b[39margs, \u001b[39m*\u001b[39m\u001b[39m*\u001b[39mkwargs):\n\u001b[0;32m--> 694\u001b[0m     \u001b[39mreturn\u001b[39;00m \u001b[39mawait\u001b[39;00m asyncio\u001b[39m.\u001b[39mwait_for(func(\u001b[39mself\u001b[39m, \u001b[39m*\u001b[39margs, \u001b[39m*\u001b[39m\u001b[39m*\u001b[39mkwargs), \u001b[39mself\u001b[39m\u001b[39m.\u001b[39m_timeout)\n",
      "File \u001b[0;32m/usr/lib64/python3.11/asyncio/tasks.py:479\u001b[0m, in \u001b[0;36mwait_for\u001b[0;34m(fut, timeout)\u001b[0m\n\u001b[1;32m    476\u001b[0m         \u001b[39mraise\u001b[39;00m\n\u001b[1;32m    478\u001b[0m \u001b[39mif\u001b[39;00m fut\u001b[39m.\u001b[39mdone():\n\u001b[0;32m--> 479\u001b[0m     \u001b[39mreturn\u001b[39;00m fut\u001b[39m.\u001b[39;49mresult()\n\u001b[1;32m    480\u001b[0m \u001b[39melse\u001b[39;00m:\n\u001b[1;32m    481\u001b[0m     fut\u001b[39m.\u001b[39mremove_done_callback(cb)\n",
      "File \u001b[0;32m~/git-repos/secop-ophyd/.venv/lib64/python3.11/site-packages/ophyd/v2/core.py:729\u001b[0m, in \u001b[0;36mSignalR.read\u001b[0;34m(self, cached)\u001b[0m\n\u001b[1;32m    726\u001b[0m \u001b[39m@_add_timeout\u001b[39m\n\u001b[1;32m    727\u001b[0m \u001b[39masync\u001b[39;00m \u001b[39mdef\u001b[39;00m \u001b[39mread\u001b[39m(\u001b[39mself\u001b[39m, cached: Optional[\u001b[39mbool\u001b[39m] \u001b[39m=\u001b[39m \u001b[39mNone\u001b[39;00m) \u001b[39m-\u001b[39m\u001b[39m>\u001b[39m Dict[\u001b[39mstr\u001b[39m, Reading]:\n\u001b[1;32m    728\u001b[0m \u001b[39m    \u001b[39m\u001b[39m\"\"\"Return a single item dict with the reading in it\"\"\"\u001b[39;00m\n\u001b[0;32m--> 729\u001b[0m     \u001b[39mreturn\u001b[39;00m {\u001b[39mself\u001b[39m\u001b[39m.\u001b[39mname: \u001b[39mawait\u001b[39;00m \u001b[39mself\u001b[39m\u001b[39m.\u001b[39m_backend_or_cache(cached)\u001b[39m.\u001b[39mget_reading()}\n",
      "File \u001b[0;32m~/git-repos/secop-ophyd/secop_ophyd/SECoPSignal.py:364\u001b[0m, in \u001b[0;36mSECoP_Param_Backend.get_reading\u001b[0;34m(self)\u001b[0m\n\u001b[1;32m    363\u001b[0m \u001b[39masync\u001b[39;00m \u001b[39mdef\u001b[39;00m \u001b[39mget_reading\u001b[39m(\u001b[39mself\u001b[39m) \u001b[39m-\u001b[39m\u001b[39m>\u001b[39m Reading:\n\u001b[0;32m--> 364\u001b[0m     dataset \u001b[39m=\u001b[39m \u001b[39mawait\u001b[39;00m \u001b[39mself\u001b[39m\u001b[39m.\u001b[39m_secclient\u001b[39m.\u001b[39mgetParameter(\n\u001b[1;32m    365\u001b[0m         \u001b[39m*\u001b[39m\u001b[39m*\u001b[39m\u001b[39mself\u001b[39m\u001b[39m.\u001b[39mget_param_path(), trycache\u001b[39m=\u001b[39m\u001b[39mFalse\u001b[39;00m\n\u001b[1;32m    366\u001b[0m     )\n\u001b[1;32m    368\u001b[0m     \u001b[39m# select only the tuple/struct member corresponding to the signal\u001b[39;00m\n\u001b[1;32m    369\u001b[0m     dataset\u001b[39m.\u001b[39mvalue \u001b[39m=\u001b[39m deep_get(dataset\u001b[39m.\u001b[39mvalue, \u001b[39mself\u001b[39m\u001b[39m.\u001b[39mpath\u001b[39m.\u001b[39m_dev_path)\n",
      "File \u001b[0;32m~/git-repos/secop-ophyd/secop_ophyd/AsyncFrappyClient.py:91\u001b[0m, in \u001b[0;36mAsyncFrappyClient.getParameter\u001b[0;34m(self, module, parameter, trycache)\u001b[0m\n\u001b[1;32m     90\u001b[0m \u001b[39masync\u001b[39;00m \u001b[39mdef\u001b[39;00m \u001b[39mgetParameter\u001b[39m(\u001b[39mself\u001b[39m, module, parameter, trycache\u001b[39m=\u001b[39m\u001b[39mFalse\u001b[39;00m):\n\u001b[0;32m---> 91\u001b[0m     paramerter_reading \u001b[39m=\u001b[39m \u001b[39mawait\u001b[39;00m asyncio\u001b[39m.\u001b[39mto_thread(\n\u001b[1;32m     92\u001b[0m         \u001b[39mself\u001b[39m\u001b[39m.\u001b[39mclient\u001b[39m.\u001b[39mgetParameter, module, parameter, trycache\n\u001b[1;32m     93\u001b[0m     )\n\u001b[1;32m     94\u001b[0m     \u001b[39mreturn\u001b[39;00m SECoPReading(paramerter_reading)\n",
      "File \u001b[0;32m/usr/lib64/python3.11/asyncio/threads.py:25\u001b[0m, in \u001b[0;36mto_thread\u001b[0;34m(func, *args, **kwargs)\u001b[0m\n\u001b[1;32m     23\u001b[0m ctx \u001b[39m=\u001b[39m contextvars\u001b[39m.\u001b[39mcopy_context()\n\u001b[1;32m     24\u001b[0m func_call \u001b[39m=\u001b[39m functools\u001b[39m.\u001b[39mpartial(ctx\u001b[39m.\u001b[39mrun, func, \u001b[39m*\u001b[39margs, \u001b[39m*\u001b[39m\u001b[39m*\u001b[39mkwargs)\n\u001b[0;32m---> 25\u001b[0m \u001b[39mreturn\u001b[39;00m \u001b[39mawait\u001b[39;00m loop\u001b[39m.\u001b[39mrun_in_executor(\u001b[39mNone\u001b[39;00m, func_call)\n",
      "File \u001b[0;32m/usr/lib64/python3.11/concurrent/futures/thread.py:58\u001b[0m, in \u001b[0;36m_WorkItem.run\u001b[0;34m(self)\u001b[0m\n\u001b[1;32m     55\u001b[0m     \u001b[39mreturn\u001b[39;00m\n\u001b[1;32m     57\u001b[0m \u001b[39mtry\u001b[39;00m:\n\u001b[0;32m---> 58\u001b[0m     result \u001b[39m=\u001b[39m \u001b[39mself\u001b[39;49m\u001b[39m.\u001b[39;49mfn(\u001b[39m*\u001b[39;49m\u001b[39mself\u001b[39;49m\u001b[39m.\u001b[39;49margs, \u001b[39m*\u001b[39;49m\u001b[39m*\u001b[39;49m\u001b[39mself\u001b[39;49m\u001b[39m.\u001b[39;49mkwargs)\n\u001b[1;32m     59\u001b[0m \u001b[39mexcept\u001b[39;00m \u001b[39mBaseException\u001b[39;00m \u001b[39mas\u001b[39;00m exc:\n\u001b[1;32m     60\u001b[0m     \u001b[39mself\u001b[39m\u001b[39m.\u001b[39mfuture\u001b[39m.\u001b[39mset_exception(exc)\n",
      "File \u001b[0;32m~/git-repos/secop-ophyd/.venv/lib64/python3.11/site-packages/frappy/client/__init__.py:625\u001b[0m, in \u001b[0;36mSecopClient.getParameter\u001b[0;34m(self, module, parameter, trycache)\u001b[0m\n\u001b[1;32m    623\u001b[0m         \u001b[39mreturn\u001b[39;00m cached\n\u001b[1;32m    624\u001b[0m \u001b[39mif\u001b[39;00m \u001b[39mself\u001b[39m\u001b[39m.\u001b[39monline:\n\u001b[0;32m--> 625\u001b[0m     \u001b[39mself\u001b[39;49m\u001b[39m.\u001b[39;49mreadParameter(module, parameter)\n\u001b[1;32m    626\u001b[0m \u001b[39mreturn\u001b[39;00m \u001b[39mself\u001b[39m\u001b[39m.\u001b[39mcache[module, parameter]\n",
      "File \u001b[0;32m~/git-repos/secop-ophyd/.venv/lib64/python3.11/site-packages/frappy/client/__init__.py:613\u001b[0m, in \u001b[0;36mSecopClient.readParameter\u001b[0;34m(self, module, parameter)\u001b[0m\n\u001b[1;32m    611\u001b[0m \u001b[39m\u001b[39m\u001b[39m\"\"\"forced read over connection\"\"\"\u001b[39;00m\n\u001b[1;32m    612\u001b[0m \u001b[39mtry\u001b[39;00m:\n\u001b[0;32m--> 613\u001b[0m     \u001b[39mself\u001b[39;49m\u001b[39m.\u001b[39;49mrequest(READREQUEST, \u001b[39mself\u001b[39;49m\u001b[39m.\u001b[39;49midentifier[module, parameter])\n\u001b[1;32m    614\u001b[0m \u001b[39mexcept\u001b[39;00m frappy\u001b[39m.\u001b[39merrors\u001b[39m.\u001b[39mSECoPError:\n\u001b[1;32m    615\u001b[0m     \u001b[39m# error reply message is already stored as readerror in cache\u001b[39;00m\n\u001b[1;32m    616\u001b[0m     \u001b[39mpass\u001b[39;00m\n",
      "File \u001b[0;32m~/git-repos/secop-ophyd/.venv/lib64/python3.11/site-packages/frappy/client/__init__.py:608\u001b[0m, in \u001b[0;36mSecopClient.request\u001b[0;34m(self, action, ident, data)\u001b[0m\n\u001b[1;32m    603\u001b[0m \u001b[39m\u001b[39m\u001b[39m\"\"\"make a request\u001b[39;00m\n\u001b[1;32m    604\u001b[0m \n\u001b[1;32m    605\u001b[0m \u001b[39mand wait for reply\u001b[39;00m\n\u001b[1;32m    606\u001b[0m \u001b[39m\"\"\"\u001b[39;00m\n\u001b[1;32m    607\u001b[0m entry \u001b[39m=\u001b[39m \u001b[39mself\u001b[39m\u001b[39m.\u001b[39mqueue_request(action, ident, data)\n\u001b[0;32m--> 608\u001b[0m \u001b[39mreturn\u001b[39;00m \u001b[39mself\u001b[39;49m\u001b[39m.\u001b[39;49mget_reply(entry)\n",
      "File \u001b[0;32m~/git-repos/secop-ophyd/.venv/lib64/python3.11/site-packages/frappy/client/__init__.py:596\u001b[0m, in \u001b[0;36mSecopClient.get_reply\u001b[0;34m(self, entry)\u001b[0m\n\u001b[1;32m    594\u001b[0m     \u001b[39mraise\u001b[39;00m \u001b[39mTimeoutError\u001b[39;00m(\u001b[39m'\u001b[39m\u001b[39mno response within 10s\u001b[39m\u001b[39m'\u001b[39m)\n\u001b[1;32m    595\u001b[0m \u001b[39mif\u001b[39;00m \u001b[39mnot\u001b[39;00m entry[\u001b[39m2\u001b[39m]:  \u001b[39m# reply\u001b[39;00m\n\u001b[0;32m--> 596\u001b[0m     \u001b[39mraise\u001b[39;00m \u001b[39mConnectionError\u001b[39;00m(\u001b[39m'\u001b[39m\u001b[39mconnection closed before reply\u001b[39m\u001b[39m'\u001b[39m)\n\u001b[1;32m    597\u001b[0m action, _, data \u001b[39m=\u001b[39m entry[\u001b[39m2\u001b[39m]  \u001b[39m# pylint: disable=unpacking-non-sequence\u001b[39;00m\n\u001b[1;32m    598\u001b[0m \u001b[39mif\u001b[39;00m action\u001b[39m.\u001b[39mstartswith(ERRORPREFIX):\n",
      "\u001b[0;31mConnectionError\u001b[0m: connection closed before reply"
     ]
    }
   ],
   "source": [
    "p = RE(count([nested_node.str_test], num=5, delay=5))\n"
   ]
  },
  {
   "cell_type": "code",
   "execution_count": 5,
   "metadata": {},
   "outputs": [
    {
     "name": "stdout",
     "output_type": "stream",
     "text": [
      "{'sample_changer-HZB-storage-value': {'value': [\"{'sample_name': 'KnusperkeksRittersport', 'substance': 'Knusperkeks', 'substance_code': '0', 'sample_pos': 1, 'manufacturer': 'Rittersport', 'sample_id': 'a7de4f38-8a60-42b9-a67a-c502ac8c43fc', 'color': 'brown', 'mass': 0.0167}\"], 'timestamp': 1691575920.1993592}}\n",
      "\n",
      "\n",
      "Transient Scan ID: 2     Time: 2023-08-09 12:12:00\n",
      "Persistent Unique Scan ID: '7a949780-f442-4072-b8fa-6ed789c61ae2'\n",
      "New stream: 'primary'\n",
      "+-----------+------------+----------------------------------+\n",
      "|   seq_num |       time | sample_changer-HZB-storage-value |\n",
      "+-----------+------------+----------------------------------+\n",
      " failed to format row \n"
     ]
    },
    {
     "name": "stderr",
     "output_type": "stream",
     "text": [
      "/home/peter/git-repos/secop-ophyd/.venv/lib64/python3.11/site-packages/bluesky/callbacks/best_effort.py:248: UserWarning: Omitting sample_changer-HZB-storage-value from plot because dtype is string\n",
      "  warn(\"Omitting {} from plot because dtype is {}\"\n"
     ]
    },
    {
     "name": "stdout",
     "output_type": "stream",
     "text": [
      " failed to format row \n",
      " failed to format row \n",
      " failed to format row \n",
      " failed to format row \n",
      "+-----------+------------+----------------------------------+\n",
      "generator count ['7a949780'] (scan num: 2)\n",
      "\n",
      "\n",
      "\n",
      "\n",
      "\n",
      "Transient Scan ID: 3     Time: 2023-08-09 12:12:05\n",
      "Persistent Unique Scan ID: '4d07ee7d-e5a7-4337-882d-7f7f3c4655ee'\n",
      "New stream: 'primary'\n",
      "+-----------+------------+---------------------------------+\n",
      "|   seq_num |       time | sample_changer-HZB-sample-value |\n",
      "+-----------+------------+---------------------------------+\n",
      "|         1 | 12:12:05.4 |                           0.000 |\n",
      "|         2 | 12:12:06.4 |                           0.000 |\n",
      "|         3 | 12:12:07.4 |                           0.000 |\n",
      "|         4 | 12:12:08.4 |                           0.000 |\n",
      "|         5 | 12:12:09.4 |                           0.000 |\n",
      "+-----------+------------+---------------------------------+\n",
      "generator count ['4d07ee7d'] (scan num: 3)\n",
      "\n",
      "\n",
      "\n",
      "4d07ee7d-e5a7-4337-882d-7f7f3c4655ee\n"
     ]
    },
    {
     "data": {
      "image/png": "[encoded data removed]",
      "text/plain": [
       "<Figure size 500x500 with 1 Axes>"
      ]
     },
     "metadata": {},
     "output_type": "display_data"
    },
    {
     "data": {
      "image/png": "[encoded data removed]",
      "text/plain": [
       "<Figure size 500x500 with 1 Axes>"
      ]
     },
     "metadata": {},
     "output_type": "display_data"
    }
   ],
   "source": [
    "print(await robot_node.storage.read())\n",
    "\n",
    "p = RE(count([robot_node.storage], num=5, delay=1))\n",
    "p = RE(count([robot_node.sample], num=5, delay=1))\n",
    "print(p.plan_result)"
   ]
  },
  {
   "cell_type": "code",
   "execution_count": null,
   "metadata": {},
   "outputs": [],
   "source": [
    "cryoNode = SECoP_Node_Device.create_external_loop(host='localhost',port ='10769',loop= RE.loop)"
   ]
  },
  {
   "cell_type": "code",
   "execution_count": null,
   "metadata": {},
   "outputs": [],
   "source": [
    "client = cryoNode._secclient\n",
    "\n",
    "\n",
    "\n",
    "fut = asyncio.run_coroutine_threadsafe(client.disconnect(),get_bluesky_event_loop())\n",
    "print(fut.result(2))\n",
    "\n",
    "print(client.online)\n",
    "\n",
    "fut = asyncio.run_coroutine_threadsafe(client.connect(),get_bluesky_event_loop())\n",
    "print(fut.result(2))\n",
    "print(client.online)"
   ]
  },
  {
   "cell_type": "code",
   "execution_count": null,
   "metadata": {},
   "outputs": [],
   "source": [
    "fut = asyncio.run_coroutine_threadsafe(cryoNode._secclient.getParameter('cryo','value'),get_bluesky_event_loop())\n",
    "print(fut.result(2).get_reading())\n",
    "\n"
   ]
  },
  {
   "cell_type": "code",
   "execution_count": null,
   "metadata": {},
   "outputs": [],
   "source": [
    "fut = asyncio.run_coroutine_threadsafe(cryoNode._secclient.connect(2),get_bluesky_event_loop())\n",
    "\n",
    "fut.result(2)\n",
    "\n",
    "cryoNode._secclient.online"
   ]
  },
  {
   "cell_type": "code",
   "execution_count": null,
   "metadata": {},
   "outputs": [],
   "source": [
    "test = {\"_nested_struct\":{\n",
    "          \"datainfo\":{\n",
    "            \"members\":{\n",
    "              \"number\":{\n",
    "                \"max\":100.0,\n",
    "                \"min\":0.0,\n",
    "                \"type\":\"double\",\n",
    "                \"unit\":\"s\"\n",
    "              },\n",
    "              \"pos_struct\":{\n",
    "                \"members\":{\n",
    "                  \"col\":{\n",
    "                    \"type\":\"string\"\n",
    "                  },\n",
    "                  \"enum\":{\n",
    "                    \"members\":{\n",
    "                      \"mode_max\":2,\n",
    "                      \"mode_one\":1,\n",
    "                      \"mode_zero\":0\n",
    "                    },\n",
    "                    \"type\":\"enum\"\n",
    "                  },\n",
    "                  \"x\":{\n",
    "                    \"max\":100.0,\n",
    "                    \"min\":0.0,\n",
    "                    \"type\":\"double\",\n",
    "                    \"unit\":\"m\"\n",
    "                  },\n",
    "                  \"y\":{\n",
    "                    \"max\":100.0,\n",
    "                    \"min\":0.0,\n",
    "                    \"type\":\"double\",\n",
    "                    \"unit\":\"m\"\n",
    "                  },\n",
    "                  \"z\":{\n",
    "                    \"max\":100.0,\n",
    "                    \"min\":0.0,\n",
    "                    \"type\":\"double\",\n",
    "                    \"unit\":\"m\"\n",
    "                  }\n",
    "                },\n",
    "                \"type\":\"struct\"\n",
    "              },\n",
    "              \"string\":{\n",
    "                \"type\":\"string\"\n",
    "              },\n",
    "              \"tupl\":{\n",
    "                \"members\":[\n",
    "                  {\n",
    "                    \"max\":100.0,\n",
    "                    \"min\":0.0,\n",
    "                    \"type\":\"double\"\n",
    "                  },\n",
    "                  {\n",
    "                    \"max\":100.0,\n",
    "                    \"min\":0.0,\n",
    "                    \"type\":\"double\"\n",
    "                  },\n",
    "                  {\n",
    "                    \"max\":100.0,\n",
    "                    \"min\":0.0,\n",
    "                    \"type\":\"double\"\n",
    "                  }\n",
    "                ],\n",
    "                \"type\":\"tuple\"\n",
    "              }\n",
    "            },\n",
    "            \"type\":\"struct\"\n",
    "          },\n",
    "          \"description\":\"nestedstruct dict containing other structs and tuples \",\n",
    "          \"readonly\":True\n",
    "        }\n",
    "        }\n",
    "\n",
    "parameter_name = \"_nested_struct\" \n",
    "\n",
    "struct_datainfo =  test['_nested_struct']['datainfo']\n",
    "\n",
    "path = []\n",
    "\n",
    "member_path = path + ['members']\n",
    "\n",
    "print(deep_get(struct_datainfo,member_path))\n",
    "\n",
    "for keys,value in deep_get(struct_datainfo,member_path).items():\n",
    "\n",
    "    print(keys)"
   ]
  },
  {
   "cell_type": "code",
   "execution_count": null,
   "metadata": {},
   "outputs": [],
   "source": [
    "    \n",
    "loop =asyncio.get_running_loop()\n",
    "\n",
    "\n",
    "ophy_dev = await AsyncFrappyClient.create(host='localhost',port='10771',loop=loop)\n",
    "\n",
    "\n",
    "ophy_dev.online"
   ]
  },
  {
   "cell_type": "code",
   "execution_count": null,
   "metadata": {},
   "outputs": [],
   "source": [
    "# Python3 code to demonstrate\n",
    "# inserting K after every Nth number\n",
    "# using itertool.chain()\n",
    "from itertools import chain\n",
    " \n",
    "# initializing list\n",
    "test_list = ['struct']\n",
    " \n",
    "# printing original list\n",
    "print (\"The original list is : \" + str(test_list))\n",
    " \n",
    "# initializing k\n",
    "k = 'members'\n",
    " \n",
    "# initializing N\n",
    "N = 1\n",
    " \n",
    "# using itertool.chain()\n",
    "# inserting K after every Nth number\n",
    "res = ['members'] + list(chain(*[test_list[i : i+N] + [k]\n",
    "            if len(test_list[i : i+N]) == N\n",
    "            else test_list[i : i+N]\n",
    "            for i in range(0, len(test_list), N)]))\n",
    " \n",
    "# printing result\n",
    "print (\"The lists after insertion : \" + str(res))"
   ]
  },
  {
   "cell_type": "code",
   "execution_count": null,
   "metadata": {},
   "outputs": [],
   "source": [
    "\n",
    "nest_test = {\"_nested_struct\":{\n",
    "          \"datainfo\":{\n",
    "            \"members\":{\n",
    "              \"number\":{\n",
    "                \"max\":100.0,\n",
    "                \"min\":0.0,\n",
    "                \"type\":\"double\",\n",
    "                \"unit\":\"s\"\n",
    "              },\n",
    "              \"pos_struct\":{\n",
    "                \"members\":{\n",
    "                  \"col\":{\n",
    "                    \"type\":\"string\"\n",
    "                  },\n",
    "                  \"enum\":{\n",
    "                    \"members\":{\n",
    "                      \"mode_max\":2,\n",
    "                      \"mode_one\":1,\n",
    "                      \"mode_zero\":0\n",
    "                    },\n",
    "                    \"type\":\"enum\"\n",
    "                  },\n",
    "                  \"x\":{\n",
    "                    \"max\":100.0,\n",
    "                    \"min\":0.0,\n",
    "                    \"type\":\"double\",\n",
    "                    \"unit\":\"m\"\n",
    "                  },\n",
    "                  \"y\":{\n",
    "                    \"max\":100.0,\n",
    "                    \"min\":0.0,\n",
    "                    \"type\":\"double\",\n",
    "                    \"unit\":\"m\"\n",
    "                  },\n",
    "                  \"z\":{\n",
    "                    \"max\":100.0,\n",
    "                    \"min\":0.0,\n",
    "                    \"type\":\"double\",\n",
    "                    \"unit\":\"m\"\n",
    "                  }\n",
    "                },\n",
    "                \"type\":\"struct\"\n",
    "              },\n",
    "              \"string\":{\n",
    "                \"type\":\"string\"\n",
    "              },\n",
    "              \"tupl\":{\n",
    "                \"members\":[\n",
    "                  {\n",
    "                    \"max\":100.0,\n",
    "                    \"min\":0.0,\n",
    "                    \"type\":\"double\"\n",
    "                  },\n",
    "                  {\n",
    "                    \"max\":100.0,\n",
    "                    \"min\":0.0,\n",
    "                    \"type\":\"double\"\n",
    "                  },\n",
    "                  {\n",
    "                    \"max\":100.0,\n",
    "                    \"min\":0.0,\n",
    "                    \"type\":\"double\"\n",
    "                  }\n",
    "                ],\n",
    "                \"type\":\"tuple\"\n",
    "              }\n",
    "            },\n",
    "            \"type\":\"struct\"\n",
    "          },\n",
    "          \"description\":\"nestedstruct dict containing other structs and tuples \",\n",
    "          \"readonly\":True\n",
    "        }\n",
    "        }\n",
    "\n",
    "\n",
    "\n",
    "\n",
    "nest_test['_nested_struct','datainfo'] = 0\n",
    "\n",
    "\n",
    "print(nest_test)"
   ]
  },
  {
   "cell_type": "code",
   "execution_count": 1,
   "metadata": {},
   "outputs": [
    {
     "name": "stdout",
     "output_type": "stream",
     "text": [
      "ophyd_secop.frappy.demo ready\n",
      "{'number': 5.0, 'string': 'blablalbla', 'tupl': (1.0, 1.0, 1.0), 'pos_struct': {'x': 5.0, 'y': 10.0, 'z': 15.0, 'col': 'green', 'enum': <nested_struct.mode_one (1)>}}\n",
      "1.0\n",
      "5.0\n",
      "1.0\n"
     ]
    },
    {
     "data": {
      "text/plain": [
       "<coroutine object AsyncFrappyClient.disconnect at 0x7fa45dca5b40>"
      ]
     },
     "execution_count": 1,
     "metadata": {},
     "output_type": "execute_result"
    }
   ],
   "source": [
    "from AsyncSecopClient import AsyncFrappyClient\n",
    "import asyncio\n",
    "from SECoPSignal import deep_get\n",
    "\n",
    "client = await  AsyncFrappyClient.create('localhost','10771',asyncio.get_running_loop())\n",
    "\n",
    "reading = await client.getParameter('ophy_struct','nested_struct')\n",
    "\n",
    "val = reading.get_value()\n",
    "print(val)\n",
    "\n",
    "print(val['tupl'][1])\n",
    "\n",
    "print(val['pos_struct']['x'])\n",
    "print(deep_get(dictionary=val,keys=['tupl',1],default=None))\n",
    "client.disconnect(True)"
   ]
  },
  {
   "cell_type": "code",
   "execution_count": null,
   "metadata": {},
   "outputs": [],
   "source": [
    "from SECoPSignal import deep_get\n",
    "\n",
    "\n",
    "datainfo = {\n",
    "            \"members\":[\n",
    "              {\n",
    "                \"members\":{\n",
    "                  \"BUSY\":300,\n",
    "                  \"ERROR\":400,\n",
    "                  \"IDLE\":100,\n",
    "                  \"WARN\":200\n",
    "                },\n",
    "                \"type\":\"enum\"\n",
    "              },\n",
    "              {\n",
    "                \"type\":\"string\"\n",
    "              }\n",
    "            ],\n",
    "            \"type\":\"tuple\"\n",
    "          }\n",
    "\n",
    "member_path = ['members',0]\n",
    "\n",
    "print(deep_get(datainfo,member_path))"
   ]
  },
  {
   "cell_type": "code",
   "execution_count": null,
   "metadata": {},
   "outputs": [],
   "source": [
    "from SECoPSignal import get_memberpath, deep_get\n",
    "\n",
    "nest_test = {\"_nested_struct\":{\n",
    "          \"datainfo\":{\n",
    "            \"members\":{\n",
    "              \"number\":{\n",
    "                \"max\":100.0,\n",
    "                \"min\":0.0,\n",
    "                \"type\":\"double\",\n",
    "                \"unit\":\"s\"\n",
    "              },\n",
    "              \"pos_struct\":{\n",
    "                \"members\":{\n",
    "                  \"col\":{\n",
    "                    \"type\":\"string\"\n",
    "                  },\n",
    "                  \"enum\":{\n",
    "                    \"members\":{\n",
    "                      \"mode_max\":2,\n",
    "                      \"mode_one\":1,\n",
    "                      \"mode_zero\":0\n",
    "                    },\n",
    "                    \"type\":\"enum\"\n",
    "                  },\n",
    "                  \"x\":{\n",
    "                    \"max\":100.0,\n",
    "                    \"min\":0.0,\n",
    "                    \"type\":\"double\",\n",
    "                    \"unit\":\"m\"\n",
    "                  },\n",
    "                  \"y\":{\n",
    "                    \"max\":100.0,\n",
    "                    \"min\":0.0,\n",
    "                    \"type\":\"double\",\n",
    "                    \"unit\":\"m\"\n",
    "                  },\n",
    "                  \"z\":{\n",
    "                    \"max\":100.0,\n",
    "                    \"min\":0.0,\n",
    "                    \"type\":\"double\",\n",
    "                    \"unit\":\"m\"\n",
    "                  }\n",
    "                },\n",
    "                \"type\":\"struct\"\n",
    "              },\n",
    "              \"string\":{\n",
    "                \"type\":\"string\"\n",
    "              },\n",
    "              \"tupl\":{\n",
    "                \"members\":[\n",
    "                  {\n",
    "                    \"max\":100.0,\n",
    "                    \"min\":0.0,\n",
    "                    \"type\":\"double\"\n",
    "                  },\n",
    "                  {\n",
    "                    \"max\":100.0,\n",
    "                    \"min\":0.0,\n",
    "                    \"type\":\"double\"\n",
    "                  },\n",
    "                  {\n",
    "                    \"max\":100.0,\n",
    "                    \"min\":0.0,\n",
    "                    \"type\":\"double\"\n",
    "                  }\n",
    "                ],\n",
    "                \"type\":\"tuple\"\n",
    "              }\n",
    "            },\n",
    "            \"type\":\"struct\"\n",
    "          },\n",
    "          \"description\":\"nestedstruct dict containing other structs and tuples \",\n",
    "          \"readonly\":True\n",
    "        }\n",
    "        }\n",
    "datainfo = nest_test['_nested_struct']['datainfo']\n",
    "\n",
    "path = ['pos_struct']\n",
    "\n",
    "memberpath = get_memberpath(path) + ['members']\n",
    "print(memberpath)\n",
    "\n",
    "for member_name, value in deep_get(datainfo,memberpath).items():\n",
    "    print(member_name)\n",
    "\n"
   ]
  },
  {
   "cell_type": "code",
   "execution_count": 1,
   "metadata": {},
   "outputs": [
    {
     "name": "stdout",
     "output_type": "stream",
     "text": [
      "ophyd_secop.frappy.demo ready\n"
     ]
    },
    {
     "ename": "TypeError",
     "evalue": "int() argument must be a string, a bytes-like object or a real number, not 'tuple'",
     "output_type": "error",
     "traceback": [
      "\u001b[0;31m---------------------------------------------------------------------------\u001b[0m",
      "\u001b[0;31mTypeError\u001b[0m                                 Traceback (most recent call last)",
      "Cell \u001b[0;32mIn[1], line 11\u001b[0m\n\u001b[1;32m      8\u001b[0m \u001b[39mawait\u001b[39;00m testcmd\u001b[39m.\u001b[39mid_arg\u001b[39m.\u001b[39mset(\u001b[39m2\u001b[39m)\n\u001b[1;32m      9\u001b[0m \u001b[39mawait\u001b[39;00m testcmd\u001b[39m.\u001b[39msort_arg\u001b[39m.\u001b[39mset(\u001b[39mTrue\u001b[39;00m)\n\u001b[0;32m---> 11\u001b[0m \u001b[39mawait\u001b[39;00m testcmd\u001b[39m.\u001b[39mtest_cmd_x\u001b[39m.\u001b[39mexecute()\n\u001b[1;32m     13\u001b[0m \u001b[39mprint\u001b[39m(\u001b[39mawait\u001b[39;00m testcmd\u001b[39m.\u001b[39mtest_cmd_res\u001b[39m.\u001b[39mread())\n",
      "File \u001b[0;32m~/gitrepos/bssecop/.venv/lib/python3.11/site-packages/ophyd/v2/core.py:782\u001b[0m, in \u001b[0;36mSignalX.execute\u001b[0;34m(self, wait, timeout)\u001b[0m\n\u001b[1;32m    780\u001b[0m \u001b[39masync\u001b[39;00m \u001b[39mdef\u001b[39;00m \u001b[39mexecute\u001b[39m(\u001b[39mself\u001b[39m, wait\u001b[39m=\u001b[39m\u001b[39mTrue\u001b[39;00m, timeout\u001b[39m=\u001b[39m\u001b[39mNone\u001b[39;00m):\n\u001b[1;32m    781\u001b[0m \u001b[39m    \u001b[39m\u001b[39m\"\"\"Execute the action and return a status saying when it's done\"\"\"\u001b[39;00m\n\u001b[0;32m--> 782\u001b[0m     \u001b[39mawait\u001b[39;00m \u001b[39mself\u001b[39m\u001b[39m.\u001b[39m_backend\u001b[39m.\u001b[39mput(\u001b[39mNone\u001b[39;00m, wait\u001b[39m=\u001b[39mwait, timeout\u001b[39m=\u001b[39mtimeout \u001b[39mor\u001b[39;00m \u001b[39mself\u001b[39m\u001b[39m.\u001b[39m_timeout)\n",
      "File \u001b[0;32m~/gitrepos/bssecop/bssecop/SECoPSignal.py:225\u001b[0m, in \u001b[0;36mSECoP_CMD_X_Backend.put\u001b[0;34m(self, value, wait, timeout)\u001b[0m\n\u001b[1;32m    223\u001b[0m \u001b[39melif\u001b[39;00m \u001b[39misinstance\u001b[39m(res_datatype,atomic_dtypes):\n\u001b[1;32m    224\u001b[0m     sig \u001b[39m=\u001b[39m \u001b[39mnext\u001b[39m(\u001b[39miter\u001b[39m(\u001b[39mself\u001b[39m\u001b[39m.\u001b[39mresult\u001b[39m.\u001b[39mvalues()))\n\u001b[0;32m--> 225\u001b[0m     \u001b[39mawait\u001b[39;00m sig\u001b[39m.\u001b[39mput(res)\n",
      "File \u001b[0;32m~/gitrepos/bssecop/bssecop/SECoPSignal.py:97\u001b[0m, in \u001b[0;36mSECoP_CMD_IO_Backend.put\u001b[0;34m(self, value, wait, timeout)\u001b[0m\n\u001b[1;32m     95\u001b[0m     \u001b[39mself\u001b[39m\u001b[39m.\u001b[39mvalue \u001b[39m=\u001b[39m \u001b[39mself\u001b[39m\u001b[39m.\u001b[39mfrappy_datatype\u001b[39m.\u001b[39mfrom_string(value)    \n\u001b[1;32m     96\u001b[0m \u001b[39melse\u001b[39;00m:\n\u001b[0;32m---> 97\u001b[0m     \u001b[39mself\u001b[39m\u001b[39m.\u001b[39mvalue \u001b[39m=\u001b[39m \u001b[39mself\u001b[39;49m\u001b[39m.\u001b[39;49mfrappy_datatype\u001b[39m.\u001b[39;49mimport_value(value)\n\u001b[1;32m     99\u001b[0m \u001b[39mself\u001b[39m\u001b[39m.\u001b[39mreading\u001b[39m.\u001b[39mset_reading(value)\n\u001b[1;32m    101\u001b[0m \u001b[39mif\u001b[39;00m \u001b[39mself\u001b[39m\u001b[39m.\u001b[39mcallback \u001b[39m!=\u001b[39m \u001b[39mNone\u001b[39;00m:\n",
      "File \u001b[0;32m~/gitrepos/bssecop/.venv/lib/python3.11/site-packages/frappy/datatypes.py:343\u001b[0m, in \u001b[0;36mIntRange.import_value\u001b[0;34m(self, value)\u001b[0m\n\u001b[1;32m    341\u001b[0m \u001b[39mdef\u001b[39;00m \u001b[39mimport_value\u001b[39m(\u001b[39mself\u001b[39m, value):\n\u001b[1;32m    342\u001b[0m \u001b[39m    \u001b[39m\u001b[39m\"\"\"returns a python object from serialisation\"\"\"\u001b[39;00m\n\u001b[0;32m--> 343\u001b[0m     \u001b[39mreturn\u001b[39;00m \u001b[39mint\u001b[39;49m(value)\n",
      "\u001b[0;31mTypeError\u001b[0m: int() argument must be a string, a bytes-like object or a real number, not 'tuple'"
     ]
    }
   ],
   "source": [
    "import asyncio\n",
    "from secop_ophyd.SECoPDevices import SECoP_Node_Device\n",
    "nested_node_dev = await SECoP_Node_Device.create('localhost','10771',asyncio.get_running_loop())\n",
    "\n",
    "testcmd = nested_node_dev.ophy_struct.test_cmd_dev\n",
    "\n",
    "await testcmd.name_arg.set('blah')\n",
    "await testcmd.id_arg.set(2)\n",
    "await testcmd.sort_arg.set(True)\n",
    "\n",
    "await testcmd.test_cmd_x.execute()\n",
    "\n",
    "print(await testcmd.test_cmd_res.read())\n",
    "\n"
   ]
  },
  {
   "cell_type": "code",
   "execution_count": 1,
   "metadata": {},
   "outputs": [],
   "source": [
    "from secop_ophyd.AsyncFrappyClient import AsyncFrappyClient\n",
    "import asyncio\n",
    "import logging\n",
    "import time\n",
    "\n",
    "class NoRXFilter(logging.Filter):\n",
    "    def filter(self, record):\n",
    "        return not record.getMessage().startswith('RX')\n",
    "class NoTXFilter(logging.Filter):\n",
    "    def filter(self, record):\n",
    "        return not record.getMessage().startswith('TX')\n",
    "\n",
    "\n",
    "\n",
    "\n",
    "logger = logging.getLogger('async_client')\n",
    "logger.setLevel(logging.DEBUG)\n",
    "\n",
    "logger.addFilter(NoRXFilter())\n",
    "logger.addFilter(NoTXFilter())\n",
    "\n",
    "logging.basicConfig(\n",
    "    datefmt='%d/%m/%Y %I:%M:%S',\n",
    "    format='%(asctime)s.%(msecs)03d  %(name)-12s %(levelname)-8s %(message)s',\n",
    "    filename='asyncclient.log',\n",
    "    encoding='utf-8',\n",
    "    level=logging.DEBUG,\n",
    "    filemode='w')\n",
    "\n",
    "    \n",
    "\n",
    "client:AsyncFrappyClient = await AsyncFrappyClient.create('localhost','10771',asyncio.get_running_loop(),log=logger)\n",
    "\n",
    "\n",
    "await client.disconnect(shutdown=True)\n",
    "\n",
    "await asyncio.sleep(2)\n",
    "\n",
    "print(client.state)\n",
    "time.sleep(2)\n",
    "\n",
    "client.client._shutdown = False\n",
    "await client.connect(3)\n",
    "\n",
    "print(client.state)\n",
    "\n",
    "\n",
    "logger.info('are we connected?')"
   ]
  },
  {
   "cell_type": "code",
   "execution_count": 10,
   "metadata": {},
   "outputs": [
    {
     "name": "stdout",
     "output_type": "stream",
     "text": [
      "ophyd_secop.frappy.demo ready\n"
     ]
    }
   ],
   "source": [
    "import asyncio\n",
    "from secop_ophyd.SECoPDevices import SECoP_Node_Device,SECoPReadableDevice,SECoP_CMD_Device\n",
    "from ophyd.v2.core import observe_value\n",
    "robo_node = await SECoP_Node_Device.create('localhost','10770',asyncio.get_running_loop())\n",
    "\n",
    "\n"
   ]
  },
  {
   "cell_type": "code",
   "execution_count": 6,
   "metadata": {},
   "outputs": [
    {
     "name": "stdout",
     "output_type": "stream",
     "text": [
      "{'sample_changer-HZB-storage-value': {'value': [\"{'sample_name': 'KnusperflakesRittersport', 'substance': 'Knusperflakes', 'substance_code': '2', 'sample_pos': 1, 'manufacturer': 'Rittersport', 'sample_id': 'cbae24fd-e39b-43ae-a64d-d03b4fd85984', 'color': 'yellow', 'mass': 0.0167}\", \"{'sample_name': 'KnusperflakesRittersport', 'substance': 'Knusperflakes', 'substance_code': '2', 'sample_pos': 2, 'manufacturer': 'Rittersport', 'sample_id': '759ecf53-1b84-4e74-ad77-77f15a68c758', 'color': 'yellow', 'mass': 0.0167}\", \"{'sample_name': 'KnusperflakesRittersport', 'substance': 'Knusperflakes', 'substance_code': '2', 'sample_pos': 3, 'manufacturer': 'Rittersport', 'sample_id': '0376e5fb-872f-416d-bbd6-c5c6d0462c08', 'color': 'yellow', 'mass': 0.0167}\", \"{'sample_name': 'KnusperflakesRittersport', 'substance': 'Knusperflakes', 'substance_code': '2', 'sample_pos': 4, 'manufacturer': 'Rittersport', 'sample_id': 'b9f26bc8-1fb9-4171-a0c2-772fb19bacfa', 'color': 'yellow', 'mass': 0.0167}\", \"{'sample_name': 'KnusperflakesRittersport', 'substance': 'Knusperflakes', 'substance_code': '2', 'sample_pos': 5, 'manufacturer': 'Rittersport', 'sample_id': 'd4cede3a-18d1-4041-9ee4-8bc33f3c8f7b', 'color': 'yellow', 'mass': 0.0167}\", \"{'sample_name': 'KnusperflakesRittersport', 'substance': 'Knusperflakes', 'substance_code': '2', 'sample_pos': 6, 'manufacturer': 'Rittersport', 'sample_id': 'a490d313-40d4-4391-97a8-9e9b30929349', 'color': 'yellow', 'mass': 0.0167}\", \"{'sample_name': 'KnusperflakesRittersport', 'substance': 'Knusperflakes', 'substance_code': '2', 'sample_pos': 7, 'manufacturer': 'Rittersport', 'sample_id': '7c6cecb9-0c01-4d97-bc72-8bea5c47e1e5', 'color': 'yellow', 'mass': 0.0167}\", \"{'sample_name': 'KnusperflakesRittersport', 'substance': 'Knusperflakes', 'substance_code': '2', 'sample_pos': 8, 'manufacturer': 'Rittersport', 'sample_id': 'fdde8623-dad6-4f69-8b56-22e8be2dec91', 'color': 'yellow', 'mass': 0.0167}\", \"{'sample_name': 'KnusperflakesRittersport', 'substance': 'Knusperflakes', 'substance_code': '2', 'sample_pos': 9, 'manufacturer': 'Rittersport', 'sample_id': '5a68e1e8-015c-4ba2-8627-e6c0484d63d0', 'color': 'yellow', 'mass': 0.0167}\", \"{'sample_name': 'KnusperflakesRittersport', 'substance': 'Knusperflakes', 'substance_code': '2', 'sample_pos': 10, 'manufacturer': 'Rittersport', 'sample_id': '7998e8b4-ef6f-4cf9-8745-20bec7b97848', 'color': 'yellow', 'mass': 0.0167}\", \"{'sample_name': 'KnusperflakesRittersport', 'substance': 'Knusperflakes', 'substance_code': '2', 'sample_pos': 11, 'manufacturer': 'Rittersport', 'sample_id': '937ddfd5-b757-464e-8211-d51f52e16a71', 'color': 'yellow', 'mass': 0.0167}\", \"{'sample_name': 'KnusperflakesRittersport', 'substance': 'Knusperflakes', 'substance_code': '2', 'sample_pos': 12, 'manufacturer': 'Rittersport', 'sample_id': '1dc55c94-0d74-4aeb-b4d1-01cfc433c255', 'color': 'yellow', 'mass': 0.0167}\"], 'timestamp': 1691408662.9484775}}\n"
     ]
    },
    {
     "ename": "ImpossibleError",
     "evalue": "Sample pos 1 is already occupied",
     "output_type": "error",
     "traceback": [
      "\u001b[0;31m---------------------------------------------------------------------------\u001b[0m",
      "\u001b[0;31mImpossibleError\u001b[0m                           Traceback (most recent call last)",
      "Cell \u001b[0;32mIn[6], line 15\u001b[0m\n\u001b[1;32m     12\u001b[0m \u001b[39mawait\u001b[39;00m loadshort\u001b[39m.\u001b[39msamplepos_arg\u001b[39m.\u001b[39mset(samplepos)\n\u001b[1;32m     13\u001b[0m \u001b[39mawait\u001b[39;00m loadshort\u001b[39m.\u001b[39msubstance_arg\u001b[39m.\u001b[39mset(\u001b[39m2\u001b[39m)\n\u001b[0;32m---> 15\u001b[0m \u001b[39mawait\u001b[39;00m loadshort\u001b[39m.\u001b[39mload_short_x\u001b[39m.\u001b[39mexecute()\n\u001b[1;32m     17\u001b[0m \u001b[39mawait\u001b[39;00m storage\u001b[39m.\u001b[39mwait_for_IDLE()\n\u001b[1;32m     18\u001b[0m \u001b[39mprint\u001b[39m(samplepos)\n",
      "File \u001b[0;32m~/git-repos/secop-ophyd/.venv/lib64/python3.11/site-packages/ophyd/v2/core.py:782\u001b[0m, in \u001b[0;36mSignalX.execute\u001b[0;34m(self, wait, timeout)\u001b[0m\n\u001b[1;32m    780\u001b[0m \u001b[39masync\u001b[39;00m \u001b[39mdef\u001b[39;00m \u001b[39mexecute\u001b[39m(\u001b[39mself\u001b[39m, wait\u001b[39m=\u001b[39m\u001b[39mTrue\u001b[39;00m, timeout\u001b[39m=\u001b[39m\u001b[39mNone\u001b[39;00m):\n\u001b[1;32m    781\u001b[0m \u001b[39m    \u001b[39m\u001b[39m\"\"\"Execute the action and return a status saying when it's done\"\"\"\u001b[39;00m\n\u001b[0;32m--> 782\u001b[0m     \u001b[39mawait\u001b[39;00m \u001b[39mself\u001b[39m\u001b[39m.\u001b[39m_backend\u001b[39m.\u001b[39mput(\u001b[39mNone\u001b[39;00m, wait\u001b[39m=\u001b[39mwait, timeout\u001b[39m=\u001b[39mtimeout \u001b[39mor\u001b[39;00m \u001b[39mself\u001b[39m\u001b[39m.\u001b[39m_timeout)\n",
      "File \u001b[0;32m~/git-repos/secop-ophyd/secop_ophyd/SECoPSignal.py:192\u001b[0m, in \u001b[0;36mSECoP_CMD_X_Backend.put\u001b[0;34m(self, value, wait, timeout)\u001b[0m\n\u001b[1;32m    189\u001b[0m     argument \u001b[39m=\u001b[39m arg_datatype\u001b[39m.\u001b[39mexport_datatype(\u001b[39mawait\u001b[39;00m sig\u001b[39m.\u001b[39mget_value())\n\u001b[1;32m    191\u001b[0m \u001b[39m# Run SECoP Command\u001b[39;00m\n\u001b[0;32m--> 192\u001b[0m res, qualifiers \u001b[39m=\u001b[39m \u001b[39mawait\u001b[39;00m \u001b[39mself\u001b[39m\u001b[39m.\u001b[39m_secclient\u001b[39m.\u001b[39mexecCommand(\n\u001b[1;32m    193\u001b[0m     module\u001b[39m=\u001b[39m\u001b[39mself\u001b[39m\u001b[39m.\u001b[39mpath\u001b[39m.\u001b[39m_module_name,\n\u001b[1;32m    194\u001b[0m     command\u001b[39m=\u001b[39m\u001b[39mself\u001b[39m\u001b[39m.\u001b[39mpath\u001b[39m.\u001b[39m_accessible_name,\n\u001b[1;32m    195\u001b[0m     argument\u001b[39m=\u001b[39margument,\n\u001b[1;32m    196\u001b[0m )\n\u001b[1;32m    198\u001b[0m \u001b[39m# write return Value to corresponding Backends\u001b[39;00m\n\u001b[1;32m    199\u001b[0m \n\u001b[1;32m    200\u001b[0m \u001b[39m# Three different cases:\u001b[39;00m\n\u001b[1;32m    201\u001b[0m res_datatype \u001b[39m=\u001b[39m \u001b[39mself\u001b[39m\u001b[39m.\u001b[39mfrappy_datatype\u001b[39m.\u001b[39mresult\n",
      "File \u001b[0;32m~/git-repos/secop-ophyd/secop_ophyd/AsyncFrappyClient.py:103\u001b[0m, in \u001b[0;36mAsyncFrappyClient.execCommand\u001b[0;34m(self, module, command, argument)\u001b[0m\n\u001b[1;32m    102\u001b[0m \u001b[39masync\u001b[39;00m \u001b[39mdef\u001b[39;00m \u001b[39mexecCommand\u001b[39m(\u001b[39mself\u001b[39m, module, command, argument\u001b[39m=\u001b[39m\u001b[39mNone\u001b[39;00m) \u001b[39m-\u001b[39m\u001b[39m>\u001b[39m \u001b[39mtuple\u001b[39m[T, \u001b[39mdict\u001b[39m]:\n\u001b[0;32m--> 103\u001b[0m     \u001b[39mreturn\u001b[39;00m \u001b[39mawait\u001b[39;00m asyncio\u001b[39m.\u001b[39mto_thread(\n\u001b[1;32m    104\u001b[0m         \u001b[39mself\u001b[39m\u001b[39m.\u001b[39mclient\u001b[39m.\u001b[39mexecCommand, module, command, argument\n\u001b[1;32m    105\u001b[0m     )\n",
      "File \u001b[0;32m/usr/lib64/python3.11/asyncio/threads.py:25\u001b[0m, in \u001b[0;36mto_thread\u001b[0;34m(func, *args, **kwargs)\u001b[0m\n\u001b[1;32m     23\u001b[0m ctx \u001b[39m=\u001b[39m contextvars\u001b[39m.\u001b[39mcopy_context()\n\u001b[1;32m     24\u001b[0m func_call \u001b[39m=\u001b[39m functools\u001b[39m.\u001b[39mpartial(ctx\u001b[39m.\u001b[39mrun, func, \u001b[39m*\u001b[39margs, \u001b[39m*\u001b[39m\u001b[39m*\u001b[39mkwargs)\n\u001b[0;32m---> 25\u001b[0m \u001b[39mreturn\u001b[39;00m \u001b[39mawait\u001b[39;00m loop\u001b[39m.\u001b[39mrun_in_executor(\u001b[39mNone\u001b[39;00m, func_call)\n",
      "File \u001b[0;32m/usr/lib64/python3.11/concurrent/futures/thread.py:58\u001b[0m, in \u001b[0;36m_WorkItem.run\u001b[0;34m(self)\u001b[0m\n\u001b[1;32m     55\u001b[0m     \u001b[39mreturn\u001b[39;00m\n\u001b[1;32m     57\u001b[0m \u001b[39mtry\u001b[39;00m:\n\u001b[0;32m---> 58\u001b[0m     result \u001b[39m=\u001b[39m \u001b[39mself\u001b[39;49m\u001b[39m.\u001b[39;49mfn(\u001b[39m*\u001b[39;49m\u001b[39mself\u001b[39;49m\u001b[39m.\u001b[39;49margs, \u001b[39m*\u001b[39;49m\u001b[39m*\u001b[39;49m\u001b[39mself\u001b[39;49m\u001b[39m.\u001b[39;49mkwargs)\n\u001b[1;32m     59\u001b[0m \u001b[39mexcept\u001b[39;00m \u001b[39mBaseException\u001b[39;00m \u001b[39mas\u001b[39;00m exc:\n\u001b[1;32m     60\u001b[0m     \u001b[39mself\u001b[39m\u001b[39m.\u001b[39mfuture\u001b[39m.\u001b[39mset_exception(exc)\n",
      "File \u001b[0;32m~/git-repos/secop-ophyd/.venv/lib64/python3.11/site-packages/frappy/client/__init__.py:644\u001b[0m, in \u001b[0;36mSecopClient.execCommand\u001b[0;34m(self, module, command, argument)\u001b[0m\n\u001b[1;32m    642\u001b[0m         \u001b[39mraise\u001b[39;00m frappy\u001b[39m.\u001b[39merrors\u001b[39m.\u001b[39mWrongTypeError(\u001b[39m'\u001b[39m\u001b[39mcommand has no argument\u001b[39m\u001b[39m'\u001b[39m)\n\u001b[1;32m    643\u001b[0m \u001b[39m# pylint: disable=unsubscriptable-object\u001b[39;00m\n\u001b[0;32m--> 644\u001b[0m data, qualifiers \u001b[39m=\u001b[39m \u001b[39mself\u001b[39;49m\u001b[39m.\u001b[39;49mrequest(COMMANDREQUEST, \u001b[39mself\u001b[39;49m\u001b[39m.\u001b[39;49midentifier[module, command], argument)[\u001b[39m2\u001b[39m]\n\u001b[1;32m    645\u001b[0m datatype \u001b[39m=\u001b[39m \u001b[39mself\u001b[39m\u001b[39m.\u001b[39mmodules[module][\u001b[39m'\u001b[39m\u001b[39mcommands\u001b[39m\u001b[39m'\u001b[39m][command][\u001b[39m'\u001b[39m\u001b[39mdatatype\u001b[39m\u001b[39m'\u001b[39m]\u001b[39m.\u001b[39mresult\n\u001b[1;32m    646\u001b[0m \u001b[39mif\u001b[39;00m datatype:\n",
      "File \u001b[0;32m~/git-repos/secop-ophyd/.venv/lib64/python3.11/site-packages/frappy/client/__init__.py:608\u001b[0m, in \u001b[0;36mSecopClient.request\u001b[0;34m(self, action, ident, data)\u001b[0m\n\u001b[1;32m    603\u001b[0m \u001b[39m\u001b[39m\u001b[39m\"\"\"make a request\u001b[39;00m\n\u001b[1;32m    604\u001b[0m \n\u001b[1;32m    605\u001b[0m \u001b[39mand wait for reply\u001b[39;00m\n\u001b[1;32m    606\u001b[0m \u001b[39m\"\"\"\u001b[39;00m\n\u001b[1;32m    607\u001b[0m entry \u001b[39m=\u001b[39m \u001b[39mself\u001b[39m\u001b[39m.\u001b[39mqueue_request(action, ident, data)\n\u001b[0;32m--> 608\u001b[0m \u001b[39mreturn\u001b[39;00m \u001b[39mself\u001b[39;49m\u001b[39m.\u001b[39;49mget_reply(entry)\n",
      "File \u001b[0;32m~/git-repos/secop-ophyd/.venv/lib64/python3.11/site-packages/frappy/client/__init__.py:599\u001b[0m, in \u001b[0;36mSecopClient.get_reply\u001b[0;34m(self, entry)\u001b[0m\n\u001b[1;32m    597\u001b[0m action, _, data \u001b[39m=\u001b[39m entry[\u001b[39m2\u001b[39m]  \u001b[39m# pylint: disable=unpacking-non-sequence\u001b[39;00m\n\u001b[1;32m    598\u001b[0m \u001b[39mif\u001b[39;00m action\u001b[39m.\u001b[39mstartswith(ERRORPREFIX):\n\u001b[0;32m--> 599\u001b[0m     \u001b[39mraise\u001b[39;00m frappy\u001b[39m.\u001b[39merrors\u001b[39m.\u001b[39mmake_secop_error(\u001b[39m*\u001b[39mdata[\u001b[39m0\u001b[39m:\u001b[39m2\u001b[39m])\n\u001b[1;32m    600\u001b[0m \u001b[39mreturn\u001b[39;00m entry[\u001b[39m2\u001b[39m]\n",
      "\u001b[0;31mImpossibleError\u001b[0m: Sample pos 1 is already occupied"
     ]
    }
   ],
   "source": [
    "storage:SECoPReadableDevice= robo_node.storage\n",
    "\n",
    "reading = await storage.value.read()\n",
    "\n",
    "loadshort:SECoP_CMD_Device = storage.load_short_dev\n",
    "\n",
    "\n",
    "reading = await storage.value.read()\n",
    "print(reading)\n",
    "\n",
    "for samplepos in range(1,13):\n",
    "    await loadshort.samplepos_arg.set(samplepos)\n",
    "    await loadshort.substance_arg.set(2)\n",
    "\n",
    "    await loadshort.load_short_x.execute()\n",
    "\n",
    "    await storage.wait_for_IDLE()\n",
    "    print(samplepos)\n",
    "\n",
    "\n",
    "\n",
    "\n",
    "\n"
   ]
  },
  {
   "cell_type": "code",
   "execution_count": 3,
   "metadata": {},
   "outputs": [
    {
     "name": "stdout",
     "output_type": "stream",
     "text": [
      "{'sample_changer-HZB-storage-value': {'source': 'localhost:10770:sample_changer.HZB:storage:value', 'dtype': 'array', 'shape': [1, 12], 'description': 'Sample objects in storage', 'readonly': True, 'SECoPtype': 'array', 'minlen': 0, 'maxlen': 12, 'members': {'type': 'struct', 'members': {'sample_name': {'type': 'string'}, 'substance': {'type': 'string'}, 'substance_code': {'type': 'string'}, 'sample_pos': {'min': 0, 'max': 12, 'type': 'int'}, 'manufacturer': {'type': 'string'}, 'sample_id': {'type': 'string'}, 'color': {'type': 'string'}, 'mass': {'unit': 'kg', 'min': 0.0, 'max': 1.0, 'type': 'double'}}}}}\n"
     ]
    }
   ],
   "source": [
    "print(await storage.value.describe())"
   ]
  },
  {
   "cell_type": "code",
   "execution_count": null,
   "metadata": {},
   "outputs": [
    {
     "name": "stdout",
     "output_type": "stream",
     "text": [
      "{'x': [1, 2, 3], 'y': [4, 5, 6]}\n"
     ]
    }
   ],
   "source": [
    "test_list = [{'x': 1, 'y': 4}, {'x': 2, 'y': 5}, {'x': 3, 'y': 6}] \n",
    "\n",
    "\n",
    "\n",
    "res = {key: [i[key] for i in test_list] for key in test_list[0]}\n",
    "print(res)\n",
    "\n"
   ]
  },
  {
   "cell_type": "code",
   "execution_count": 7,
   "metadata": {},
   "outputs": [
    {
     "name": "stdout",
     "output_type": "stream",
     "text": [
      "ophyd_secop.frappy.demo ready\n"
     ]
    }
   ],
   "source": [
    "import asyncio\n",
    "from secop_ophyd.SECoPDevices import SECoP_Node_Device,SECoPReadableDevice,SECoP_CMD_Device\n",
    "from ophyd.v2.core import observe_value\n",
    "nested = await SECoP_Node_Device.create('localhost','10771',asyncio.get_running_loop())"
   ]
  },
  {
   "cell_type": "code",
   "execution_count": 23,
   "metadata": {},
   "outputs": [
    {
     "name": "stdout",
     "output_type": "stream",
     "text": [
      "{'ophyd_secop-frappy-demo-str_test-value': {'value': 'lnyhzhxxmg', 'timestamp': 1691575998.1524138}}\n",
      "{'ophyd_secop-frappy-demo-str_test-value': {'source': 'localhost:10771:ophyd_secop.frappy.demo:str_test:value', 'dtype': 'string', 'shape': [], 'description': 'string read value', 'readonly': True, 'SECoPtype': 'string'}}\n"
     ]
    }
   ],
   "source": [
    "str_test:SECoPReadableDevice = nested.str_test\n",
    "\n",
    "print(await str_test.read())\n",
    "print(await str_test.describe())"
   ]
  },
  {
   "cell_type": "markdown",
   "metadata": {},
   "source": []
  }
 ],
 "metadata": {
  "kernelspec": {
   "display_name": ".venv",
   "language": "python",
   "name": "python3"
  },
  "language_info": {
   "codemirror_mode": {
    "name": "ipython",
    "version": 3
   },
   "file_extension": ".py",
   "mimetype": "text/x-python",
   "name": "python",
   "nbconvert_exporter": "python",
   "pygments_lexer": "ipython3",
   "version": "3.11.4"
  },
  "orig_nbformat": 4
 },
 "nbformat": 4,
 "nbformat_minor": 2
}
