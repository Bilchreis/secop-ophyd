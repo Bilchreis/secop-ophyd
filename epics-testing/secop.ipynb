{
 "cells": [
  {
   "cell_type": "code",
   "execution_count": 1,
   "metadata": {},
   "outputs": [
    {
     "name": "stdout",
     "output_type": "stream",
     "text": [
      "sample_changer.HZB ready\n"
     ]
    },
    {
     "data": {
      "text/plain": [
       "('c574854c-a6fa-47bb-ad4d-5a2fbcb8dd4a',)"
      ]
     },
     "execution_count": 1,
     "metadata": {},
     "output_type": "execute_result"
    }
   ],
   "source": [
    "from databroker.v2 import temp\n",
    "from bluesky import RunEngine\n",
    "from bluesky.plans import count\n",
    "from bluesky.plan_stubs import mv, monitor, unmonitor\n",
    "from secop_ophyd.SECoPDevices import SECoP_Node_Device, SECoPReadableDevice, SECoPMoveableDevice, SECoP_CMD_Device\n",
    "import asyncio\n",
    "import random\n",
    "\n",
    "\n",
    "\n",
    "# Create a run engine and a temporary file backed database. Send all the documents from the RE into that database\n",
    "RE = RunEngine({})\n",
    "db = temp()\n",
    "RE.subscribe(db.v1.insert)\n",
    "\n",
    "from bluesky.plans import scan\n",
    "from ophyd.sim import det, motor\n",
    "\n",
    "#Example of adding metadata to RE environment\n",
    "\n",
    "investigation_id = \"kmnk2n34\"\n",
    "\n",
    "RE.md[\"investigation_id\"] = investigation_id\n",
    "\n",
    "robo_dev = await SECoP_Node_Device.create('192.168.15.3','10770',RE.loop)\n",
    "\n",
    "# now do something\n",
    "RE(scan([det],motor,1,2,10),reason=\"for a demo\")\n",
    "\n",
    "\n",
    "\n",
    "\n"
   ]
  },
  {
   "cell_type": "code",
   "execution_count": 9,
   "metadata": {},
   "outputs": [
    {
     "name": "stdout",
     "output_type": "stream",
     "text": [
      "{'sample_changer-HZB-storage-value': {'value': [\"{'sample_name': 'NugatRittersport', 'substance': 'Nugat', 'substance_code': '4', 'sample_pos': 1, 'manufacturer': 'Rittersport', 'sample_id': 'bfc4e3fd-83c3-477b-af5b-cbd66e147a2b', 'color': 'dark blue', 'mass': 0.0167}\"], 'timestamp': 1693403926.342577}}\n"
     ]
    }
   ],
   "source": [
    "await robo_dev.read_configuration()\n",
    "\n",
    "storage:SECoPReadableDevice= robo_dev.storage\n",
    "\n",
    "reading = await storage.value.read()\n",
    "\n",
    "loadshort:SECoP_CMD_Device = storage.load_short_dev\n",
    "\n",
    "\n",
    "reading = await storage.value.read()\n",
    "print(reading)\n"
   ]
  },
  {
   "cell_type": "code",
   "execution_count": 14,
   "metadata": {},
   "outputs": [
    {
     "name": "stdout",
     "output_type": "stream",
     "text": [
      "2\n"
     ]
    },
    {
     "name": "stdout",
     "output_type": "stream",
     "text": [
      "rxthread ended with ConnectionResetError(104, 'Connection reset by peer')\n",
      "try to reconnect to 192.168.15.3:10770\n",
      "can not connect to 192.168.15.3:10770, timed out\n",
      "can not reconnect to sample_changer.HZB (CommunicationFailed('can not connect to 192.168.15.3:10770, timed out'))\n",
      "continue trying to reconnect\n"
     ]
    }
   ],
   "source": [
    "\n",
    "\n",
    "loadshort:SECoP_CMD_Device = storage.load_short_dev\n",
    "\n",
    "for samplepos in range(2,3):\n",
    "    await loadshort.samplepos_arg.set(samplepos)\n",
    "    await loadshort.substance_arg.set(random.randint(0,6))\n",
    "\n",
    "    await loadshort.load_short_x.execute()\n",
    "    \n",
    "\n",
    "    await storage.wait_for_IDLE()\n",
    "    await asyncio.sleep(4)\n",
    "    print(samplepos)\n",
    "        \n",
    "        \n",
    "\n",
    "\n",
    "\n",
    "\n",
    "\n"
   ]
  },
  {
   "cell_type": "code",
   "execution_count": 4,
   "metadata": {},
   "outputs": [
    {
     "data": {
      "text/plain": [
       "('8efc9d53-a033-448a-9bfe-b284d29f2c09',)"
      ]
     },
     "execution_count": 4,
     "metadata": {},
     "output_type": "execute_result"
    }
   ],
   "source": [
    "await robo_dev.storage.read()\n",
    "#await robo_dev.storage.read_configuration()\n",
    "\n",
    "RE(count([storage],delay=.2,num=10))\n",
    "\n"
   ]
  },
  {
   "cell_type": "code",
   "execution_count": 10,
   "metadata": {},
   "outputs": [],
   "source": [
    "sample:SECoPMoveableDevice = robo_dev.sample\n",
    "\n",
    "\n",
    "for i in range(1,2):\n",
    "    #grab sample 1 and move it into the measurement Pos\n",
    "    RE(mv(sample,1))\n",
    "    \n",
    "    # Start measuring program (rotates Sample; sample module stwitches to busy state)\n",
    "    await sample.measure_dev.measure_x.execute()\n",
    "    \n",
    "    # RE(monitor([det]))??\n",
    "    # Start measuring with Sensor/Detector \n",
    "\n",
    "    # measure CMD ends when module goes back to IDLE    \n",
    "    await sample.wait_for_IDLE()\n",
    "    #RE(unmonitor([det]))??\n",
    "    \n",
    "    # put sample back into storage\n",
    "    RE(mv(sample,0))"
   ]
  }
 ],
 "metadata": {
  "kernelspec": {
   "display_name": ".venv",
   "language": "python",
   "name": "python3"
  },
  "language_info": {
   "codemirror_mode": {
    "name": "ipython",
    "version": 3
   },
   "file_extension": ".py",
   "mimetype": "text/x-python",
   "name": "python",
   "nbconvert_exporter": "python",
   "pygments_lexer": "ipython3",
   "version": "3.11.4"
  },
  "orig_nbformat": 4
 },
 "nbformat": 4,
 "nbformat_minor": 2
}
