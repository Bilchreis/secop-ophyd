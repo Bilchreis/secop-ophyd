{
 "cells": [
  {
   "cell_type": "code",
   "execution_count": 1,
   "metadata": {},
   "outputs": [
    {
     "name": "stdout",
     "output_type": "stream",
     "text": [
      "sample_changer.HZB ready\n"
     ]
    },
    {
     "data": {
      "text/plain": [
       "('1edd6549-0de4-4588-a4f6-477f8fce0f6d',)"
      ]
     },
     "execution_count": 1,
     "metadata": {},
     "output_type": "execute_result"
    }
   ],
   "source": [
    "from databroker.v2 import temp\n",
    "from bluesky import RunEngine\n",
    "from secop_ophyd.secop_ophyd.SECoPDevices import SECoP_Node_Device, SECoPReadableDevice, SECoP_CMD_Device\n",
    "import asyncio\n",
    "import random\n",
    "\n",
    "\n",
    "\n",
    "# Create a run engine and a temporary file backed database. Send all the documents from the RE into that database\n",
    "RE = RunEngine({})\n",
    "db = temp()\n",
    "RE.subscribe(db.v1.insert)\n",
    "\n",
    "from bluesky.plans import scan\n",
    "from ophyd.sim import det, motor\n",
    "\n",
    "#Example of adding metadata to RE environment\n",
    "\n",
    "investigation_id = \"kmnk2n34\"\n",
    "\n",
    "RE.md[\"investigation_id\"] = investigation_id\n",
    "\n",
    "robo_dev = SECoP_Node_Device.create_external_loop('localhost','10770',RE.loop)\n",
    "\n",
    "# now do something\n",
    "RE(scan([det],motor,1,2,10),reason=\"for a demo\")\n",
    "\n",
    "\n",
    "\n",
    "\n"
   ]
  },
  {
   "cell_type": "code",
   "execution_count": 2,
   "metadata": {},
   "outputs": [
    {
     "name": "stdout",
     "output_type": "stream",
     "text": [
      "{'sample_changer-HZB-storage-value': {'value': [], 'timestamp': 1692874978.0038111}}\n",
      "1\n",
      "2\n",
      "3\n",
      "4\n",
      "5\n",
      "6\n",
      "7\n",
      "8\n",
      "9\n",
      "10\n",
      "11\n",
      "12\n"
     ]
    }
   ],
   "source": [
    "await robo_dev.read_configuration()\n",
    "\n",
    "storage:SECoPReadableDevice= robo_dev.storage\n",
    "\n",
    "reading = await storage.value.read()\n",
    "\n",
    "loadshort:SECoP_CMD_Device = storage.load_short_dev\n",
    "\n",
    "\n",
    "reading = await storage.value.read()\n",
    "print(reading)\n",
    "\n",
    "\n",
    "loadshort:SECoP_CMD_Device = storage.load_short_dev\n",
    "\n",
    "for samplepos in range(1,13):\n",
    "    await loadshort.samplepos_arg.set(samplepos)\n",
    "    await loadshort.substance_arg.set(random.randint(0,6))\n",
    "\n",
    "    await loadshort.load_short_x.execute()\n",
    "\n",
    "    await storage.wait_for_IDLE()\n",
    "    print(samplepos)\n",
    "        \n",
    "        \n",
    "\n",
    "\n",
    "\n",
    "\n",
    "\n"
   ]
  },
  {
   "cell_type": "code",
   "execution_count": 10,
   "metadata": {},
   "outputs": [
    {
     "data": {
      "text/plain": [
       "{'sample_changer-HZB-storage-value': {'value': [\"{'sample_name': 'NugatRittersport', 'substance': 'Nugat', 'substance_code': '4', 'sample_pos': 1, 'manufacturer': 'Rittersport', 'sample_id': '4b84b2b6-1d53-4eef-8b00-5050e414a505', 'color': 'dark blue', 'mass': 0.0167}\",\n",
       "   \"{'sample_name': 'Nuss-SplitterRittersport', 'substance': 'Nuss-Splitter', 'substance_code': '3', 'sample_pos': 2, 'manufacturer': 'Rittersport', 'sample_id': '4f0ed37e-e8d4-40c4-a68a-23adf2e70fdc', 'color': 'green', 'mass': 0.0167}\",\n",
       "   \"{'sample_name': 'NugatRittersport', 'substance': 'Nugat', 'substance_code': '4', 'sample_pos': 3, 'manufacturer': 'Rittersport', 'sample_id': '5c166e53-b464-4f28-8ab6-33fe8b7cdb2e', 'color': 'dark blue', 'mass': 0.0167}\",\n",
       "   \"{'sample_name': 'MarzipanRittersport', 'substance': 'Marzipan', 'substance_code': '5', 'sample_pos': 4, 'manufacturer': 'Rittersport', 'sample_id': 'd02fe8ca-30d0-4304-9414-4a6f01ae6961', 'color': 'red', 'mass': 0.0167}\",\n",
       "   \"{'sample_name': 'MarzipanRittersport', 'substance': 'Marzipan', 'substance_code': '5', 'sample_pos': 5, 'manufacturer': 'Rittersport', 'sample_id': '25c62de3-a155-406a-ae54-80855e5d1e7b', 'color': 'red', 'mass': 0.0167}\",\n",
       "   \"{'sample_name': 'Nuss-SplitterRittersport', 'substance': 'Nuss-Splitter', 'substance_code': '3', 'sample_pos': 6, 'manufacturer': 'Rittersport', 'sample_id': '81fe6467-3ea9-457a-add0-eacf5e94a5e0', 'color': 'green', 'mass': 0.0167}\",\n",
       "   \"{'sample_name': 'KnusperflakesRittersport', 'substance': 'Knusperflakes', 'substance_code': '2', 'sample_pos': 7, 'manufacturer': 'Rittersport', 'sample_id': 'f1efc5c3-83be-4c47-829c-e9f55109e254', 'color': 'yellow', 'mass': 0.0167}\",\n",
       "   \"{'sample_name': 'MarzipanRittersport', 'substance': 'Marzipan', 'substance_code': '5', 'sample_pos': 8, 'manufacturer': 'Rittersport', 'sample_id': '4bc3b804-6b34-4dda-aa0d-c8a2c08c61c7', 'color': 'red', 'mass': 0.0167}\",\n",
       "   \"{'sample_name': 'KnusperflakesRittersport', 'substance': 'Knusperflakes', 'substance_code': '2', 'sample_pos': 9, 'manufacturer': 'Rittersport', 'sample_id': '3a00f534-a67a-4657-bae1-819a697e1f60', 'color': 'yellow', 'mass': 0.0167}\",\n",
       "   \"{'sample_name': 'KnusperflakesRittersport', 'substance': 'Knusperflakes', 'substance_code': '2', 'sample_pos': 10, 'manufacturer': 'Rittersport', 'sample_id': 'a2b8fc1d-ec28-477f-93a6-03fa425a046e', 'color': 'yellow', 'mass': 0.0167}\",\n",
       "   \"{'sample_name': 'Nuss-SplitterRittersport', 'substance': 'Nuss-Splitter', 'substance_code': '3', 'sample_pos': 11, 'manufacturer': 'Rittersport', 'sample_id': 'c8b86e56-17ec-464d-b1c7-a7e497c1bcc0', 'color': 'green', 'mass': 0.0167}\",\n",
       "   \"{'sample_name': 'KnusperflakesRittersport', 'substance': 'Knusperflakes', 'substance_code': '2', 'sample_pos': 12, 'manufacturer': 'Rittersport', 'sample_id': 'e1db5ebe-cba8-4b22-927d-560bf3ee4d05', 'color': 'yellow', 'mass': 0.0167}\"],\n",
       "  'timestamp': 1692875161.2185206}}"
      ]
     },
     "execution_count": 10,
     "metadata": {},
     "output_type": "execute_result"
    }
   ],
   "source": [
    "await robo_dev.storage.read()\n",
    "#await robo_dev.storage.read_configuration()"
   ]
  }
 ],
 "metadata": {
  "kernelspec": {
   "display_name": ".venv",
   "language": "python",
   "name": "python3"
  },
  "language_info": {
   "codemirror_mode": {
    "name": "ipython",
    "version": 3
   },
   "file_extension": ".py",
   "mimetype": "text/x-python",
   "name": "python",
   "nbconvert_exporter": "python",
   "pygments_lexer": "ipython3",
   "version": "3.11.4"
  },
  "orig_nbformat": 4
 },
 "nbformat": 4,
 "nbformat_minor": 2
}
