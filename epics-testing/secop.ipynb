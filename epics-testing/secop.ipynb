{
 "cells": [
  {
   "cell_type": "code",
   "execution_count": null,
   "metadata": {},
   "outputs": [],
   "source": [
    "from databroker.v2 import temp\n",
    "from bluesky import RunEngine\n",
    "from bluesky.plans import count\n",
    "from bluesky.plan_stubs import mv\n",
    "from secop_ophyd.secop_ophyd.SECoPDevices import SECoP_Node_Device, SECoPReadableDevice, SECoPMoveableDevice, SECoP_CMD_Device\n",
    "import asyncio\n",
    "import random\n",
    "\n",
    "\n",
    "\n",
    "# Create a run engine and a temporary file backed database. Send all the documents from the RE into that database\n",
    "RE = RunEngine({})\n",
    "db = temp()\n",
    "RE.subscribe(db.v1.insert)\n",
    "\n",
    "from bluesky.plans import scan\n",
    "from ophyd.sim import det, motor\n",
    "\n",
    "#Example of adding metadata to RE environment\n",
    "\n",
    "investigation_id = \"kmnk2n34\"\n",
    "\n",
    "RE.md[\"investigation_id\"] = investigation_id\n",
    "\n",
    "robo_dev = SECoP_Node_Device.create_external_loop('localhost','10770',RE.loop)\n",
    "\n",
    "# now do something\n",
    "RE(scan([det],motor,1,2,10),reason=\"for a demo\")\n",
    "\n",
    "\n",
    "\n",
    "\n"
   ]
  },
  {
   "cell_type": "code",
   "execution_count": null,
   "metadata": {},
   "outputs": [],
   "source": [
    "await robo_dev.read_configuration()\n",
    "\n",
    "storage:SECoPReadableDevice= robo_dev.storage\n",
    "\n",
    "reading = await storage.value.read()\n",
    "\n",
    "loadshort:SECoP_CMD_Device = storage.load_short_dev\n",
    "\n",
    "\n",
    "reading = await storage.value.read()\n",
    "print(reading)\n",
    "\n",
    "\n",
    "loadshort:SECoP_CMD_Device = storage.load_short_dev\n",
    "\n",
    "for samplepos in range(1,13):\n",
    "    await loadshort.samplepos_arg.set(samplepos)\n",
    "    await loadshort.substance_arg.set(random.randint(0,6))\n",
    "\n",
    "    await loadshort.load_short_x.execute()\n",
    "\n",
    "    await storage.wait_for_IDLE()\n",
    "    print(samplepos)\n",
    "        \n",
    "        \n",
    "\n",
    "\n",
    "\n",
    "\n",
    "\n"
   ]
  },
  {
   "cell_type": "code",
   "execution_count": null,
   "metadata": {},
   "outputs": [],
   "source": [
    "await robo_dev.storage.read()\n",
    "#await robo_dev.storage.read_configuration()\n",
    "\n",
    "RE(count([storage],delay=2,num=5))\n",
    "\n"
   ]
  },
  {
   "cell_type": "code",
   "execution_count": null,
   "metadata": {},
   "outputs": [],
   "source": [
    "sample:SECoPMoveableDevice = robo_dev.sample\n",
    "\n",
    "\n",
    "for i in range(1,13):\n",
    "    #grab sample i and hold in Measurement Pos\n",
    "    RE(mv(sample,i))\n",
    "    \n",
    "    # Start measuring program\n",
    "    await sample.measure_dev.meaxure_x.execute()\n",
    "    \n",
    "    #subscribe to read values of simulated EPICs Device\n",
    "    \n",
    "    await sample.wait_for_IDLE()\n",
    "    \n",
    "    # put sample back into storage\n",
    "    RE(mv(sample,0))"
   ]
  }
 ],
 "metadata": {
  "kernelspec": {
   "display_name": ".venv",
   "language": "python",
   "name": "python3"
  },
  "language_info": {
   "codemirror_mode": {
    "name": "ipython",
    "version": 3
   },
   "file_extension": ".py",
   "mimetype": "text/x-python",
   "name": "python",
   "nbconvert_exporter": "python",
   "pygments_lexer": "ipython3",
   "version": "3.11.4"
  },
  "orig_nbformat": 4
 },
 "nbformat": 4,
 "nbformat_minor": 2
}
