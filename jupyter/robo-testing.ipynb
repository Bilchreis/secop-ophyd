{
 "cells": [
  {
   "cell_type": "code",
   "execution_count": 1,
   "metadata": {},
   "outputs": [
    {
     "name": "stdout",
     "output_type": "stream",
     "text": [
      "sample_changer.HZB ready\n"
     ]
    }
   ],
   "source": [
    "from databroker.v2 import temp\n",
    "from bluesky import RunEngine, Msg\n",
    "from bluesky.plans import count\n",
    "import bluesky.plan_stubs as bps\n",
    "\n",
    "import bluesky.preprocessors as bpp\n",
    "\n",
    "from secop_ophyd.SECoPDevices import SECoP_Node_Device, SECoPReadableDevice, SECoPMoveableDevice, SECoP_CMD_Device\n",
    "import asyncio\n",
    "import random\n",
    "\n",
    "\n",
    "\n",
    "# Create a run engine and a temporary file backed database. Send all the documents from the RE into that database\n",
    "RE = RunEngine({})\n",
    "db = temp()\n",
    "RE.subscribe(db.v1.insert)\n",
    "\n",
    "from bluesky.plans import scan\n",
    "from ophyd.sim import det,det1, motor\n",
    "\n",
    "#Example of adding metadata to RE environment\n",
    "\n",
    "investigation_id = \"kmnk2n34\"\n",
    "\n",
    "RE.md[\"investigation_id\"] = investigation_id\n",
    "\n",
    "robo_dev = await SECoP_Node_Device.create('localhost','10770',RE.loop)\n",
    "\n",
    "# now do something\n",
    "RE(scan([det],motor,1,2,10),reason=\"for a demo\")\n",
    "\n",
    "storage:SECoPReadableDevice= robo_dev.storage\n",
    "sample:SECoPMoveableDevice= robo_dev.sample\n",
    "loadshort:SECoP_CMD_Device = storage.load_short_dev\n",
    "measure:SECoP_CMD_Device = sample.measure_dev\n"
   ]
  },
  {
   "cell_type": "code",
   "execution_count": 2,
   "metadata": {},
   "outputs": [
    {
     "name": "stdout",
     "output_type": "stream",
     "text": [
      "{'sample_changer-HZB-storage-value': {'value': [], 'timestamp': 1693837737.9337869}}\n",
      "1\n",
      "2\n",
      "3\n",
      "4\n",
      "5\n",
      "6\n",
      "7\n",
      "8\n",
      "9\n",
      "10\n",
      "11\n",
      "12\n"
     ]
    }
   ],
   "source": [
    "await robo_dev.read_configuration()\n",
    "\n",
    "\n",
    "\n",
    "reading = await storage.value.read()\n",
    "\n",
    "\n",
    "reading = await storage.value.read()\n",
    "print(reading)\n",
    "\n",
    "\n",
    "loadshort:SECoP_CMD_Device = storage.load_short_dev\n",
    "\n",
    "for samplepos in range(1,13):\n",
    "    await loadshort.samplepos_arg.set(samplepos)\n",
    "    await loadshort.substance_arg.set(random.randint(0,6))\n",
    "\n",
    "    await loadshort.load_short_x.execute()\n",
    "\n",
    "    await storage.wait_for_IDLE()\n",
    "    print(samplepos)\n",
    "        \n",
    "        "
   ]
  },
  {
   "cell_type": "code",
   "execution_count": null,
   "metadata": {},
   "outputs": [
    {
     "name": "stdout",
     "output_type": "stream",
     "text": [
      "try to reconnect to localhost:10770\n",
      "can not connect to localhost:10770, [Errno 111] Connection refused\n"
     ]
    },
    {
     "data": {
      "text/plain": [
       "('a44c6a7f-f613-48b0-a7e4-531c060aeda3',)"
      ]
     },
     "execution_count": 4,
     "metadata": {},
     "output_type": "execute_result"
    }
   ],
   "source": [
    "await robo_dev.storage.read()\n",
    "#await robo_dev.storage.read_configuration()\n",
    "\n",
    "RE(count([storage],delay=2,num=5))\n"
   ]
  },
  {
   "cell_type": "code",
   "execution_count": 4,
   "metadata": {},
   "outputs": [],
   "source": [
    "\n",
    "\n",
    "def measure(detectors,sample,sample_num):\n",
    "        \n",
    "\n",
    "    \n",
    "    reading = yield from bps.read(sample)\n",
    "  \n",
    "    \n",
    "    curr_sample = reading[sample.value.name]['value']\n",
    "    \n",
    "    # holding wrong sample -->  put it back into storage\n",
    "    if curr_sample != 0 and curr_sample  != sample_num :\n",
    "        yield from bps.mv(sample,0)\n",
    "    \n",
    "    # gripper empty --> grab correct sample\n",
    "    if curr_sample == 0:\n",
    "        yield from bps.mv(sample,i)\n",
    "    \n",
    "    # Do actual measurement\n",
    "    @bpp.stage_decorator(detectors)\n",
    "    @bpp.run_decorator()\n",
    "    def inner_meas(detectors,sample):\n",
    "\n",
    "        complete_status = yield from bps.complete(sample.measure_dev, wait=False) #This message doesn't exist yet\n",
    "    \n",
    "        # While the device is still executing, read from the detectors in the detectors list\n",
    "        while not complete_status.done:\n",
    "\n",
    "            yield Msg('checkpoint') # allows us to pause the run \n",
    "            yield from bps.one_shot(detectors) #triggers and reads everything in the detectors list\n",
    "            yield Msg('sleep', None, 1)       \n",
    "    \n",
    "    uid = yield from inner_meas(detectors,sample)\n",
    "\n",
    "\n",
    "    # put sample back into storage\n",
    "    yield from  bps.mv(sample,0)\n",
    "\n",
    "    return uid\n",
    "\n",
    "\n",
    "\n",
    "\n",
    "for i in range(1,13):\n",
    "    #grab sample i and hold in Measurement Pos\n",
    "    RE(measure([det,det1],sample,i))\n",
    "    \n",
    "\n",
    "    \n"
   ]
  }
 ],
 "metadata": {
  "kernelspec": {
   "display_name": ".venv",
   "language": "python",
   "name": "python3"
  },
  "language_info": {
   "codemirror_mode": {
    "name": "ipython",
    "version": 3
   },
   "file_extension": ".py",
   "mimetype": "text/x-python",
   "name": "python",
   "nbconvert_exporter": "python",
   "pygments_lexer": "ipython3",
   "version": "3.11.4"
  },
  "orig_nbformat": 4
 },
 "nbformat": 4,
 "nbformat_minor": 2
}
