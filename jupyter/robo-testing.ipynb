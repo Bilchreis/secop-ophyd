{
 "cells": [
  {
   "cell_type": "code",
   "execution_count": 1,
   "metadata": {},
   "outputs": [
    {
     "name": "stdout",
     "output_type": "stream",
     "text": [
      "sample_changer.HZB ready\n"
     ]
    }
   ],
   "source": [
    "from databroker.v2 import temp\n",
    "from bluesky import RunEngine, Msg\n",
    "from bluesky.plans import count\n",
    "import bluesky.plan_stubs as bps\n",
    "\n",
    "from secop_ophyd.SECoPDevices import SECoP_Node_Device, SECoPReadableDevice, SECoPMoveableDevice, SECoP_CMD_Device\n",
    "import asyncio\n",
    "import random\n",
    "\n",
    "\n",
    "\n",
    "# Create a run engine and a temporary file backed database. Send all the documents from the RE into that database\n",
    "RE = RunEngine({})\n",
    "db = temp()\n",
    "RE.subscribe(db.v1.insert)\n",
    "\n",
    "from bluesky.plans import scan\n",
    "from ophyd.sim import det, motor\n",
    "\n",
    "#Example of adding metadata to RE environment\n",
    "\n",
    "investigation_id = \"kmnk2n34\"\n",
    "\n",
    "RE.md[\"investigation_id\"] = investigation_id\n",
    "\n",
    "robo_dev = await SECoP_Node_Device.create('localhost','10770',RE.loop)\n",
    "\n",
    "# now do something\n",
    "RE(scan([det],motor,1,2,10),reason=\"for a demo\")\n",
    "\n",
    "storage:SECoPReadableDevice= robo_dev.storage\n",
    "sample:SECoPMoveableDevice= robo_dev.sample\n",
    "loadshort:SECoP_CMD_Device = storage.load_short_dev\n",
    "measure:SECoP_CMD_Device = sample.measure_dev\n"
   ]
  },
  {
   "cell_type": "code",
   "execution_count": 2,
   "metadata": {},
   "outputs": [
    {
     "name": "stdout",
     "output_type": "stream",
     "text": [
      "{'sample_changer-HZB-storage-value': {'value': [], 'timestamp': 1693600582.9785001}}\n",
      "1\n",
      "2\n",
      "3\n",
      "4\n",
      "5\n",
      "6\n",
      "7\n",
      "8\n",
      "9\n",
      "10\n",
      "11\n",
      "12\n"
     ]
    }
   ],
   "source": [
    "await robo_dev.read_configuration()\n",
    "\n",
    "\n",
    "\n",
    "reading = await storage.value.read()\n",
    "\n",
    "\n",
    "reading = await storage.value.read()\n",
    "print(reading)\n",
    "\n",
    "\n",
    "loadshort:SECoP_CMD_Device = storage.load_short_dev\n",
    "\n",
    "for samplepos in range(1,13):\n",
    "    await loadshort.samplepos_arg.set(samplepos)\n",
    "    await loadshort.substance_arg.set(random.randint(0,6))\n",
    "\n",
    "    await loadshort.load_short_x.execute()\n",
    "\n",
    "    await storage.wait_for_IDLE()\n",
    "    print(samplepos)\n",
    "        \n",
    "        "
   ]
  },
  {
   "cell_type": "code",
   "execution_count": null,
   "metadata": {},
   "outputs": [],
   "source": [
    "await robo_dev.storage.read()\n",
    "#await robo_dev.storage.read_configuration()\n",
    "\n",
    "RE(count([storage],delay=2,num=5))\n"
   ]
  },
  {
   "cell_type": "code",
   "execution_count": 2,
   "metadata": {},
   "outputs": [
    {
     "name": "stderr",
     "output_type": "stream",
     "text": [
      "Run aborted\n",
      "Traceback (most recent call last):\n",
      "  File \"/home/peter/git-repos/secop-ophyd/.venv/lib64/python3.11/site-packages/bluesky/run_engine.py\", line 1503, in _run\n",
      "    msg = self._plan_stack[-1].throw(stashed_exception or resp)\n",
      "          ^^^^^^^^^^^^^^^^^^^^^^^^^^^^^^^^^^^^^^^^^^^^^^^^^^^^^\n",
      "  File \"/tmp/ipykernel_70119/1754883000.py\", line 16, in measure\n",
      "    complete_status = yield from bps.complete(measure, wait=False) #This message doesn't exist yet\n",
      "                      ^^^^^^^^^^^^^^^^^^^^^^^^^^^^^^^^^^^^^^^^^^^^\n",
      "  File \"/home/peter/git-repos/secop-ophyd/.venv/lib64/python3.11/site-packages/bluesky/plan_stubs.py\", line 657, in complete\n",
      "    ret = yield Msg('complete', obj, group=group, **kwargs)\n",
      "          ^^^^^^^^^^^^^^^^^^^^^^^^^^^^^^^^^^^^^^^^^^^^^^^^^\n",
      "  File \"/home/peter/git-repos/secop-ophyd/.venv/lib64/python3.11/site-packages/bluesky/run_engine.py\", line 1588, in _run\n",
      "    new_response = await coro(msg)\n",
      "                   ^^^^^^^^^^^^^^^\n",
      "  File \"/home/peter/git-repos/secop-ophyd/.venv/lib64/python3.11/site-packages/bluesky/run_engine.py\", line 2069, in _complete\n",
      "    obj = check_supports(msg.obj, Flyable)\n",
      "          ^^^^^^^^^^^^^^^^^^^^^^^^^^^^^^^^\n",
      "  File \"/home/peter/git-repos/secop-ophyd/.venv/lib64/python3.11/site-packages/bluesky/protocols.py\", line 492, in check_supports\n",
      "    assert isinstance(obj, protocol), \\\n",
      "AssertionError: <function measure at 0x7fd76a4b2d40> does not implement all Flyable methods\n"
     ]
    },
    {
     "name": "stdout",
     "output_type": "stream",
     "text": [
      "{'sample_changer-HZB-sample-value': {'value': 1, 'timestamp': 1693602142.201729}}\n"
     ]
    },
    {
     "ename": "AssertionError",
     "evalue": "<function measure at 0x7fd76a4b2d40> does not implement all Flyable methods",
     "output_type": "error",
     "traceback": [
      "\u001b[0;31m---------------------------------------------------------------------------\u001b[0m",
      "\u001b[0;31mAssertionError\u001b[0m                            Traceback (most recent call last)",
      "Cell \u001b[0;32mIn[2], line 37\u001b[0m\n\u001b[1;32m     30\u001b[0m     \u001b[39mreturn\u001b[39;00m uid\n\u001b[1;32m     35\u001b[0m \u001b[39mfor\u001b[39;00m i \u001b[39min\u001b[39;00m \u001b[39mrange\u001b[39m(\u001b[39m1\u001b[39m,\u001b[39m13\u001b[39m):\n\u001b[1;32m     36\u001b[0m     \u001b[39m#grab sample i and hold in Measurement Pos\u001b[39;00m\n\u001b[0;32m---> 37\u001b[0m     RE(measure(det,sample,i))\n",
      "File \u001b[0;32m~/git-repos/secop-ophyd/.venv/lib64/python3.11/site-packages/bluesky/run_engine.py:899\u001b[0m, in \u001b[0;36mRunEngine.__call__\u001b[0;34m(self, *args, **metadata_kw)\u001b[0m\n\u001b[1;32m    895\u001b[0m         \u001b[39mself\u001b[39m\u001b[39m.\u001b[39m_blocking_event\u001b[39m.\u001b[39mset()\n\u001b[1;32m    897\u001b[0m     \u001b[39mself\u001b[39m\u001b[39m.\u001b[39m_task_fut\u001b[39m.\u001b[39madd_done_callback(set_blocking_event)\n\u001b[0;32m--> 899\u001b[0m plan_return \u001b[39m=\u001b[39m \u001b[39mself\u001b[39;49m\u001b[39m.\u001b[39;49m_resume_task(init_func\u001b[39m=\u001b[39;49m_build_task)\n\u001b[1;32m    901\u001b[0m \u001b[39mif\u001b[39;00m \u001b[39mself\u001b[39m\u001b[39m.\u001b[39m_interrupted:\n\u001b[1;32m    902\u001b[0m     \u001b[39mraise\u001b[39;00m RunEngineInterrupted(\u001b[39mself\u001b[39m\u001b[39m.\u001b[39mpause_msg) \u001b[39mfrom\u001b[39;00m \u001b[39mNone\u001b[39;00m\n",
      "File \u001b[0;32m~/git-repos/secop-ophyd/.venv/lib64/python3.11/site-packages/bluesky/run_engine.py:1038\u001b[0m, in \u001b[0;36mRunEngine._resume_task\u001b[0;34m(self, init_func)\u001b[0m\n\u001b[1;32m   1034\u001b[0m \u001b[39m# if the main task exception is not None, re-raise\u001b[39;00m\n\u001b[1;32m   1035\u001b[0m \u001b[39m# it (unless it is a canceled error)\u001b[39;00m\n\u001b[1;32m   1036\u001b[0m \u001b[39mif\u001b[39;00m (exc \u001b[39mis\u001b[39;00m \u001b[39mnot\u001b[39;00m \u001b[39mNone\u001b[39;00m\n\u001b[1;32m   1037\u001b[0m         \u001b[39mand\u001b[39;00m \u001b[39mnot\u001b[39;00m \u001b[39misinstance\u001b[39m(exc, _RunEnginePanic)):\n\u001b[0;32m-> 1038\u001b[0m     \u001b[39mraise\u001b[39;00m exc\n\u001b[1;32m   1039\u001b[0m \u001b[39m# Only try to get a result if there wasn't an error,\u001b[39;00m\n\u001b[1;32m   1040\u001b[0m \u001b[39m# (other than a cancelled error)\u001b[39;00m\n\u001b[1;32m   1041\u001b[0m \u001b[39mif\u001b[39;00m exc \u001b[39mis\u001b[39;00m \u001b[39mNone\u001b[39;00m:\n",
      "File \u001b[0;32m~/git-repos/secop-ophyd/.venv/lib64/python3.11/site-packages/bluesky/run_engine.py:1668\u001b[0m, in \u001b[0;36mRunEngine._run\u001b[0;34m(self)\u001b[0m\n\u001b[1;32m   1666\u001b[0m     exit_reason \u001b[39m=\u001b[39m \u001b[39mstr\u001b[39m(err)\n\u001b[1;32m   1667\u001b[0m     \u001b[39mself\u001b[39m\u001b[39m.\u001b[39mlog\u001b[39m.\u001b[39mexception(\u001b[39m\"\u001b[39m\u001b[39mRun aborted\u001b[39m\u001b[39m\"\u001b[39m)\n\u001b[0;32m-> 1668\u001b[0m     \u001b[39mraise\u001b[39;00m err\n\u001b[1;32m   1669\u001b[0m \u001b[39mfinally\u001b[39;00m:\n\u001b[1;32m   1670\u001b[0m     \u001b[39mif\u001b[39;00m \u001b[39mnot\u001b[39;00m exit_reason:\n",
      "File \u001b[0;32m~/git-repos/secop-ophyd/.venv/lib64/python3.11/site-packages/bluesky/run_engine.py:1503\u001b[0m, in \u001b[0;36mRunEngine._run\u001b[0;34m(self)\u001b[0m\n\u001b[1;32m   1500\u001b[0m \u001b[39mif\u001b[39;00m (stashed_exception \u001b[39mis\u001b[39;00m \u001b[39mnot\u001b[39;00m \u001b[39mNone\u001b[39;00m \u001b[39mor\u001b[39;00m \u001b[39misinstance\u001b[39m(resp, \u001b[39mException\u001b[39;00m)):\n\u001b[1;32m   1501\u001b[0m     \u001b[39m# throw the exception at the current plan\u001b[39;00m\n\u001b[1;32m   1502\u001b[0m     \u001b[39mtry\u001b[39;00m:\n\u001b[0;32m-> 1503\u001b[0m         msg \u001b[39m=\u001b[39m \u001b[39mself\u001b[39m\u001b[39m.\u001b[39m_plan_stack[\u001b[39m-\u001b[39m\u001b[39m1\u001b[39m]\u001b[39m.\u001b[39mthrow(stashed_exception \u001b[39mor\u001b[39;00m resp)\n\u001b[1;32m   1504\u001b[0m     \u001b[39mexcept\u001b[39;00m \u001b[39mException\u001b[39;00m \u001b[39mas\u001b[39;00m e:\n\u001b[1;32m   1505\u001b[0m         \u001b[39m# The current plan did not handle it,\u001b[39;00m\n\u001b[1;32m   1506\u001b[0m         \u001b[39m# maybe the next plan (if any) would like\u001b[39;00m\n\u001b[1;32m   1507\u001b[0m         \u001b[39m# to try\u001b[39;00m\n\u001b[1;32m   1508\u001b[0m         \u001b[39mself\u001b[39m\u001b[39m.\u001b[39m_plan_stack\u001b[39m.\u001b[39mpop()\n",
      "Cell \u001b[0;32mIn[2], line 16\u001b[0m, in \u001b[0;36mmeasure\u001b[0;34m(detectors, sample, sample_num)\u001b[0m\n\u001b[1;32m     14\u001b[0m \u001b[39m# Get the status object that tells us when it's done\u001b[39;00m\n\u001b[1;32m     15\u001b[0m uid \u001b[39m=\u001b[39m  \u001b[39myield from\u001b[39;00m bps\u001b[39m.\u001b[39mopen_run()\n\u001b[0;32m---> 16\u001b[0m complete_status \u001b[39m=\u001b[39m \u001b[39myield from\u001b[39;00m bps\u001b[39m.\u001b[39mcomplete(measure, wait\u001b[39m=\u001b[39m\u001b[39mFalse\u001b[39;00m) \u001b[39m#This message doesn't exist yet\u001b[39;00m\n\u001b[1;32m     18\u001b[0m \u001b[39m# While the device is still executing, read from the detectors in the detectors list\u001b[39;00m\n\u001b[1;32m     19\u001b[0m \u001b[39mwhile\u001b[39;00m \u001b[39mnot\u001b[39;00m complete_status\u001b[39m.\u001b[39mdone:\n",
      "File \u001b[0;32m~/git-repos/secop-ophyd/.venv/lib64/python3.11/site-packages/bluesky/plan_stubs.py:657\u001b[0m, in \u001b[0;36mcomplete\u001b[0;34m(obj, group, wait, **kwargs)\u001b[0m\n\u001b[1;32m    624\u001b[0m \u001b[39mdef\u001b[39;00m \u001b[39mcomplete\u001b[39m(obj, \u001b[39m*\u001b[39m, group\u001b[39m=\u001b[39m\u001b[39mNone\u001b[39;00m, wait\u001b[39m=\u001b[39m\u001b[39mFalse\u001b[39;00m, \u001b[39m*\u001b[39m\u001b[39m*\u001b[39mkwargs):\n\u001b[1;32m    625\u001b[0m \u001b[39m    \u001b[39m\u001b[39m\"\"\"\u001b[39;00m\n\u001b[1;32m    626\u001b[0m \u001b[39m    Tell a flyer, 'stop collecting, whenever you are ready'.\u001b[39;00m\n\u001b[1;32m    627\u001b[0m \n\u001b[0;32m   (...)\u001b[0m\n\u001b[1;32m    655\u001b[0m \u001b[39m    :func:`bluesky.plan_stubs.wait`\u001b[39;00m\n\u001b[1;32m    656\u001b[0m \u001b[39m    \"\"\"\u001b[39;00m\n\u001b[0;32m--> 657\u001b[0m     ret \u001b[39m=\u001b[39m \u001b[39myield\u001b[39;00m Msg(\u001b[39m'\u001b[39m\u001b[39mcomplete\u001b[39m\u001b[39m'\u001b[39m, obj, group\u001b[39m=\u001b[39mgroup, \u001b[39m*\u001b[39m\u001b[39m*\u001b[39mkwargs)\n\u001b[1;32m    658\u001b[0m     \u001b[39mif\u001b[39;00m wait:\n\u001b[1;32m    659\u001b[0m         \u001b[39myield from\u001b[39;00m _wait(group\u001b[39m=\u001b[39mgroup)\n",
      "File \u001b[0;32m~/git-repos/secop-ophyd/.venv/lib64/python3.11/site-packages/bluesky/run_engine.py:1588\u001b[0m, in \u001b[0;36mRunEngine._run\u001b[0;34m(self)\u001b[0m\n\u001b[1;32m   1583\u001b[0m \u001b[39m# try to finally run the command the user asked for\u001b[39;00m\n\u001b[1;32m   1584\u001b[0m \u001b[39mtry\u001b[39;00m:\n\u001b[1;32m   1585\u001b[0m     \u001b[39m# this is one of two places that 'async'\u001b[39;00m\n\u001b[1;32m   1586\u001b[0m     \u001b[39m# exceptions (coming in via throw) can be\u001b[39;00m\n\u001b[1;32m   1587\u001b[0m     \u001b[39m# raised\u001b[39;00m\n\u001b[0;32m-> 1588\u001b[0m     new_response \u001b[39m=\u001b[39m \u001b[39mawait\u001b[39;00m coro(msg)\n\u001b[1;32m   1590\u001b[0m \u001b[39m# special case `CancelledError` and let the outer\u001b[39;00m\n\u001b[1;32m   1591\u001b[0m \u001b[39m# exception block deal with it.\u001b[39;00m\n\u001b[1;32m   1592\u001b[0m \u001b[39mexcept\u001b[39;00m asyncio\u001b[39m.\u001b[39mCancelledError:\n",
      "File \u001b[0;32m~/git-repos/secop-ophyd/.venv/lib64/python3.11/site-packages/bluesky/run_engine.py:2069\u001b[0m, in \u001b[0;36mRunEngine._complete\u001b[0;34m(self, msg)\u001b[0m\n\u001b[1;32m   2067\u001b[0m kwargs \u001b[39m=\u001b[39m \u001b[39mdict\u001b[39m(msg\u001b[39m.\u001b[39mkwargs)\n\u001b[1;32m   2068\u001b[0m group \u001b[39m=\u001b[39m kwargs\u001b[39m.\u001b[39mpop(\u001b[39m\"\u001b[39m\u001b[39mgroup\u001b[39m\u001b[39m\"\u001b[39m, \u001b[39mNone\u001b[39;00m)\n\u001b[0;32m-> 2069\u001b[0m obj \u001b[39m=\u001b[39m check_supports(msg\u001b[39m.\u001b[39;49mobj, Flyable)\n\u001b[1;32m   2070\u001b[0m warn_if_msg_args_or_kwargs(msg, obj\u001b[39m.\u001b[39mcomplete, msg\u001b[39m.\u001b[39margs, kwargs)\n\u001b[1;32m   2071\u001b[0m ret \u001b[39m=\u001b[39m obj\u001b[39m.\u001b[39mcomplete(\u001b[39m*\u001b[39mmsg\u001b[39m.\u001b[39margs, \u001b[39m*\u001b[39m\u001b[39m*\u001b[39mkwargs)\n",
      "File \u001b[0;32m~/git-repos/secop-ophyd/.venv/lib64/python3.11/site-packages/bluesky/protocols.py:492\u001b[0m, in \u001b[0;36mcheck_supports\u001b[0;34m(obj, protocol)\u001b[0m\n\u001b[1;32m    481\u001b[0m \u001b[39mdef\u001b[39;00m \u001b[39mcheck_supports\u001b[39m(obj, protocol: Type[T]) \u001b[39m-\u001b[39m\u001b[39m>\u001b[39m T:\n\u001b[1;32m    482\u001b[0m \u001b[39m    \u001b[39m\u001b[39m\"\"\"Check that an object supports a protocol\u001b[39;00m\n\u001b[1;32m    483\u001b[0m \n\u001b[1;32m    484\u001b[0m \u001b[39m    This exists so that multiple protocol checks can be run in a mypy\u001b[39;00m\n\u001b[0;32m   (...)\u001b[0m\n\u001b[1;32m    490\u001b[0m \u001b[39m        readable.read()\u001b[39;00m\n\u001b[1;32m    491\u001b[0m \u001b[39m    \"\"\"\u001b[39;00m\n\u001b[0;32m--> 492\u001b[0m     \u001b[39massert\u001b[39;00m \u001b[39misinstance\u001b[39m(obj, protocol), \\\n\u001b[1;32m    493\u001b[0m         \u001b[39m\"\u001b[39m\u001b[39m%s\u001b[39;00m\u001b[39m does not implement all \u001b[39m\u001b[39m%s\u001b[39;00m\u001b[39m methods\u001b[39m\u001b[39m\"\u001b[39m \u001b[39m%\u001b[39m (obj, protocol\u001b[39m.\u001b[39m\u001b[39m__name__\u001b[39m)\n\u001b[1;32m    494\u001b[0m     \u001b[39mreturn\u001b[39;00m obj\n",
      "\u001b[0;31mAssertionError\u001b[0m: <function measure at 0x7fd76a4b2d40> does not implement all Flyable methods"
     ]
    }
   ],
   "source": [
    "\n",
    "\n",
    "def measure(detectors,sample,sample_num):\n",
    "    reading = yield from bps.read(sample)\n",
    "    print(reading)\n",
    "    \n",
    "    curr_sample = reading[sample.value.name]['value']\n",
    "    \n",
    "    if curr_sample != 0 and curr_sample  != sample_num :\n",
    "        yield from bps.mv(sample,0)\n",
    "    \n",
    "    \n",
    "    if curr_sample is not sample_num:\n",
    "        yield from bps.mv(sample,i)\n",
    "    \n",
    "    # Get the status object that tells us when it's done\n",
    "    uid =  yield from bps.open_run()\n",
    "    complete_status = yield from bps.complete(measure, wait=False) #This message doesn't exist yet\n",
    " \n",
    "    # While the device is still executing, read from the detectors in the detectors list\n",
    "    while not complete_status.done:\n",
    "\n",
    "        yield Msg('checkpoint') # allows us to pause the run \n",
    "        yield from bps.one_shot(detectors) #triggers and reads everything in the detectors list\n",
    "        yield Msg('sleep', None, 1)\n",
    "        \n",
    "    \n",
    "    yield bps.close_run()\n",
    "    \n",
    "    yield from  RE(bps.mv(sample,0))\n",
    "\n",
    "    return uid\n",
    "\n",
    "\n",
    "\n",
    "\n",
    "for i in range(1,13):\n",
    "    #grab sample i and hold in Measurement Pos\n",
    "    RE(measure(det,sample,i))\n",
    "    \n",
    "\n",
    "    \n"
   ]
  }
 ],
 "metadata": {
  "kernelspec": {
   "display_name": ".venv",
   "language": "python",
   "name": "python3"
  },
  "language_info": {
   "codemirror_mode": {
    "name": "ipython",
    "version": 3
   },
   "file_extension": ".py",
   "mimetype": "text/x-python",
   "name": "python",
   "nbconvert_exporter": "python",
   "pygments_lexer": "ipython3",
   "version": "3.11.4"
  },
  "orig_nbformat": 4
 },
 "nbformat": 4,
 "nbformat_minor": 2
}
